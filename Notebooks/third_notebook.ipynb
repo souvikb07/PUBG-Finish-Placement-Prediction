{
  "cells": [
    {
      "metadata": {
        "trusted": true,
        "_uuid": "f99db069d8b2fd05e7e81997b3f55c57bd972c0d"
      },
      "cell_type": "markdown",
      "source": "This kernel features:\n\n- The Killers\n- The Runners\n- The Drivers\n- The Swimmers\n- The Healers\n- Solos, Duos and Squads\n- Correlation\n- Feature Engineering"
    },
    {
      "metadata": {
        "trusted": true,
        "_uuid": "ee80a60d31a097e195bea45e6695803fcebcb700"
      },
      "cell_type": "code",
      "source": "import numpy as np\nimport pandas as pd\nimport matplotlib.pyplot as plt\nimport seaborn as sns \nimport warnings\nwarnings.filterwarnings(\"ignore\")",
      "execution_count": null,
      "outputs": []
    },
    {
      "metadata": {
        "trusted": true,
        "_uuid": "aaa0baddc2336ebc996b2b2fb846c8dce60d4592"
      },
      "cell_type": "code",
      "source": "train = pd.read_csv('../input/train.csv')\n",
      "execution_count": null,
      "outputs": []
    },
    {
      "metadata": {
        "trusted": true,
        "_uuid": "ab4e69ef58f22c2e10c116e5da42bd195a06a343"
      },
      "cell_type": "code",
      "source": "train.info()",
      "execution_count": null,
      "outputs": []
    },
    {
      "metadata": {
        "_uuid": "6509be0c0576179b1b3a64660f920c119e7b473d"
      },
      "cell_type": "markdown",
      "source": "groupId - Integer ID to identify a group within a match. If the same group of players plays in different matches, they will have a different groupId each time.\nmatchId - Integer ID to identify match. There are no matches that are in both the training and testing set.\nassists - Number of enemy players this player damaged that were killed by teammates.\nboosts - Number of boost items used.\ndamageDealt - Total damage dealt. Note: Self inflicted damage is subtracted.\nDBNOs - Number of enemy players knocked.\nheadshotKills - Number of enemy players killed with headshots.\nheals - Number of healing items used.\nkillPlace - Ranking in match of number of enemy players killed.\nkillPoints - Kills-based external ranking of player. (Think of this as an Elo ranking where only kills matter.)\nkills - Number of enemy players killed.\nkillStreaks - Max number of enemy players killed in a short amount of time.\nlongestKill - Longest distance between player and player killed at time of death. This may be misleading, as downing a - player and driving away may lead to a large longestKill stat.\nmaxPlace - Worst placement we have data for in the match. This may not match with numGroups, as sometimes the data skips over placements.\nnumGroups - Number of groups we have data for in the match.\nrevives - Number of times this player revived teammates.\nrideDistance - Total distance traveled in vehicles measured in meters.\nroadKills - Number of kills while in a vehicle.\nswimDistance - Total distance traveled by swimming measured in meters.\nteamKills - Number of times this player killed a teammate.\nvehicleDestroys - Number of vehicles destroyed.\nwalkDistance - Total distance traveled on foot measured in meters.\nweaponsAcquired - Number of weapons picked up.\nwinPoints - Win-based external ranking of player. (Think of this as an Elo ranking where only winning matters.)\nwinPlacePerc - The target of prediction. This is a percentile winning placement, where 1 corresponds to 1st place, and 0 corresponds to last place in the match. It is calculated off of maxPlace, not numGroups, so it is possible to have missing chunks in a match."
    },
    {
      "metadata": {
        "trusted": true,
        "_uuid": "3f3af428a1440f8f980fc69e87a5309b24bfa1e9"
      },
      "cell_type": "code",
      "source": "train.head()",
      "execution_count": null,
      "outputs": []
    },
    {
      "metadata": {
        "_uuid": "96e96582886da9163047900f9d60460b9722e110"
      },
      "cell_type": "markdown",
      "source": "## The Killers"
    },
    {
      "metadata": {
        "trusted": true,
        "_uuid": "42c9de93501afed06493d5cf07021115c106547f"
      },
      "cell_type": "code",
      "source": "print(\"The average person kills {:.4f} players, 99% of people have {} kills or less, while the most kills ever recorded is {}.\".format(train['kills'].mean(),train['kills'].quantile(0.99), train['kills'].max()))",
      "execution_count": null,
      "outputs": []
    },
    {
      "metadata": {
        "trusted": true,
        "_uuid": "fa16173b4353f468708d4978ee2471ef794186c1"
      },
      "cell_type": "code",
      "source": "# plot kill count\ndata = train.copy()\ndata.loc[data['kills'] > data['kills'].quantile(0.99)] = '8+'\nplt.figure(figsize=(15,10))\nsns.countplot(data['kills'].astype('str').sort_values())\nplt.title(\"Kill Count\",fontsize=15)\nplt.show()",
      "execution_count": null,
      "outputs": []
    },
    {
      "metadata": {
        "trusted": true,
        "_uuid": "8615f9214dee9106952912bd371d3ff3744e492b"
      },
      "cell_type": "markdown",
      "source": "Most people can't make a single kill. At least do they do damage?"
    },
    {
      "metadata": {
        "trusted": true,
        "_uuid": "f2b03a710378f66702e433c54a3a957b35dc1ee6"
      },
      "cell_type": "code",
      "source": "data = train.copy()\ndata = data[data['kills']==0]\nplt.figure(figsize=(15,10))\nplt.title(\"Damage Dealt by 0 killers\",fontsize=15)\nsns.distplot(data['damageDealt'])\nplt.show()",
      "execution_count": null,
      "outputs": []
    },
    {
      "metadata": {
        "trusted": true,
        "_uuid": "d4139da9f0ee4640daf769f9212cb03152315191"
      },
      "cell_type": "markdown",
      "source": "Well, most of them don't. Let's investigate the exceptions."
    },
    {
      "metadata": {
        "trusted": true,
        "_uuid": "c8cf4c39af6cd8a2c8dcfdc9fb67dd19c20cd7f8"
      },
      "cell_type": "code",
      "source": "print(\"{} players ({:.4f}%) have won without a single kill!\".format(len(data[data['winPlacePerc']==1]), 100*len(data[data['winPlacePerc']==1])/len(train)))\n\ndata1 = train[train['damageDealt'] == 0].copy()\nprint(\"{} players ({:.4f}%) have won without dealing damage!\".format(len(data1[data1['winPlacePerc']==1]), 100*len(data1[data1['winPlacePerc']==1])/len(train)))",
      "execution_count": null,
      "outputs": []
    },
    {
      "metadata": {
        "_uuid": "6b5bc0f744b877a5f9093e001466cd9077121f92"
      },
      "cell_type": "markdown",
      "source": "Plot win placement percentage vs kills."
    },
    {
      "metadata": {
        "trusted": true,
        "_uuid": "53d5944337f391d25e686a1e861f0e7b43ce9890"
      },
      "cell_type": "code",
      "source": "sns.jointplot(x=\"winPlacePerc\", y=\"kills\", data=train, height=10, ratio=3, color=\"r\")\nplt.show()",
      "execution_count": null,
      "outputs": []
    },
    {
      "metadata": {
        "_uuid": "f13d666efe227749d39c8a75356367b31911a3e3"
      },
      "cell_type": "markdown",
      "source": "Apparentrly killing has a correlation with winning. Finally let's group players based on kills (0 kills, 1-2 kills, 3-5 kills, 6-10 kills and 10+ kills)."
    },
    {
      "metadata": {
        "trusted": true,
        "_uuid": "e785b6d9202e04a67cad039748037358123c7ed0"
      },
      "cell_type": "code",
      "source": "kills = train.copy()\n\nkills['killsCategories'] = pd.cut(kills['kills'], [-1, 0, 2, 5, 10, 60], labels=['0_kills','1-2_kills', '3-5_kills', '6-10_kills', '10+_kills'])\n\nplt.figure(figsize=(15,8))\nsns.boxplot(x=\"killsCategories\", y=\"winPlacePerc\", data=kills)\nplt.show()",
      "execution_count": null,
      "outputs": []
    },
    {
      "metadata": {
        "_uuid": "44fb5267bc9c46368e1e50754c2cb8a78ce187f2"
      },
      "cell_type": "markdown",
      "source": "## The Runners"
    },
    {
      "metadata": {
        "trusted": true,
        "_uuid": "ab3d8a19fed78f252301113b316a2ead8cd033b7"
      },
      "cell_type": "code",
      "source": "print(\"The average person walks for {:.1f}m, 99% of people have walked {}m or less, while the marathoner champion walked for {}m.\".format(train['walkDistance'].mean(), train['walkDistance'].quantile(0.99), train['walkDistance'].max()))",
      "execution_count": null,
      "outputs": []
    },
    {
      "metadata": {
        "trusted": true,
        "_uuid": "b1404b98d0faf470e5af3c11896549393c55b141"
      },
      "cell_type": "code",
      "source": "data = train.copy()\ndata = data[data['walkDistance'] < train['walkDistance'].quantile(0.99)]\nplt.figure(figsize=(15,10))\nplt.title(\"Walking Distance Distribution\",fontsize=15)\nsns.distplot(data['walkDistance'])\nplt.show()",
      "execution_count": null,
      "outputs": []
    },
    {
      "metadata": {
        "trusted": true,
        "_uuid": "c5a6bbd48fbee44e56c1608c89ea9d68c8aa9c77"
      },
      "cell_type": "code",
      "source": "print(\"{} players ({:.4f}%) walked 0 meters. This means that they die before even taking a step or they are afk (more possible).\".format(len(data[data['walkDistance'] == 0]), 100*len(data1[data1['walkDistance']==0])/len(train)))",
      "execution_count": null,
      "outputs": []
    },
    {
      "metadata": {
        "trusted": true,
        "_uuid": "d10c834651127155acca59d9aec5056b604af70c"
      },
      "cell_type": "code",
      "source": "sns.jointplot(x=\"winPlacePerc\", y=\"walkDistance\",  data=train, height=10, ratio=3, color=\"lime\")\nplt.show()",
      "execution_count": null,
      "outputs": []
    },
    {
      "metadata": {
        "_uuid": "05e080a3b8e946362bf42c66c3849ca50fd92223"
      },
      "cell_type": "markdown",
      "source": "Apparently walking has a high correlation with winPlacePerc."
    },
    {
      "metadata": {
        "_uuid": "27e70fbd64f23d95931ef2077668c9a62690d7b7"
      },
      "cell_type": "markdown",
      "source": "## The Drivers"
    },
    {
      "metadata": {
        "trusted": true,
        "_uuid": "1a7d67d2c95921ce0a3e7171ccf9a77e8ffbecd1"
      },
      "cell_type": "code",
      "source": "print(\"The average person drives for {:.1f}m, 99% of people have drived {}m or less, while the formula 1 champion drived for {}m.\".format(train['rideDistance'].mean(), train['rideDistance'].quantile(0.99), train['rideDistance'].max()))",
      "execution_count": null,
      "outputs": []
    },
    {
      "metadata": {
        "trusted": true,
        "_uuid": "bf381ba36de9e4b4356f825fd4e2dd2a99d05094"
      },
      "cell_type": "code",
      "source": "data = train.copy()\ndata = data[data['rideDistance'] < train['rideDistance'].quantile(0.9)]\nplt.figure(figsize=(15,10))\nplt.title(\"Ride Distance Distribution\",fontsize=15)\nsns.distplot(data['rideDistance'])\nplt.show()",
      "execution_count": null,
      "outputs": []
    },
    {
      "metadata": {
        "trusted": true,
        "_uuid": "fbc2eed384b34da9eba436ed78075cb1db44c64b"
      },
      "cell_type": "code",
      "source": "print(\"{} players ({:.4f}%) drived for 0 meters. This means that they don't have a driving licence yet.\".format(len(data[data['rideDistance'] == 0]), 100*len(data1[data1['rideDistance']==0])/len(train)))",
      "execution_count": null,
      "outputs": []
    },
    {
      "metadata": {
        "trusted": true,
        "_uuid": "699a27f43166d700f75037b9883aa8f028380e90"
      },
      "cell_type": "code",
      "source": "sns.jointplot(x=\"winPlacePerc\", y=\"rideDistance\", data=train, height=10, ratio=3, color=\"y\")\nplt.show()",
      "execution_count": null,
      "outputs": []
    },
    {
      "metadata": {
        "_uuid": "660959092e0570751ac30a886c16fe74cc484c0a"
      },
      "cell_type": "markdown",
      "source": "There is a small correlation between rideDistance and winPlacePerc."
    },
    {
      "metadata": {
        "_uuid": "4baa4bd41a023fbef9fa3ef2d7f586983399d9af"
      },
      "cell_type": "markdown",
      "source": "Destroying a vehicle in my experience shows that a player has skills. Let's check it."
    },
    {
      "metadata": {
        "trusted": true,
        "_uuid": "5f498db3177815760b61303ebd33fb767ddde2ea"
      },
      "cell_type": "code",
      "source": "f,ax1 = plt.subplots(figsize =(20,10))\nsns.pointplot(x='vehicleDestroys',y='winPlacePerc',data=data,color='#606060',alpha=0.8)\nplt.xlabel('Number of Vehicle Destroys',fontsize = 15,color='blue')\nplt.ylabel('Win Percentage',fontsize = 15,color='blue')\nplt.title('Vehicle Destroys/ Win Ratio',fontsize = 20,color='blue')\nplt.grid()\nplt.show()",
      "execution_count": null,
      "outputs": []
    },
    {
      "metadata": {
        "_uuid": "880eeb8025d221a19809ed0790c2248e051d95c5"
      },
      "cell_type": "markdown",
      "source": "My experience was correct. Destroying a single vehicle increases your chances of winning!"
    },
    {
      "metadata": {
        "_uuid": "5821ba99bedf90e72918723533ba2c1d9f07f079"
      },
      "cell_type": "markdown",
      "source": "## The Swimmers"
    },
    {
      "metadata": {
        "trusted": true,
        "_uuid": "3d01b8eac6d35830a2b55401940a1b01642d4e29"
      },
      "cell_type": "code",
      "source": "print(\"The average person swims for {:.1f}m, 99% of people have swimemd {}m or less, while the olympic champion swimmed for {}m.\".format(train['swimDistance'].mean(), train['swimDistance'].quantile(0.99), train['swimDistance'].max()))",
      "execution_count": null,
      "outputs": []
    },
    {
      "metadata": {
        "trusted": true,
        "_uuid": "7ae30333ce9ba27b36a8402f4d196083178b6fec"
      },
      "cell_type": "code",
      "source": "data = train.copy()\ndata = data[data['swimDistance'] < train['swimDistance'].quantile(0.95)]\nplt.figure(figsize=(15,10))\nplt.title(\"Swim Distance Distribution\",fontsize=15)\nsns.distplot(data['swimDistance'])\nplt.show()",
      "execution_count": null,
      "outputs": []
    },
    {
      "metadata": {
        "_uuid": "ca86cd4676b5af75a5be7cabac0d8bdd78974372"
      },
      "cell_type": "markdown",
      "source": "Almost no one swims. Let's group the swimming distances in 4 categories and plot vs winPlacePerc."
    },
    {
      "metadata": {
        "trusted": true,
        "_uuid": "a6e6841daec703c6336f083ec157d58a4f34068a"
      },
      "cell_type": "code",
      "source": "swim = train.copy()\n\nswim['swimDistance'] = pd.cut(swim['swimDistance'], [-1, 0, 5, 20, 5286], labels=['0m','1-5m', '6-20m', '20m+'])\n\nplt.figure(figsize=(15,8))\nsns.boxplot(x=\"swimDistance\", y=\"winPlacePerc\", data=swim)\nplt.show()",
      "execution_count": null,
      "outputs": []
    },
    {
      "metadata": {
        "_uuid": "a96e7c544c2086eea87506eba2c99cd100c4b0ee"
      },
      "cell_type": "markdown",
      "source": "It seems that if you swim, you rise to the top. In PUBG there are currently 3 maps. One of them has almost no water. Keep that in mind. I might plan on doing analysis to find out in which map a match is played."
    },
    {
      "metadata": {
        "_uuid": "efd52f3655f3a2178fa6a606f75fd41e42871da1"
      },
      "cell_type": "markdown",
      "source": "## The Healers"
    },
    {
      "metadata": {
        "trusted": true,
        "_uuid": "147d640e4158c1cb40aac22b0af0d84dd57d4856"
      },
      "cell_type": "code",
      "source": "print(\"The average person uses {:.1f} heal items, 99% of people use {} or less, while the doctor used {}.\".format(train['heals'].mean(), train['heals'].quantile(0.99), train['heals'].max()))\nprint(\"The average person uses {:.1f} boost items, 99% of people use {} or less, while the doctor used {}.\".format(train['boosts'].mean(), train['boosts'].quantile(0.99), train['boosts'].max()))",
      "execution_count": null,
      "outputs": []
    },
    {
      "metadata": {
        "trusted": true,
        "_uuid": "1ed12168b99639b54140930a47b0dfb38e86d508"
      },
      "cell_type": "code",
      "source": "data = train.copy()\ndata = data[data['heals'] < data['heals'].quantile(0.99)]\ndata = data[data['boosts'] < data['boosts'].quantile(0.99)]\n\nf,ax1 = plt.subplots(figsize =(20,10))\nsns.pointplot(x='heals',y='winPlacePerc',data=data,color='lime',alpha=0.8)\nsns.pointplot(x='boosts',y='winPlacePerc',data=data,color='blue',alpha=0.8)\nplt.text(4,0.6,'Heals',color='lime',fontsize = 17,style = 'italic')\nplt.text(4,0.55,'Boosts',color='blue',fontsize = 17,style = 'italic')\nplt.xlabel('Number of heal/boost items',fontsize = 15,color='blue')\nplt.ylabel('Win Percentage',fontsize = 15,color='blue')\nplt.title('Heals vs Boosts',fontsize = 20,color='blue')\nplt.grid()\nplt.show()",
      "execution_count": null,
      "outputs": []
    },
    {
      "metadata": {
        "trusted": true,
        "_uuid": "a3065b0eb4a033984d72861548903c6a52f6b19e"
      },
      "cell_type": "code",
      "source": "sns.jointplot(x=\"winPlacePerc\", y=\"heals\", data=train, height=10, ratio=3, color=\"lime\")\nplt.show()",
      "execution_count": null,
      "outputs": []
    },
    {
      "metadata": {
        "trusted": true,
        "_uuid": "019f064aa08edb3448fffeb5cb8842962e1e414b"
      },
      "cell_type": "code",
      "source": "sns.jointplot(x=\"winPlacePerc\", y=\"boosts\", data=train, height=10, ratio=3, color=\"blue\")\nplt.show()",
      "execution_count": null,
      "outputs": []
    },
    {
      "metadata": {
        "_uuid": "ae25d9a6dc81f05d2e24f196313a86a40eff6cb8"
      },
      "cell_type": "markdown",
      "source": "So healing and boosting, definitely are correlated with winPlacePerc. Boosting is more."
    },
    {
      "metadata": {
        "_uuid": "97029d857f632890abbde59f836920862d2f3079"
      },
      "cell_type": "markdown",
      "source": "In every plot, there is an abnormal behavior when values are 0."
    },
    {
      "metadata": {
        "_uuid": "b84b9429d28dfc5c3ea57192c5948cac945a2ce5"
      },
      "cell_type": "markdown",
      "source": "## Solos, Duos and Squads"
    },
    {
      "metadata": {
        "_uuid": "0c5f98f2b23dd9480a17a737681c62935a7276d4"
      },
      "cell_type": "markdown",
      "source": "There are 3 game modes in the game. One can play solo, or with a friend (duo), or with 3 other friends (squad). 100 players join the same server, so in the case of duos the max teams are 50 and in the case of squads the max teams are 25."
    },
    {
      "metadata": {
        "trusted": true,
        "_uuid": "32e75a74cb3866d0363adedd625d271a712938bb"
      },
      "cell_type": "code",
      "source": "solos = train[train['numGroups']>50]\nduos = train[(train['numGroups']>25) & (train['numGroups']<=50)]\nsquads = train[train['numGroups']<=25]\nprint(\"There are {} ({:.2f}%) solo games, {} ({:.2f}%) duo games and {} ({:.2f}%) squad games.\".format(len(solos), 100*len(solos)/len(train), len(duos), 100*len(duos)/len(train), len(squads), 100*len(squads)/len(train),))",
      "execution_count": null,
      "outputs": []
    },
    {
      "metadata": {
        "trusted": true,
        "_uuid": "a58cf2d4dccd5196dc95319593accce0b068f336"
      },
      "cell_type": "code",
      "source": "f,ax1 = plt.subplots(figsize =(20,10))\nsns.pointplot(x='kills',y='winPlacePerc',data=solos,color='black',alpha=0.8)\nsns.pointplot(x='kills',y='winPlacePerc',data=duos,color='#CC0000',alpha=0.8)\nsns.pointplot(x='kills',y='winPlacePerc',data=squads,color='#3399FF',alpha=0.8)\nplt.text(37,0.6,'Solos',color='black',fontsize = 17,style = 'italic')\nplt.text(37,0.55,'Duos',color='#CC0000',fontsize = 17,style = 'italic')\nplt.text(37,0.5,'Squads',color='#3399FF',fontsize = 17,style = 'italic')\nplt.xlabel('Number of kills',fontsize = 15,color='blue')\nplt.ylabel('Win Percentage',fontsize = 15,color='blue')\nplt.title('Solo vs Duo vs Squad Kills',fontsize = 20,color='blue')\nplt.grid()\nplt.show()",
      "execution_count": null,
      "outputs": []
    },
    {
      "metadata": {
        "_uuid": "bb3f3c6da299f78258fed9a1cc31cdc976ff55c3"
      },
      "cell_type": "markdown",
      "source": "Hmm, very interesting. Solos and duos behave the same, but when playing squads kills don't matter that much."
    },
    {
      "metadata": {
        "_uuid": "42a5c7771f309747888459d14b9a4fa97d4ebebd"
      },
      "cell_type": "markdown",
      "source": "The attribute DBNOs means enemy players knocked. A \"knock\" can happen only in duos or squads, because the teammates have the chance to \"revive\" the knocked player in a given time. So a knocked player can be revived or die. If he is revived, the next time he will be knocked, his teammates will have less time to revive him.\n\nThe attribute assist can also happen only in duos or squads. It generally means that the player had an involvement in a kill.\n\nThe attribute revive also happens in duos or squads."
    },
    {
      "metadata": {
        "trusted": true,
        "_uuid": "76e7ebaf89410348937ba0fff8ed89e581203806"
      },
      "cell_type": "code",
      "source": "f,ax1 = plt.subplots(figsize =(20,10))\nsns.pointplot(x='DBNOs',y='winPlacePerc',data=duos,color='#CC0000',alpha=0.8)\nsns.pointplot(x='DBNOs',y='winPlacePerc',data=squads,color='#3399FF',alpha=0.8)\nsns.pointplot(x='assists',y='winPlacePerc',data=duos,color='#FF6666',alpha=0.8)\nsns.pointplot(x='assists',y='winPlacePerc',data=squads,color='#CCE5FF',alpha=0.8)\nsns.pointplot(x='revives',y='winPlacePerc',data=duos,color='#660000',alpha=0.8)\nsns.pointplot(x='revives',y='winPlacePerc',data=squads,color='#000066',alpha=0.8)\nplt.text(14,0.5,'Duos - Assists',color='#FF6666',fontsize = 17,style = 'italic')\nplt.text(14,0.45,'Duos - DBNOs',color='#CC0000',fontsize = 17,style = 'italic')\nplt.text(14,0.4,'Duos - Revives',color='#660000',fontsize = 17,style = 'italic')\nplt.text(14,0.35,'Squads - Assists',color='#CCE5FF',fontsize = 17,style = 'italic')\nplt.text(14,0.3,'Squads - DBNOs',color='#3399FF',fontsize = 17,style = 'italic')\nplt.text(14,0.25,'Squads - Revives',color='#000066',fontsize = 17,style = 'italic')\nplt.xlabel('Number of DBNOs/Assits/Revives',fontsize = 15,color='blue')\nplt.ylabel('Win Percentage',fontsize = 15,color='blue')\nplt.title('Duo vs Squad DBNOs, Assists, and Revives',fontsize = 20,color='blue')\nplt.grid()\nplt.show()",
      "execution_count": null,
      "outputs": []
    },
    {
      "metadata": {
        "_uuid": "58cae3c15849fffefe345514b25a9abd2ac8e066"
      },
      "cell_type": "markdown",
      "source": "## Pearson correlation between variables"
    },
    {
      "metadata": {
        "trusted": true,
        "_uuid": "9b9adeeec297a74a68155c50650ac2aa115dfa4a"
      },
      "cell_type": "code",
      "source": "f,ax = plt.subplots(figsize=(15, 15))\nsns.heatmap(train.corr(), annot=True, linewidths=.5, fmt= '.1f',ax=ax)\nplt.show()",
      "execution_count": null,
      "outputs": []
    },
    {
      "metadata": {
        "_uuid": "30af2397bf6bda6b09ffbd4cd462f0a918ee91cd"
      },
      "cell_type": "markdown",
      "source": "In terms of the target variable (winPlacePerc), there are a few variables high medium to high correlation. The highest positive correlation is walkDistance and the highest negative the killPlace."
    },
    {
      "metadata": {
        "_uuid": "8174bf0107d6057469449b265e36b96e6523b2c8"
      },
      "cell_type": "markdown",
      "source": "### Let's zoom to the top-5 most positive correlated variables with the target."
    },
    {
      "metadata": {
        "trusted": true,
        "_uuid": "8f88babfb218b02e8cbfaf4436b667d55b27a769"
      },
      "cell_type": "code",
      "source": "k = 5 #number of variables for heatmap\nf,ax = plt.subplots(figsize=(11, 11))\ncols = train.corr().nlargest(k, 'winPlacePerc')['winPlacePerc'].index\ncm = np.corrcoef(train[cols].values.T)\nsns.set(font_scale=1.25)\nhm = sns.heatmap(cm, cbar=True, annot=True, square=True, fmt='.2f', annot_kws={'size': 10}, yticklabels=cols.values, xticklabels=cols.values)\nplt.show()",
      "execution_count": null,
      "outputs": []
    },
    {
      "metadata": {
        "_uuid": "ff0eab4a03f5de46d1f5968f1913d50de0742aba"
      },
      "cell_type": "markdown",
      "source": "Let's plot the above variables and the killPlace variable as pairs."
    },
    {
      "metadata": {
        "trusted": true,
        "_uuid": "7462255bdc175842c8e4cf2ec64b6ca68a9ef935"
      },
      "cell_type": "code",
      "source": "sns.set()\ncols = ['winPlacePerc', 'walkDistance', 'boosts', 'weaponsAcquired', 'damageDealt', 'killPlace']\nsns.pairplot(train[cols], size = 2.5)\nplt.show()",
      "execution_count": null,
      "outputs": []
    },
    {
      "metadata": {
        "_uuid": "e393dfbfe46621d3d4aeb989c7d6f78dbf0520f0"
      },
      "cell_type": "markdown",
      "source": "## Feature Engineering"
    },
    {
      "metadata": {
        "_uuid": "f17c3f753ef8733c3bc7499a48145c87d0f52ece"
      },
      "cell_type": "markdown",
      "source": "A game in PUBG can have up to 100 players fighting each other. But most of the times a game isn't \"full\". There is no variable that gives us the number of players joined. So lets create one."
    },
    {
      "metadata": {
        "trusted": true,
        "_uuid": "ec482fba81244253096c2331c36dae1e06ac5ca1"
      },
      "cell_type": "code",
      "source": "train['playersJoined'] = train.groupby('matchId')['matchId'].transform('count')",
      "execution_count": null,
      "outputs": []
    },
    {
      "metadata": {
        "trusted": true,
        "_uuid": "7f603f138f201595ec699268d1efcf1b1ee34140"
      },
      "cell_type": "code",
      "source": "data = train.copy()\ndata = data[data['playersJoined']>49]\nplt.figure(figsize=(15,10))\nsns.countplot(data['playersJoined'])\nplt.title(\"Players Joined\",fontsize=15)\nplt.show()",
      "execution_count": null,
      "outputs": []
    },
    {
      "metadata": {
        "_uuid": "1e0425c3e5120f56c01c78eb9ba15d26ae726999"
      },
      "cell_type": "markdown",
      "source": "Based on the \"playersJoined\" feature we can create (or change) a lot of others to normalize their values. For example i will create the \"killsNorm\" and \"damageDealtNorm\" features. When there are 100 players in the game it might be easier to find and kill someone, than when there are 90 players. So i will normalize the kills in a way that a kill in 100 players will score 1 (as it is) and in 90 players it will score (100-90)/100 + 1 = 1.1. This is just an assumption. You can use different scales."
    },
    {
      "metadata": {
        "trusted": true,
        "_uuid": "0ca56e78c348c50619df4c2ffce97ef52886ab28"
      },
      "cell_type": "code",
      "source": "train['killsNorm'] = train['kills']*((100-train['playersJoined'])/100 + 1)\ntrain['damageDealtNorm'] = train['damageDealt']*((100-train['playersJoined'])/100 + 1)\ntrain[['playersJoined', 'kills', 'killsNorm', 'damageDealt', 'damageDealtNorm']][5:8]",
      "execution_count": null,
      "outputs": []
    },
    {
      "metadata": {
        "_uuid": "837df5dc6450b0d54b7a9363e34b805c32016321"
      },
      "cell_type": "markdown",
      "source": "Another simple feature is the sum of heals and boosts. Also the sum of total distance travelled."
    },
    {
      "metadata": {
        "trusted": true,
        "_uuid": "38ed81423992395adfa8bff463b8718796b66181"
      },
      "cell_type": "code",
      "source": "train['healsAndBoosts'] = train['heals']+train['boosts']\ntrain['totalDistance'] = train['walkDistance']+train['rideDistance']+train['swimDistance']",
      "execution_count": null,
      "outputs": []
    },
    {
      "metadata": {
        "_uuid": "283d11936c0a1895182290160273aefdab2617f1"
      },
      "cell_type": "markdown",
      "source": "When using boosting items you run faster. They also help staying out of the zone (PUBG term) and loot more (meaning walking more). So lets create a feature boosts per walking distance. Heals don't make you run faster, but they also help staying out of the zone and loot more. So lets create the same feature for heals also."
    },
    {
      "metadata": {
        "trusted": true,
        "_uuid": "0453c60cde4e05fba2a1688a9b2fa84d6ea5b01e"
      },
      "cell_type": "code",
      "source": "train['boostsPerWalkDistance'] = train['boosts']/(train['walkDistance']+1) #The +1 is to avoid infinity, because there are entries where boosts>0 and walkDistance=0. Strange.\ntrain['boostsPerWalkDistance'].fillna(0, inplace=True)\ntrain['healsPerWalkDistance'] = train['heals']/(train['walkDistance']+1) #The +1 is to avoid infinity, because there are entries where heals>0 and walkDistance=0. Strange.\ntrain['healsPerWalkDistance'].fillna(0, inplace=True)\ntrain['healsAndBoostsPerWalkDistance'] = train['healsAndBoosts']/(train['walkDistance']+1) #The +1 is to avoid infinity.\ntrain['healsAndBoostsPerWalkDistance'].fillna(0, inplace=True)\ntrain[['walkDistance', 'boosts', 'boostsPerWalkDistance' ,'heals',  'healsPerWalkDistance', 'healsAndBoosts', 'healsAndBoostsPerWalkDistance']][40:45]",
      "execution_count": null,
      "outputs": []
    },
    {
      "metadata": {
        "_uuid": "81d3fcd35fc615e9dc64021c83e3eac74e31237b"
      },
      "cell_type": "markdown",
      "source": "Same, let's create the feature \"killsPerWalkDistance\"."
    },
    {
      "metadata": {
        "trusted": true,
        "_uuid": "85ab657dd75ea1201bd17f6cd09966a76c5d24c9"
      },
      "cell_type": "code",
      "source": "train['killsPerWalkDistance'] = train['kills']/(train['walkDistance']+1) #The +1 is to avoid infinity, because there are entries where kills>0 and walkDistance=0. Strange.\ntrain['killsPerWalkDistance'].fillna(0, inplace=True)\ntrain[['kills', 'walkDistance', 'rideDistance', 'killsPerWalkDistance', 'winPlacePerc']].sort_values(by='killsPerWalkDistance').tail(10)",
      "execution_count": null,
      "outputs": []
    },
    {
      "metadata": {
        "_uuid": "fda2601e2582702500c94c22a7d673426f81e15e"
      },
      "cell_type": "markdown",
      "source": "0 walking distance and many kills? Also most have winPlacePerc=1. Definitelly cheaters.\n\nEarlier in the kernel we did EDA for Solos, Duos and Squads. Lets create a column for them."
    },
    {
      "metadata": {
        "trusted": true,
        "_uuid": "cf15beaef021513d44b1c32db6f41618e0c1e435"
      },
      "cell_type": "code",
      "source": "train['team'] = [1 if i>50 else 2 if (i>25 & i<=50) else 4 for i in train['numGroups']]",
      "execution_count": null,
      "outputs": []
    },
    {
      "metadata": {
        "trusted": true,
        "_uuid": "f52364e0267dcffc17bd67da219559aef5d093cd"
      },
      "cell_type": "code",
      "source": "train.head()",
      "execution_count": null,
      "outputs": []
    },
    {
      "metadata": {
        "_uuid": "b5868066dc4a956edd471f802c6979fb964ce28d"
      },
      "cell_type": "markdown",
      "source": "So we created 10 features. I hope some of them to be useful."
    },
    {
      "metadata": {
        "trusted": true,
        "_uuid": "55ae95dc4f85947558ae060e900272c59359d774"
      },
      "cell_type": "markdown",
      "source": "## LightGBM"
    },
    {
      "metadata": {
        "trusted": true,
        "_uuid": "6f0b123aebfebce0ba8751262cdf1a7d19dd6954"
      },
      "cell_type": "code",
      "source": "import os\nimport time\nimport gc\nimport warnings\nwarnings.filterwarnings(\"ignore\")\n# data manipulation\nimport json\nfrom pandas.io.json import json_normalize\nimport numpy as np\nimport pandas as pd\n# plot\nimport matplotlib.pyplot as plt\nimport seaborn as sns\ncolor = sns.color_palette()\n# model\nfrom sklearn.preprocessing import LabelEncoder\nfrom sklearn.model_selection import KFold\nfrom sklearn.metrics import mean_squared_error\nfrom sklearn.metrics import mean_absolute_error\nimport lightgbm as lgb",
      "execution_count": null,
      "outputs": []
    },
    {
      "metadata": {
        "trusted": true,
        "_uuid": "3764b6c47467477b90ddf362cde3036588cddfdc"
      },
      "cell_type": "code",
      "source": "train_idx = train.Id\ntest_idx = test.Id\ndf_train[\"winPlacePerc\"] = df_train[\"winPlacePerc\"].astype('float')\ntrain_y = train[\"winPlacePerc\"]\ntrain_target = train.groupby(\"Id\")[\"winPlacePerc\"].mean()\n\ny_train = train[\"winPlacePerc\"]\nx_train = train.drop([\"winPlacePerc\"], axis=1)\nx_test = test.copy()",
      "execution_count": null,
      "outputs": []
    },
    {
      "metadata": {
        "trusted": true,
        "_uuid": "a8d56973903cf3fb01958b723586d6bc87264319"
      },
      "cell_type": "code",
      "source": "folds = KFold(n_splits=5,random_state=6)\noof_preds = np.zeros(x_train.shape[0])\nsub_preds = np.zeros(x_test.shape[0])\n\nstart = time.time()\nvalid_score = 0\nfor n_fold, (trn_idx, val_idx) in enumerate(folds.split(x_train, y_train)):\n    trn_x, trn_y = x_train.iloc[trn_idx], y_train[trn_idx]\n    val_x, val_y = x_train.iloc[val_idx], y_train[val_idx]    \n    \n    train_data = lgb.Dataset(data=trn_x, label=trn_y)\n    valid_data = lgb.Dataset(data=val_x, label=val_y)\n    \n    params = {\"objective\" : \"regression\", \"metric\" : \"mae\", 'n_estimators':10000, 'early_stopping_rounds':100,\n              \"num_leaves\" : 30, \"learning_rate\" : 0.1, \"bagging_fraction\" : 0.9,\n               \"bagging_seed\" : 0}\n    \n    lgb_model = lgb.train(params, train_data, valid_sets=[train_data, valid_data], verbose_eval=1000) \n    \n    oof_preds[val_idx] = lgb_model.predict(val_x, num_iteration=lgb_model.best_iteration)\n    oof_preds[oof_preds>1] = 1\n    oof_preds[oof_preds<0] = 0\n    sub_pred = lgb_model.predict(x_test, num_iteration=lgb_model.best_iteration) / folds.n_splits\n    sub_pred[sub_pred>1] = 1 # should be greater or equal to 1\n    sub_pred[sub_pred<0] = 0 \n    sub_preds += sub_pred\n    print('Fold %2d RMSE : %.6f' % (n_fold + 1, mean_absolute_error(val_y, oof_preds[val_idx])))\n    valid_score += mean_absolute_error(val_y, oof_preds[val_idx])",
      "execution_count": null,
      "outputs": []
    },
    {
      "metadata": {
        "trusted": true,
        "_uuid": "4625047400ce505689dced6010b2068a9ee540f5"
      },
      "cell_type": "code",
      "source": "test_pred = pd.DataFrame({\"Id\":test_idx})\ntest_pred[\"winPlacePerc\"] = sub_preds\ntest_pred.columns = [\"Id\", \"winPlacePerc\"]\ntest_pred.to_csv(\"lgb_update_model.csv\", index=False) # submission",
      "execution_count": null,
      "outputs": []
    }
  ],
  "metadata": {
    "kernelspec": {
      "display_name": "Python 3",
      "language": "python",
      "name": "python3"
    },
    "language_info": {
      "name": "python",
      "version": "3.6.6",
      "mimetype": "text/x-python",
      "codemirror_mode": {
        "name": "ipython",
        "version": 3
      },
      "pygments_lexer": "ipython3",
      "nbconvert_exporter": "python",
      "file_extension": ".py"
    }
  },
  "nbformat": 4,
  "nbformat_minor": 1
}