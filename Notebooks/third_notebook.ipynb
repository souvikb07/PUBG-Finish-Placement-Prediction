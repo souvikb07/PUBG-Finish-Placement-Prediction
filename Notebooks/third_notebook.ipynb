{
  "cells": [
    {
      "metadata": {
        "trusted": true,
        "_uuid": "f99db069d8b2fd05e7e81997b3f55c57bd972c0d"
      },
      "cell_type": "markdown",
      "source": "This kernel features:\n\n- The Killers\n- The Runners\n- The Drivers\n- The Swimmers\n- The Healers\n- Solos, Duos and Squads\n- Correlation\n- Feature Engineering"
    },
    {
      "metadata": {
        "trusted": true,
        "_uuid": "ee80a60d31a097e195bea45e6695803fcebcb700"
      },
      "cell_type": "code",
      "source": "import numpy as np\nimport pandas as pd\nimport matplotlib.pyplot as plt\nimport seaborn as sns \nimport warnings\nwarnings.filterwarnings(\"ignore\")",
      "execution_count": null,
      "outputs": []
    },
    {
      "metadata": {
        "trusted": true,
        "_uuid": "aaa0baddc2336ebc996b2b2fb846c8dce60d4592"
      },
      "cell_type": "code",
      "source": "train = pd.read_csv('../input/train.csv')\n",
      "execution_count": null,
      "outputs": []
    },
    {
      "metadata": {
        "trusted": true,
        "_uuid": "ab4e69ef58f22c2e10c116e5da42bd195a06a343"
      },
      "cell_type": "code",
      "source": "train.info()",
      "execution_count": null,
      "outputs": []
    },
    {
      "metadata": {
        "_uuid": "6509be0c0576179b1b3a64660f920c119e7b473d"
      },
      "cell_type": "markdown",
      "source": "groupId - Integer ID to identify a group within a match. If the same group of players plays in different matches, they will have a different groupId each time.\nmatchId - Integer ID to identify match. There are no matches that are in both the training and testing set.\nassists - Number of enemy players this player damaged that were killed by teammates.\nboosts - Number of boost items used.\ndamageDealt - Total damage dealt. Note: Self inflicted damage is subtracted.\nDBNOs - Number of enemy players knocked.\nheadshotKills - Number of enemy players killed with headshots.\nheals - Number of healing items used.\nkillPlace - Ranking in match of number of enemy players killed.\nkillPoints - Kills-based external ranking of player. (Think of this as an Elo ranking where only kills matter.)\nkills - Number of enemy players killed.\nkillStreaks - Max number of enemy players killed in a short amount of time.\nlongestKill - Longest distance between player and player killed at time of death. This may be misleading, as downing a - player and driving away may lead to a large longestKill stat.\nmaxPlace - Worst placement we have data for in the match. This may not match with numGroups, as sometimes the data skips over placements.\nnumGroups - Number of groups we have data for in the match.\nrevives - Number of times this player revived teammates.\nrideDistance - Total distance traveled in vehicles measured in meters.\nroadKills - Number of kills while in a vehicle.\nswimDistance - Total distance traveled by swimming measured in meters.\nteamKills - Number of times this player killed a teammate.\nvehicleDestroys - Number of vehicles destroyed.\nwalkDistance - Total distance traveled on foot measured in meters.\nweaponsAcquired - Number of weapons picked up.\nwinPoints - Win-based external ranking of player. (Think of this as an Elo ranking where only winning matters.)\nwinPlacePerc - The target of prediction. This is a percentile winning placement, where 1 corresponds to 1st place, and 0 corresponds to last place in the match. It is calculated off of maxPlace, not numGroups, so it is possible to have missing chunks in a match."
    },
    {
      "metadata": {
        "trusted": true,
        "_uuid": "3f3af428a1440f8f980fc69e87a5309b24bfa1e9"
      },
      "cell_type": "code",
      "source": "train.head()",
      "execution_count": null,
      "outputs": []
    },
    {
      "metadata": {
        "_uuid": "96e96582886da9163047900f9d60460b9722e110"
      },
      "cell_type": "markdown",
      "source": "## The Killers"
    },
    {
      "metadata": {
        "trusted": true,
        "_uuid": "42c9de93501afed06493d5cf07021115c106547f"
      },
      "cell_type": "code",
      "source": "print(\"The average person kills {:.4f} players, 99% of people have {} kills or less, while the most kills ever recorded is {}.\".format(train['kills'].mean(),train['kills'].quantile(0.99), train['kills'].max()))",
      "execution_count": null,
      "outputs": []
    },
    {
      "metadata": {
        "trusted": true,
        "_uuid": "fa16173b4353f468708d4978ee2471ef794186c1"
      },
      "cell_type": "code",
      "source": "# plot kill count\ndata = train.copy()\ndata.loc[data['kills'] > data['kills'].quantile(0.99)] = '8+'\nplt.figure(figsize=(15,10))\nsns.countplot(data['kills'].astype('str').sort_values())\nplt.title(\"Kill Count\",fontsize=15)\nplt.show()",
      "execution_count": null,
      "outputs": []
    },
    {
      "metadata": {
        "trusted": true,
        "_uuid": "8615f9214dee9106952912bd371d3ff3744e492b"
      },
      "cell_type": "markdown",
      "source": "Most people can't make a single kill. At least do they do damage?"
    },
    {
      "metadata": {
        "trusted": true,
        "_uuid": "f2b03a710378f66702e433c54a3a957b35dc1ee6"
      },
      "cell_type": "code",
      "source": "data = train.copy()\ndata = data[data['kills']==0]\nplt.figure(figsize=(15,10))\nplt.title(\"Damage Dealt by 0 killers\",fontsize=15)\nsns.distplot(data['damageDealt'])\nplt.show()",
      "execution_count": null,
      "outputs": []
    },
    {
      "metadata": {
        "trusted": true,
        "_uuid": "d4139da9f0ee4640daf769f9212cb03152315191"
      },
      "cell_type": "code",
      "source": "",
      "execution_count": null,
      "outputs": []
    }
  ],
  "metadata": {
    "kernelspec": {
      "display_name": "Python 3",
      "language": "python",
      "name": "python3"
    },
    "language_info": {
      "name": "python",
      "version": "3.6.6",
      "mimetype": "text/x-python",
      "codemirror_mode": {
        "name": "ipython",
        "version": 3
      },
      "pygments_lexer": "ipython3",
      "nbconvert_exporter": "python",
      "file_extension": ".py"
    }
  },
  "nbformat": 4,
  "nbformat_minor": 1
}