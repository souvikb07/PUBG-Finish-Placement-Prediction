{
  "cells": [
    {
      "metadata": {
        "_uuid": "8f2839f25d086af736a60e9eeb907d3b93b6e0e5",
        "_cell_guid": "b1076dfc-b9ad-4769-8c92-a6c4dae69d19",
        "trusted": true
      },
      "cell_type": "markdown",
      "source": "## Notebook Outline\n- 1. Competition Description\n- 2. Variable Description\n- 3. Simple EDA - waiting\n- 4. LightGBM"
    },
    {
      "metadata": {
        "_cell_guid": "79c7e3d0-c299-4dcb-8224-4455121ee9b0",
        "collapsed": true,
        "_uuid": "d629ff2d2480ee46fbb7e2d37f6b5fab8052498a",
        "trusted": false
      },
      "cell_type": "markdown",
      "source": "## 1. Competiton Description\n\nBattle Royale-style video games have taken the world by storm. 100 players are dropped onto an island empty-handed and must explore, scavenge, and eliminate other players until only one is left standing, all while the play zone continues to shrink.\n\nPlayerUnknown's BattleGrounds (PUBG) has enjoyed massive popularity. With over 50 million copies sold, it's the fifth best selling game of all time, and has millions of active monthly players.\n\nThe team at PUBG has made official game data available for the public to explore and scavenge outside of \"The Blue Circle.\" This competition is not an official or affiliated PUBG site - Kaggle collected data made possible through the PUBG Developer API.\n\nYou are given over 65,000 games' worth of anonymized player data, split into training and testing sets, and asked to predict final placement from final in-game stats and initial player ratings.\n\nWhat's the best strategy to win in PUBG? Should you sit in one spot and hide your way into victory, or do you need to be the top shot?"
    },
    {
      "metadata": {
        "trusted": true,
        "_uuid": "91685e6c6ec353441f6436ad76397e5e9c7b4548"
      },
      "cell_type": "code",
      "source": "import pandas as pd #Analysis \nimport matplotlib.pyplot as plt #Visulization\nimport seaborn as sns #Visulization\nimport numpy as np #Analysis \nfrom scipy.stats import norm #Analysis \nfrom sklearn.preprocessing import StandardScaler #Analysis \nfrom scipy import stats #Analysis \nimport warnings \nwarnings.filterwarnings('ignore')\n%matplotlib inline\nimport plotly.offline as py\npy.init_notebook_mode(connected=True)\nimport plotly.graph_objs as go\nimport plotly.tools as tls\nimport plotly.figure_factory as ff\nfrom sklearn.model_selection import KFold\nfrom sklearn.metrics import mean_absolute_error",
      "execution_count": 1,
      "outputs": [
        {
          "output_type": "display_data",
          "data": {
            "text/html": "<script>requirejs.config({paths: { 'plotly': ['https://cdn.plot.ly/plotly-latest.min']},});if(!window.Plotly) {{require(['plotly'],function(plotly) {window.Plotly=plotly;});}}</script>",
            "text/vnd.plotly.v1+html": "<script>requirejs.config({paths: { 'plotly': ['https://cdn.plot.ly/plotly-latest.min']},});if(!window.Plotly) {{require(['plotly'],function(plotly) {window.Plotly=plotly;});}}</script>"
          },
          "metadata": {}
        }
      ]
    },
    {
      "metadata": {
        "trusted": true,
        "_uuid": "0cc88c9abcadafea58d0b4a3ecbe72745b51f05e"
      },
      "cell_type": "code",
      "source": "df_train = pd.read_csv('../input/train.csv')\ndf_test  = pd.read_csv('../input/test.csv')",
      "execution_count": 2,
      "outputs": []
    },
    {
      "metadata": {
        "trusted": true,
        "_uuid": "f94d3f7059a19eab844695a85143d1a4416ef402"
      },
      "cell_type": "code",
      "source": "df_train.shape, df_test.shape",
      "execution_count": 3,
      "outputs": [
        {
          "output_type": "execute_result",
          "execution_count": 3,
          "data": {
            "text/plain": "((4357336, 26), (1867913, 25))"
          },
          "metadata": {}
        }
      ]
    },
    {
      "metadata": {
        "trusted": true,
        "_uuid": "32993c50346404a05a7edfa25fd191e146668f17"
      },
      "cell_type": "code",
      "source": "df_train.head()",
      "execution_count": 4,
      "outputs": [
        {
          "output_type": "execute_result",
          "execution_count": 4,
          "data": {
            "text/plain": "   Id  groupId  matchId      ...       weaponsAcquired  winPoints  winPlacePerc\n0   0       24        0      ...                     4       1458        0.8571\n1   1   440875        1      ...                     3       1511        0.0400\n2   2   878242        2      ...                     5       1583        0.7407\n3   3  1319841        3      ...                     1       1489        0.1146\n4   4  1757883        4      ...                     4       1475        0.5217\n\n[5 rows x 26 columns]",
            "text/html": "<div>\n<style scoped>\n    .dataframe tbody tr th:only-of-type {\n        vertical-align: middle;\n    }\n\n    .dataframe tbody tr th {\n        vertical-align: top;\n    }\n\n    .dataframe thead th {\n        text-align: right;\n    }\n</style>\n<table border=\"1\" class=\"dataframe\">\n  <thead>\n    <tr style=\"text-align: right;\">\n      <th></th>\n      <th>Id</th>\n      <th>groupId</th>\n      <th>matchId</th>\n      <th>assists</th>\n      <th>boosts</th>\n      <th>damageDealt</th>\n      <th>DBNOs</th>\n      <th>headshotKills</th>\n      <th>heals</th>\n      <th>killPlace</th>\n      <th>killPoints</th>\n      <th>kills</th>\n      <th>killStreaks</th>\n      <th>longestKill</th>\n      <th>maxPlace</th>\n      <th>numGroups</th>\n      <th>revives</th>\n      <th>rideDistance</th>\n      <th>roadKills</th>\n      <th>swimDistance</th>\n      <th>teamKills</th>\n      <th>vehicleDestroys</th>\n      <th>walkDistance</th>\n      <th>weaponsAcquired</th>\n      <th>winPoints</th>\n      <th>winPlacePerc</th>\n    </tr>\n  </thead>\n  <tbody>\n    <tr>\n      <th>0</th>\n      <td>0</td>\n      <td>24</td>\n      <td>0</td>\n      <td>0</td>\n      <td>5</td>\n      <td>247.30</td>\n      <td>2</td>\n      <td>0</td>\n      <td>4</td>\n      <td>17</td>\n      <td>1050</td>\n      <td>2</td>\n      <td>1</td>\n      <td>65.32</td>\n      <td>29</td>\n      <td>28</td>\n      <td>1</td>\n      <td>591.3</td>\n      <td>0</td>\n      <td>0.0</td>\n      <td>0</td>\n      <td>0</td>\n      <td>782.40</td>\n      <td>4</td>\n      <td>1458</td>\n      <td>0.8571</td>\n    </tr>\n    <tr>\n      <th>1</th>\n      <td>1</td>\n      <td>440875</td>\n      <td>1</td>\n      <td>1</td>\n      <td>0</td>\n      <td>37.65</td>\n      <td>1</td>\n      <td>1</td>\n      <td>0</td>\n      <td>45</td>\n      <td>1072</td>\n      <td>1</td>\n      <td>1</td>\n      <td>13.55</td>\n      <td>26</td>\n      <td>23</td>\n      <td>0</td>\n      <td>0.0</td>\n      <td>0</td>\n      <td>0.0</td>\n      <td>0</td>\n      <td>0</td>\n      <td>119.60</td>\n      <td>3</td>\n      <td>1511</td>\n      <td>0.0400</td>\n    </tr>\n    <tr>\n      <th>2</th>\n      <td>2</td>\n      <td>878242</td>\n      <td>2</td>\n      <td>0</td>\n      <td>1</td>\n      <td>93.73</td>\n      <td>1</td>\n      <td>0</td>\n      <td>2</td>\n      <td>54</td>\n      <td>1404</td>\n      <td>0</td>\n      <td>0</td>\n      <td>0.00</td>\n      <td>28</td>\n      <td>28</td>\n      <td>1</td>\n      <td>0.0</td>\n      <td>0</td>\n      <td>0.0</td>\n      <td>0</td>\n      <td>0</td>\n      <td>3248.00</td>\n      <td>5</td>\n      <td>1583</td>\n      <td>0.7407</td>\n    </tr>\n    <tr>\n      <th>3</th>\n      <td>3</td>\n      <td>1319841</td>\n      <td>3</td>\n      <td>0</td>\n      <td>0</td>\n      <td>95.88</td>\n      <td>0</td>\n      <td>0</td>\n      <td>0</td>\n      <td>86</td>\n      <td>1069</td>\n      <td>0</td>\n      <td>0</td>\n      <td>0.00</td>\n      <td>97</td>\n      <td>94</td>\n      <td>0</td>\n      <td>0.0</td>\n      <td>0</td>\n      <td>0.0</td>\n      <td>0</td>\n      <td>0</td>\n      <td>21.49</td>\n      <td>1</td>\n      <td>1489</td>\n      <td>0.1146</td>\n    </tr>\n    <tr>\n      <th>4</th>\n      <td>4</td>\n      <td>1757883</td>\n      <td>4</td>\n      <td>0</td>\n      <td>1</td>\n      <td>0.00</td>\n      <td>0</td>\n      <td>0</td>\n      <td>1</td>\n      <td>58</td>\n      <td>1034</td>\n      <td>0</td>\n      <td>0</td>\n      <td>0.00</td>\n      <td>47</td>\n      <td>41</td>\n      <td>0</td>\n      <td>0.0</td>\n      <td>0</td>\n      <td>0.0</td>\n      <td>0</td>\n      <td>0</td>\n      <td>640.80</td>\n      <td>4</td>\n      <td>1475</td>\n      <td>0.5217</td>\n    </tr>\n  </tbody>\n</table>\n</div>"
          },
          "metadata": {}
        }
      ]
    },
    {
      "metadata": {
        "trusted": true,
        "_uuid": "ac139ae74b657ab743dc41138cf7f7b93a292644"
      },
      "cell_type": "code",
      "source": "df_test.head()",
      "execution_count": 5,
      "outputs": [
        {
          "output_type": "execute_result",
          "execution_count": 5,
          "data": {
            "text/plain": "      Id  groupId  matchId    ...      walkDistance  weaponsAcquired  winPoints\n0  47734  1659463    47734    ...            421.50                7       1500\n1  47735  1659508    47735    ...            655.80                4       1526\n2  47736  1659555    47736    ...             74.58                1       1475\n3  47737  1659621    47737    ...            167.20                2       1464\n4  47738  1659675    47738    ...            146.70                3       1505\n\n[5 rows x 25 columns]",
            "text/html": "<div>\n<style scoped>\n    .dataframe tbody tr th:only-of-type {\n        vertical-align: middle;\n    }\n\n    .dataframe tbody tr th {\n        vertical-align: top;\n    }\n\n    .dataframe thead th {\n        text-align: right;\n    }\n</style>\n<table border=\"1\" class=\"dataframe\">\n  <thead>\n    <tr style=\"text-align: right;\">\n      <th></th>\n      <th>Id</th>\n      <th>groupId</th>\n      <th>matchId</th>\n      <th>assists</th>\n      <th>boosts</th>\n      <th>damageDealt</th>\n      <th>DBNOs</th>\n      <th>headshotKills</th>\n      <th>heals</th>\n      <th>killPlace</th>\n      <th>killPoints</th>\n      <th>kills</th>\n      <th>killStreaks</th>\n      <th>longestKill</th>\n      <th>maxPlace</th>\n      <th>numGroups</th>\n      <th>revives</th>\n      <th>rideDistance</th>\n      <th>roadKills</th>\n      <th>swimDistance</th>\n      <th>teamKills</th>\n      <th>vehicleDestroys</th>\n      <th>walkDistance</th>\n      <th>weaponsAcquired</th>\n      <th>winPoints</th>\n    </tr>\n  </thead>\n  <tbody>\n    <tr>\n      <th>0</th>\n      <td>47734</td>\n      <td>1659463</td>\n      <td>47734</td>\n      <td>0</td>\n      <td>0</td>\n      <td>100.0</td>\n      <td>1</td>\n      <td>0</td>\n      <td>0</td>\n      <td>59</td>\n      <td>1000</td>\n      <td>0</td>\n      <td>0</td>\n      <td>0.000</td>\n      <td>50</td>\n      <td>45</td>\n      <td>0</td>\n      <td>0.0</td>\n      <td>0</td>\n      <td>0.0</td>\n      <td>1</td>\n      <td>0</td>\n      <td>421.50</td>\n      <td>7</td>\n      <td>1500</td>\n    </tr>\n    <tr>\n      <th>1</th>\n      <td>47735</td>\n      <td>1659508</td>\n      <td>47735</td>\n      <td>0</td>\n      <td>1</td>\n      <td>400.0</td>\n      <td>2</td>\n      <td>0</td>\n      <td>3</td>\n      <td>9</td>\n      <td>1200</td>\n      <td>4</td>\n      <td>2</td>\n      <td>15.420</td>\n      <td>48</td>\n      <td>47</td>\n      <td>1</td>\n      <td>0.0</td>\n      <td>0</td>\n      <td>0.0</td>\n      <td>0</td>\n      <td>0</td>\n      <td>655.80</td>\n      <td>4</td>\n      <td>1526</td>\n    </tr>\n    <tr>\n      <th>2</th>\n      <td>47736</td>\n      <td>1659555</td>\n      <td>47736</td>\n      <td>0</td>\n      <td>0</td>\n      <td>0.0</td>\n      <td>0</td>\n      <td>0</td>\n      <td>0</td>\n      <td>72</td>\n      <td>1216</td>\n      <td>0</td>\n      <td>0</td>\n      <td>0.000</td>\n      <td>29</td>\n      <td>28</td>\n      <td>0</td>\n      <td>0.0</td>\n      <td>0</td>\n      <td>0.0</td>\n      <td>0</td>\n      <td>0</td>\n      <td>74.58</td>\n      <td>1</td>\n      <td>1475</td>\n    </tr>\n    <tr>\n      <th>3</th>\n      <td>47737</td>\n      <td>1659621</td>\n      <td>47737</td>\n      <td>0</td>\n      <td>0</td>\n      <td>68.6</td>\n      <td>0</td>\n      <td>0</td>\n      <td>0</td>\n      <td>68</td>\n      <td>1177</td>\n      <td>0</td>\n      <td>0</td>\n      <td>0.000</td>\n      <td>97</td>\n      <td>92</td>\n      <td>0</td>\n      <td>0.0</td>\n      <td>0</td>\n      <td>0.0</td>\n      <td>0</td>\n      <td>0</td>\n      <td>167.20</td>\n      <td>2</td>\n      <td>1464</td>\n    </tr>\n    <tr>\n      <th>4</th>\n      <td>47738</td>\n      <td>1659675</td>\n      <td>47738</td>\n      <td>0</td>\n      <td>1</td>\n      <td>370.5</td>\n      <td>3</td>\n      <td>0</td>\n      <td>1</td>\n      <td>45</td>\n      <td>1013</td>\n      <td>1</td>\n      <td>1</td>\n      <td>5.968</td>\n      <td>27</td>\n      <td>26</td>\n      <td>0</td>\n      <td>0.0</td>\n      <td>0</td>\n      <td>0.0</td>\n      <td>0</td>\n      <td>0</td>\n      <td>146.70</td>\n      <td>3</td>\n      <td>1505</td>\n    </tr>\n  </tbody>\n</table>\n</div>"
          },
          "metadata": {}
        }
      ]
    },
    {
      "metadata": {
        "_uuid": "9ca192e46376f45eb7be45031e57fcc6d7e4afdc"
      },
      "cell_type": "markdown",
      "source": "## 3. Variable Description\ndata description,\n\n- matchId - Integer ID to identify match. There are no matches that are in both the training and testing set.\n- groupId - Integer ID to identify a group within a match. If the same group of players plays in different matches, they will have a different groupId each time."
    },
    {
      "metadata": {
        "trusted": true,
        "_uuid": "cc27d8176d0732a759223a6bd1fead48707ff210"
      },
      "cell_type": "code",
      "source": "df_train[df_train['groupId']==2]",
      "execution_count": 6,
      "outputs": [
        {
          "output_type": "execute_result",
          "execution_count": 6,
          "data": {
            "text/plain": "              Id  groupId      ...       winPoints  winPlacePerc\n47734      68192        2      ...            1485        0.6786\n1565274  2236048        2      ...            1546        0.6786\n3723215  5318575        2      ...            1500        0.6786\n\n[3 rows x 26 columns]",
            "text/html": "<div>\n<style scoped>\n    .dataframe tbody tr th:only-of-type {\n        vertical-align: middle;\n    }\n\n    .dataframe tbody tr th {\n        vertical-align: top;\n    }\n\n    .dataframe thead th {\n        text-align: right;\n    }\n</style>\n<table border=\"1\" class=\"dataframe\">\n  <thead>\n    <tr style=\"text-align: right;\">\n      <th></th>\n      <th>Id</th>\n      <th>groupId</th>\n      <th>matchId</th>\n      <th>assists</th>\n      <th>boosts</th>\n      <th>damageDealt</th>\n      <th>DBNOs</th>\n      <th>headshotKills</th>\n      <th>heals</th>\n      <th>killPlace</th>\n      <th>killPoints</th>\n      <th>kills</th>\n      <th>killStreaks</th>\n      <th>longestKill</th>\n      <th>maxPlace</th>\n      <th>numGroups</th>\n      <th>revives</th>\n      <th>rideDistance</th>\n      <th>roadKills</th>\n      <th>swimDistance</th>\n      <th>teamKills</th>\n      <th>vehicleDestroys</th>\n      <th>walkDistance</th>\n      <th>weaponsAcquired</th>\n      <th>winPoints</th>\n      <th>winPlacePerc</th>\n    </tr>\n  </thead>\n  <tbody>\n    <tr>\n      <th>47734</th>\n      <td>68192</td>\n      <td>2</td>\n      <td>0</td>\n      <td>0</td>\n      <td>0</td>\n      <td>47.30</td>\n      <td>0</td>\n      <td>0</td>\n      <td>0</td>\n      <td>52</td>\n      <td>1158</td>\n      <td>0</td>\n      <td>0</td>\n      <td>0.0</td>\n      <td>29</td>\n      <td>28</td>\n      <td>0</td>\n      <td>0.0</td>\n      <td>0</td>\n      <td>0.00</td>\n      <td>0</td>\n      <td>0</td>\n      <td>1088.0</td>\n      <td>3</td>\n      <td>1485</td>\n      <td>0.6786</td>\n    </tr>\n    <tr>\n      <th>1565274</th>\n      <td>2236048</td>\n      <td>2</td>\n      <td>0</td>\n      <td>0</td>\n      <td>0</td>\n      <td>0.00</td>\n      <td>0</td>\n      <td>0</td>\n      <td>0</td>\n      <td>51</td>\n      <td>1255</td>\n      <td>0</td>\n      <td>0</td>\n      <td>0.0</td>\n      <td>29</td>\n      <td>28</td>\n      <td>0</td>\n      <td>0.0</td>\n      <td>0</td>\n      <td>16.11</td>\n      <td>0</td>\n      <td>0</td>\n      <td>2277.0</td>\n      <td>7</td>\n      <td>1546</td>\n      <td>0.6786</td>\n    </tr>\n    <tr>\n      <th>3723215</th>\n      <td>5318575</td>\n      <td>2</td>\n      <td>0</td>\n      <td>0</td>\n      <td>1</td>\n      <td>42.57</td>\n      <td>0</td>\n      <td>0</td>\n      <td>1</td>\n      <td>53</td>\n      <td>1000</td>\n      <td>0</td>\n      <td>0</td>\n      <td>0.0</td>\n      <td>29</td>\n      <td>28</td>\n      <td>0</td>\n      <td>0.0</td>\n      <td>0</td>\n      <td>0.00</td>\n      <td>0</td>\n      <td>0</td>\n      <td>336.8</td>\n      <td>4</td>\n      <td>1500</td>\n      <td>0.6786</td>\n    </tr>\n  </tbody>\n</table>\n</div>"
          },
          "metadata": {}
        }
      ]
    },
    {
      "metadata": {
        "trusted": true,
        "_uuid": "35c25151da0ffc8bdce8f157885e7a036877c82c"
      },
      "cell_type": "code",
      "source": "len(df_train[df_train['matchId']==0]) ",
      "execution_count": 7,
      "outputs": [
        {
          "output_type": "execute_result",
          "execution_count": 7,
          "data": {
            "text/plain": "99"
          },
          "metadata": {}
        }
      ]
    },
    {
      "metadata": {
        "_uuid": "f39707d36edfd7f77e9a5097fb22897bda056655"
      },
      "cell_type": "markdown",
      "source": "Here we can see that  **Id** is different, but **groupId and matchId** are the same.\n\nTo illustrate this, a person A with an Id 0 and a person B with an ID 136382 are friends and have a team together (groupId). Then the same match is done, so you can assume that they entered the game with the same matchId.\n\nTo put it another way, Battlegrounds (PBUGs) have a total about 100 people per game. These 100 players have the same matchId. Among them, groupId are same as 24, so you can think that they are friends and joined the team and played together. (There are about 100 people, not necessarily 100 people.)"
    },
    {
      "metadata": {
        "trusted": true,
        "_uuid": "9935bab1e7e3e4e6539fbc60e2a9330fe1669b9e"
      },
      "cell_type": "code",
      "source": "temp = df_train[df_train['matchId']==0]['groupId'].value_counts().sort_values(ascending=False)\ntrace = go.Bar(\n    x = temp.index,\n    y = (temp)\n)\ndata = [trace]\nlayout = go.Layout(\n    title = \"GroupId of Match Id:0\",\n    xaxis=dict(\n        title='groupId',\n        tickfont=dict(\n            size=14,\n            color='rgb(107, 107, 107)'\n        )\n    ),\n    yaxis=dict(\n        title='Count of groupId of type of MatchId 0',\n        titlefont=dict(\n            size=16,\n            color='rgb(107, 107, 107)'\n        ),\n        tickfont=dict(\n            size=14,\n            color='rgb(107, 107, 107)'\n        )\n)\n)\nfig = go.Figure(data=data, layout=layout)\npy.iplot(fig, filename='schoolStateNames')",
      "execution_count": 8,
      "outputs": [
        {
          "output_type": "display_data",
          "data": {
            "application/vnd.plotly.v1+json": {
              "data": [
                {
                  "x": [
                    21,
                    10,
                    14,
                    27,
                    23,
                    22,
                    26,
                    11,
                    8,
                    18,
                    17,
                    16,
                    15,
                    9,
                    2,
                    5,
                    6,
                    1,
                    12,
                    13,
                    20,
                    19,
                    24,
                    25,
                    28,
                    4,
                    7,
                    3
                  ],
                  "y": [
                    10,
                    7,
                    6,
                    4,
                    4,
                    4,
                    4,
                    4,
                    4,
                    4,
                    4,
                    4,
                    4,
                    4,
                    3,
                    3,
                    3,
                    3,
                    3,
                    3,
                    3,
                    2,
                    2,
                    2,
                    2,
                    1,
                    1,
                    1
                  ],
                  "type": "bar",
                  "uid": "05600fc6-cca9-11e8-b055-0242ac130002"
                }
              ],
              "layout": {
                "title": "GroupId of Match Id:0",
                "xaxis": {
                  "tickfont": {
                    "color": "rgb(107, 107, 107)",
                    "size": 14
                  },
                  "title": "groupId"
                },
                "yaxis": {
                  "tickfont": {
                    "color": "rgb(107, 107, 107)",
                    "size": 14
                  },
                  "title": "Count of groupId of type of MatchId 0",
                  "titlefont": {
                    "color": "rgb(107, 107, 107)",
                    "size": 16
                  }
                }
              }
            },
            "text/html": "<div id=\"a0bb7615-24fb-4379-95e3-a1a2f528014f\" style=\"height: 525px; width: 100%;\" class=\"plotly-graph-div\"></div><script type=\"text/javascript\">require([\"plotly\"], function(Plotly) { window.PLOTLYENV=window.PLOTLYENV || {};window.PLOTLYENV.BASE_URL=\"https://plot.ly\";Plotly.newPlot(\"a0bb7615-24fb-4379-95e3-a1a2f528014f\", [{\"x\": [21, 10, 14, 27, 23, 22, 26, 11, 8, 18, 17, 16, 15, 9, 2, 5, 6, 1, 12, 13, 20, 19, 24, 25, 28, 4, 7, 3], \"y\": [10, 7, 6, 4, 4, 4, 4, 4, 4, 4, 4, 4, 4, 4, 3, 3, 3, 3, 3, 3, 3, 2, 2, 2, 2, 1, 1, 1], \"type\": \"bar\", \"uid\": \"05600fc6-cca9-11e8-b055-0242ac130002\"}], {\"title\": \"GroupId of Match Id:0\", \"xaxis\": {\"tickfont\": {\"color\": \"rgb(107, 107, 107)\", \"size\": 14}, \"title\": \"groupId\"}, \"yaxis\": {\"tickfont\": {\"color\": \"rgb(107, 107, 107)\", \"size\": 14}, \"title\": \"Count of groupId of type of MatchId 0\", \"titlefont\": {\"color\": \"rgb(107, 107, 107)\", \"size\": 16}}}, {\"showLink\": true, \"linkText\": \"Export to plot.ly\"})});</script>",
            "text/vnd.plotly.v1+html": "<div id=\"a0bb7615-24fb-4379-95e3-a1a2f528014f\" style=\"height: 525px; width: 100%;\" class=\"plotly-graph-div\"></div><script type=\"text/javascript\">require([\"plotly\"], function(Plotly) { window.PLOTLYENV=window.PLOTLYENV || {};window.PLOTLYENV.BASE_URL=\"https://plot.ly\";Plotly.newPlot(\"a0bb7615-24fb-4379-95e3-a1a2f528014f\", [{\"x\": [21, 10, 14, 27, 23, 22, 26, 11, 8, 18, 17, 16, 15, 9, 2, 5, 6, 1, 12, 13, 20, 19, 24, 25, 28, 4, 7, 3], \"y\": [10, 7, 6, 4, 4, 4, 4, 4, 4, 4, 4, 4, 4, 4, 3, 3, 3, 3, 3, 3, 3, 2, 2, 2, 2, 1, 1, 1], \"type\": \"bar\", \"uid\": \"05600fc6-cca9-11e8-b055-0242ac130002\"}], {\"title\": \"GroupId of Match Id:0\", \"xaxis\": {\"tickfont\": {\"color\": \"rgb(107, 107, 107)\", \"size\": 14}, \"title\": \"groupId\"}, \"yaxis\": {\"tickfont\": {\"color\": \"rgb(107, 107, 107)\", \"size\": 14}, \"title\": \"Count of groupId of type of MatchId 0\", \"titlefont\": {\"color\": \"rgb(107, 107, 107)\", \"size\": 16}}}, {\"showLink\": true, \"linkText\": \"Export to plot.ly\"})});</script>"
          },
          "metadata": {}
        }
      ]
    },
    {
      "metadata": {
        "_uuid": "ae41ce9eec6fef44af5dff2eeb2553e82b1820f2"
      },
      "cell_type": "markdown",
      "source": "Note : You can see something strange in value counts. Four people are maximum team member and I do not know what it means more than four people.\n\nMichaelApers metioned it.(https://www.kaggle.com/c/pubg-finish-placement-prediction/discussion/67742#400747)\nI noticed in a kernel that @chocozzz was concerned about why there are sometimes more than 4 players with the same groupId. This can be from any of three causes:\n\n1) The match is from a custom game/event (If there are more than 8 in a group, it is almost definitely this one)\n\n2) The API mistakenly reported two groups as placing in the same place, and in creating groupId these groups were clumped as one larger group. This is also a contributor to the difference between \"numGroups\" and \"maxPlace\" (Teams leaving the game may also contribute).\n\n3) There is a very rare bug in the game in which more than 4 people end up in one group (I am not sure if any of these games are included in this dataset).\n\nI hope that this can help clarify group sizes."
    },
    {
      "metadata": {
        "_uuid": "c30274f61fe1d6c8fb59b8cccc2e3ab15ca76070"
      },
      "cell_type": "markdown",
      "source": "### Data description detail\nThis game is simple. Pick up your weapons, walk around, kill enemies and survive until the end. So if you look at the variables, kill and ride will come out and if you stay alive you will win.\n\nassists : The assists means that i don't kill enemy but help kill enemy. So when you look at the variable, there is also a kill. In other words, if I kill the enemy? kill +1. but if I did not kill the enemy but helped kill the enemy?assists + 1."
    },
    {
      "metadata": {
        "trusted": true,
        "_uuid": "6b5e460fea3c8de158f896206a410abcfd1a5551"
      },
      "cell_type": "code",
      "source": "temp = df_train['assists'].value_counts().sort_values(ascending=False)\n\n#print(\"Total number of states : \",len(temp))\ntrace = go.Bar(\n    x = temp.index,\n    y = (temp)\n)\ndata = [trace]\nlayout = go.Layout(\n    title = \"\",\n    xaxis=dict(\n        title='assists',\n        tickfont=dict(\n            size=14,\n            color='rgb(107, 107, 107)'\n        )\n    ),\n    yaxis=dict(\n        title='Count of assists',\n        titlefont=dict(\n            size=16,\n            color='rgb(107, 107, 107)'\n        ),\n        tickfont=dict(\n            size=14,\n            color='rgb(107, 107, 107)'\n        )\n)\n)\nfig = go.Figure(data=data, layout=layout)\npy.iplot(fig, filename='schoolStateNames')",
      "execution_count": 9,
      "outputs": [
        {
          "output_type": "display_data",
          "data": {
            "application/vnd.plotly.v1+json": {
              "data": [
                {
                  "x": [
                    0,
                    1,
                    2,
                    3,
                    4,
                    5,
                    6,
                    7,
                    8,
                    9,
                    10,
                    11,
                    12,
                    13,
                    14,
                    15,
                    16,
                    17,
                    18,
                    20
                  ],
                  "y": [
                    3506546,
                    635700,
                    154085,
                    42202,
                    12194,
                    4010,
                    1401,
                    594,
                    280,
                    137,
                    86,
                    40,
                    27,
                    14,
                    10,
                    4,
                    3,
                    1,
                    1,
                    1
                  ],
                  "type": "bar",
                  "uid": "0571220c-cca9-11e8-b055-0242ac130002"
                }
              ],
              "layout": {
                "title": "",
                "xaxis": {
                  "tickfont": {
                    "color": "rgb(107, 107, 107)",
                    "size": 14
                  },
                  "title": "assists"
                },
                "yaxis": {
                  "tickfont": {
                    "color": "rgb(107, 107, 107)",
                    "size": 14
                  },
                  "title": "Count of assists",
                  "titlefont": {
                    "color": "rgb(107, 107, 107)",
                    "size": 16
                  }
                }
              }
            },
            "text/html": "<div id=\"dfc254f6-ffef-4cfa-a9f5-5a37b62f5141\" style=\"height: 525px; width: 100%;\" class=\"plotly-graph-div\"></div><script type=\"text/javascript\">require([\"plotly\"], function(Plotly) { window.PLOTLYENV=window.PLOTLYENV || {};window.PLOTLYENV.BASE_URL=\"https://plot.ly\";Plotly.newPlot(\"dfc254f6-ffef-4cfa-a9f5-5a37b62f5141\", [{\"x\": [0, 1, 2, 3, 4, 5, 6, 7, 8, 9, 10, 11, 12, 13, 14, 15, 16, 17, 18, 20], \"y\": [3506546, 635700, 154085, 42202, 12194, 4010, 1401, 594, 280, 137, 86, 40, 27, 14, 10, 4, 3, 1, 1, 1], \"type\": \"bar\", \"uid\": \"0571220c-cca9-11e8-b055-0242ac130002\"}], {\"title\": \"\", \"xaxis\": {\"tickfont\": {\"color\": \"rgb(107, 107, 107)\", \"size\": 14}, \"title\": \"assists\"}, \"yaxis\": {\"tickfont\": {\"color\": \"rgb(107, 107, 107)\", \"size\": 14}, \"title\": \"Count of assists\", \"titlefont\": {\"color\": \"rgb(107, 107, 107)\", \"size\": 16}}}, {\"showLink\": true, \"linkText\": \"Export to plot.ly\"})});</script>",
            "text/vnd.plotly.v1+html": "<div id=\"dfc254f6-ffef-4cfa-a9f5-5a37b62f5141\" style=\"height: 525px; width: 100%;\" class=\"plotly-graph-div\"></div><script type=\"text/javascript\">require([\"plotly\"], function(Plotly) { window.PLOTLYENV=window.PLOTLYENV || {};window.PLOTLYENV.BASE_URL=\"https://plot.ly\";Plotly.newPlot(\"dfc254f6-ffef-4cfa-a9f5-5a37b62f5141\", [{\"x\": [0, 1, 2, 3, 4, 5, 6, 7, 8, 9, 10, 11, 12, 13, 14, 15, 16, 17, 18, 20], \"y\": [3506546, 635700, 154085, 42202, 12194, 4010, 1401, 594, 280, 137, 86, 40, 27, 14, 10, 4, 3, 1, 1, 1], \"type\": \"bar\", \"uid\": \"0571220c-cca9-11e8-b055-0242ac130002\"}], {\"title\": \"\", \"xaxis\": {\"tickfont\": {\"color\": \"rgb(107, 107, 107)\", \"size\": 14}, \"title\": \"assists\"}, \"yaxis\": {\"tickfont\": {\"color\": \"rgb(107, 107, 107)\", \"size\": 14}, \"title\": \"Count of assists\", \"titlefont\": {\"color\": \"rgb(107, 107, 107)\", \"size\": 16}}}, {\"showLink\": true, \"linkText\": \"Export to plot.ly\"})});</script>"
          },
          "metadata": {}
        }
      ]
    },
    {
      "metadata": {
        "_uuid": "652fa5a3759fdb7125455bed594d0d7f7631e14b"
      },
      "cell_type": "markdown",
      "source": "### Related variables with kills\nkills : Number of enemy players killed."
    },
    {
      "metadata": {
        "trusted": true,
        "_uuid": "8dfdb722deae7be353e428192464dbcf147f1235"
      },
      "cell_type": "code",
      "source": "temp = df_train['kills'].value_counts().sort_values(ascending=False)\n\ntrace = go.Bar(\n    x = temp.index,\n    y = (temp)\n)\ndata = [trace]\nlayout = go.Layout(\n    title = \"\",\n    xaxis=dict(\n        title='kills',\n        tickfont=dict(\n            size=14,\n            color='rgb(107, 107, 107)'\n        )\n    ),\n    yaxis=dict(\n        title='Count of kills',\n        titlefont=dict(\n            size=16,\n            color='rgb(107, 107, 107)'\n        ),\n        tickfont=dict(\n            size=14,\n            color='rgb(107, 107, 107)'\n        )\n)\n)\nfig = go.Figure(data=data, layout=layout)\npy.iplot(fig, filename='schoolStateNames')",
      "execution_count": 10,
      "outputs": [
        {
          "output_type": "display_data",
          "data": {
            "application/vnd.plotly.v1+json": {
              "data": [
                {
                  "x": [
                    0,
                    1,
                    2,
                    3,
                    4,
                    5,
                    6,
                    7,
                    8,
                    9,
                    10,
                    11,
                    12,
                    13,
                    14,
                    15,
                    16,
                    17,
                    18,
                    19,
                    20,
                    21,
                    22,
                    24,
                    23,
                    26,
                    25,
                    27,
                    28,
                    30,
                    29,
                    31,
                    32,
                    36,
                    34,
                    41,
                    33,
                    49,
                    37,
                    39,
                    35,
                    42,
                    48,
                    60
                  ],
                  "y": [
                    2464072,
                    916170,
                    465632,
                    229589,
                    122488,
                    65929,
                    37406,
                    21820,
                    12941,
                    7809,
                    4714,
                    2886,
                    1852,
                    1156,
                    774,
                    566,
                    369,
                    309,
                    204,
                    130,
                    121,
                    94,
                    60,
                    45,
                    44,
                    31,
                    27,
                    22,
                    12,
                    10,
                    10,
                    9,
                    9,
                    6,
                    5,
                    4,
                    4,
                    1,
                    1,
                    1,
                    1,
                    1,
                    1,
                    1
                  ],
                  "type": "bar",
                  "uid": "0582c962-cca9-11e8-b055-0242ac130002"
                }
              ],
              "layout": {
                "title": "",
                "xaxis": {
                  "tickfont": {
                    "color": "rgb(107, 107, 107)",
                    "size": 14
                  },
                  "title": "kills"
                },
                "yaxis": {
                  "tickfont": {
                    "color": "rgb(107, 107, 107)",
                    "size": 14
                  },
                  "title": "Count of kills",
                  "titlefont": {
                    "color": "rgb(107, 107, 107)",
                    "size": 16
                  }
                }
              }
            },
            "text/html": "<div id=\"8ff6ab40-bf75-433c-a9da-3a1242332fc9\" style=\"height: 525px; width: 100%;\" class=\"plotly-graph-div\"></div><script type=\"text/javascript\">require([\"plotly\"], function(Plotly) { window.PLOTLYENV=window.PLOTLYENV || {};window.PLOTLYENV.BASE_URL=\"https://plot.ly\";Plotly.newPlot(\"8ff6ab40-bf75-433c-a9da-3a1242332fc9\", [{\"x\": [0, 1, 2, 3, 4, 5, 6, 7, 8, 9, 10, 11, 12, 13, 14, 15, 16, 17, 18, 19, 20, 21, 22, 24, 23, 26, 25, 27, 28, 30, 29, 31, 32, 36, 34, 41, 33, 49, 37, 39, 35, 42, 48, 60], \"y\": [2464072, 916170, 465632, 229589, 122488, 65929, 37406, 21820, 12941, 7809, 4714, 2886, 1852, 1156, 774, 566, 369, 309, 204, 130, 121, 94, 60, 45, 44, 31, 27, 22, 12, 10, 10, 9, 9, 6, 5, 4, 4, 1, 1, 1, 1, 1, 1, 1], \"type\": \"bar\", \"uid\": \"0582c962-cca9-11e8-b055-0242ac130002\"}], {\"title\": \"\", \"xaxis\": {\"tickfont\": {\"color\": \"rgb(107, 107, 107)\", \"size\": 14}, \"title\": \"kills\"}, \"yaxis\": {\"tickfont\": {\"color\": \"rgb(107, 107, 107)\", \"size\": 14}, \"title\": \"Count of kills\", \"titlefont\": {\"color\": \"rgb(107, 107, 107)\", \"size\": 16}}}, {\"showLink\": true, \"linkText\": \"Export to plot.ly\"})});</script>",
            "text/vnd.plotly.v1+html": "<div id=\"8ff6ab40-bf75-433c-a9da-3a1242332fc9\" style=\"height: 525px; width: 100%;\" class=\"plotly-graph-div\"></div><script type=\"text/javascript\">require([\"plotly\"], function(Plotly) { window.PLOTLYENV=window.PLOTLYENV || {};window.PLOTLYENV.BASE_URL=\"https://plot.ly\";Plotly.newPlot(\"8ff6ab40-bf75-433c-a9da-3a1242332fc9\", [{\"x\": [0, 1, 2, 3, 4, 5, 6, 7, 8, 9, 10, 11, 12, 13, 14, 15, 16, 17, 18, 19, 20, 21, 22, 24, 23, 26, 25, 27, 28, 30, 29, 31, 32, 36, 34, 41, 33, 49, 37, 39, 35, 42, 48, 60], \"y\": [2464072, 916170, 465632, 229589, 122488, 65929, 37406, 21820, 12941, 7809, 4714, 2886, 1852, 1156, 774, 566, 369, 309, 204, 130, 121, 94, 60, 45, 44, 31, 27, 22, 12, 10, 10, 9, 9, 6, 5, 4, 4, 1, 1, 1, 1, 1, 1, 1], \"type\": \"bar\", \"uid\": \"0582c962-cca9-11e8-b055-0242ac130002\"}], {\"title\": \"\", \"xaxis\": {\"tickfont\": {\"color\": \"rgb(107, 107, 107)\", \"size\": 14}, \"title\": \"kills\"}, \"yaxis\": {\"tickfont\": {\"color\": \"rgb(107, 107, 107)\", \"size\": 14}, \"title\": \"Count of kills\", \"titlefont\": {\"color\": \"rgb(107, 107, 107)\", \"size\": 16}}}, {\"showLink\": true, \"linkText\": \"Export to plot.ly\"})});</script>"
          },
          "metadata": {}
        }
      ]
    },
    {
      "metadata": {
        "_uuid": "b8aa06cfff1d4957c272c898ff0fae4cf95a7f47"
      },
      "cell_type": "markdown",
      "source": "killStreaks : Max number of enemy players killed in a short amount of time."
    },
    {
      "metadata": {
        "trusted": true,
        "_uuid": "6af526f95c72ec275e78925338ec177a211aa452"
      },
      "cell_type": "code",
      "source": "temp = df_train['killStreaks'].value_counts().sort_values(ascending=False)\n\ntrace = go.Bar(\n    x = temp.index,\n    y = (temp)\n)\ndata = [trace]\nlayout = go.Layout(\n    title = \"\",\n    xaxis=dict(\n        title='killStreaks',\n        tickfont=dict(\n            size=14,\n            color='rgb(107, 107, 107)'\n        )\n    ),\n    yaxis=dict(\n        title='Count of killStreaks',\n        titlefont=dict(\n            size=16,\n            color='rgb(107, 107, 107)'\n        ),\n        tickfont=dict(\n            size=14,\n            color='rgb(107, 107, 107)'\n        )\n)\n)\nfig = go.Figure(data=data, layout=layout)\npy.iplot(fig, filename='schoolStateNames')",
      "execution_count": 11,
      "outputs": [
        {
          "output_type": "display_data",
          "data": {
            "application/vnd.plotly.v1+json": {
              "data": [
                {
                  "x": [
                    0,
                    1,
                    2,
                    3,
                    4,
                    5,
                    6,
                    7,
                    8,
                    9,
                    10,
                    11,
                    12,
                    13,
                    14
                  ],
                  "y": [
                    2464072,
                    1434427,
                    401507,
                    50362,
                    6403,
                    389,
                    101,
                    36,
                    17,
                    10,
                    8,
                    1,
                    1,
                    1,
                    1
                  ],
                  "type": "bar",
                  "uid": "0593d7de-cca9-11e8-b055-0242ac130002"
                }
              ],
              "layout": {
                "title": "",
                "xaxis": {
                  "tickfont": {
                    "color": "rgb(107, 107, 107)",
                    "size": 14
                  },
                  "title": "killStreaks"
                },
                "yaxis": {
                  "tickfont": {
                    "color": "rgb(107, 107, 107)",
                    "size": 14
                  },
                  "title": "Count of killStreaks",
                  "titlefont": {
                    "color": "rgb(107, 107, 107)",
                    "size": 16
                  }
                }
              }
            },
            "text/html": "<div id=\"dc5ed2d7-62ff-434b-9215-ec929dca6fd4\" style=\"height: 525px; width: 100%;\" class=\"plotly-graph-div\"></div><script type=\"text/javascript\">require([\"plotly\"], function(Plotly) { window.PLOTLYENV=window.PLOTLYENV || {};window.PLOTLYENV.BASE_URL=\"https://plot.ly\";Plotly.newPlot(\"dc5ed2d7-62ff-434b-9215-ec929dca6fd4\", [{\"x\": [0, 1, 2, 3, 4, 5, 6, 7, 8, 9, 10, 11, 12, 13, 14], \"y\": [2464072, 1434427, 401507, 50362, 6403, 389, 101, 36, 17, 10, 8, 1, 1, 1, 1], \"type\": \"bar\", \"uid\": \"0593d7de-cca9-11e8-b055-0242ac130002\"}], {\"title\": \"\", \"xaxis\": {\"tickfont\": {\"color\": \"rgb(107, 107, 107)\", \"size\": 14}, \"title\": \"killStreaks\"}, \"yaxis\": {\"tickfont\": {\"color\": \"rgb(107, 107, 107)\", \"size\": 14}, \"title\": \"Count of killStreaks\", \"titlefont\": {\"color\": \"rgb(107, 107, 107)\", \"size\": 16}}}, {\"showLink\": true, \"linkText\": \"Export to plot.ly\"})});</script>",
            "text/vnd.plotly.v1+html": "<div id=\"dc5ed2d7-62ff-434b-9215-ec929dca6fd4\" style=\"height: 525px; width: 100%;\" class=\"plotly-graph-div\"></div><script type=\"text/javascript\">require([\"plotly\"], function(Plotly) { window.PLOTLYENV=window.PLOTLYENV || {};window.PLOTLYENV.BASE_URL=\"https://plot.ly\";Plotly.newPlot(\"dc5ed2d7-62ff-434b-9215-ec929dca6fd4\", [{\"x\": [0, 1, 2, 3, 4, 5, 6, 7, 8, 9, 10, 11, 12, 13, 14], \"y\": [2464072, 1434427, 401507, 50362, 6403, 389, 101, 36, 17, 10, 8, 1, 1, 1, 1], \"type\": \"bar\", \"uid\": \"0593d7de-cca9-11e8-b055-0242ac130002\"}], {\"title\": \"\", \"xaxis\": {\"tickfont\": {\"color\": \"rgb(107, 107, 107)\", \"size\": 14}, \"title\": \"killStreaks\"}, \"yaxis\": {\"tickfont\": {\"color\": \"rgb(107, 107, 107)\", \"size\": 14}, \"title\": \"Count of killStreaks\", \"titlefont\": {\"color\": \"rgb(107, 107, 107)\", \"size\": 16}}}, {\"showLink\": true, \"linkText\": \"Export to plot.ly\"})});</script>"
          },
          "metadata": {}
        }
      ]
    },
    {
      "metadata": {
        "trusted": true,
        "_uuid": "bdeaf5885039bc54ca7e96ef5bdff4c79dae3554"
      },
      "cell_type": "markdown",
      "source": "- roadKills : Number of kills while in a vehicle."
    },
    {
      "metadata": {
        "trusted": true,
        "_uuid": "8529516f2ddbed8f9643c6f92b6fdb173ea93c20"
      },
      "cell_type": "code",
      "source": "temp = df_train['roadKills'].value_counts().sort_values(ascending=False)\n\ntrace = go.Bar(\n    x = temp.index,\n    y = (temp)\n)\ndata = [trace]\nlayout = go.Layout(\n    title = \"\",\n    xaxis=dict(\n        title='roadKills',\n        tickfont=dict(\n            size=14,\n            color='rgb(107, 107, 107)'\n        )\n    ),\n    yaxis=dict(\n        title='Count of roadKills',\n        titlefont=dict(\n            size=16,\n            color='rgb(107, 107, 107)'\n        ),\n        tickfont=dict(\n            size=14,\n            color='rgb(107, 107, 107)'\n        )\n)\n)\nfig = go.Figure(data=data, layout=layout)\npy.iplot(fig, filename='schoolStateNames')",
      "execution_count": 12,
      "outputs": [
        {
          "output_type": "display_data",
          "data": {
            "application/vnd.plotly.v1+json": {
              "data": [
                {
                  "x": [
                    0,
                    1,
                    2,
                    3,
                    4,
                    5,
                    6,
                    7,
                    10,
                    9,
                    11,
                    8,
                    13,
                    42
                  ],
                  "y": [
                    4347655,
                    8697,
                    754,
                    124,
                    62,
                    21,
                    8,
                    5,
                    3,
                    2,
                    2,
                    1,
                    1,
                    1
                  ],
                  "type": "bar",
                  "uid": "a78e4d76-cca9-11e8-b055-0242ac130002"
                }
              ],
              "layout": {
                "title": "",
                "xaxis": {
                  "tickfont": {
                    "color": "rgb(107, 107, 107)",
                    "size": 14
                  },
                  "title": "roadKills"
                },
                "yaxis": {
                  "tickfont": {
                    "color": "rgb(107, 107, 107)",
                    "size": 14
                  },
                  "title": "Count of roadKills",
                  "titlefont": {
                    "color": "rgb(107, 107, 107)",
                    "size": 16
                  }
                }
              }
            },
            "text/html": "<div id=\"7f72a4a3-0d53-4d74-8695-8c0fed186adc\" style=\"height: 525px; width: 100%;\" class=\"plotly-graph-div\"></div><script type=\"text/javascript\">require([\"plotly\"], function(Plotly) { window.PLOTLYENV=window.PLOTLYENV || {};window.PLOTLYENV.BASE_URL=\"https://plot.ly\";Plotly.newPlot(\"7f72a4a3-0d53-4d74-8695-8c0fed186adc\", [{\"x\": [0, 1, 2, 3, 4, 5, 6, 7, 10, 9, 11, 8, 13, 42], \"y\": [4347655, 8697, 754, 124, 62, 21, 8, 5, 3, 2, 2, 1, 1, 1], \"type\": \"bar\", \"uid\": \"a78e4d76-cca9-11e8-b055-0242ac130002\"}], {\"title\": \"\", \"xaxis\": {\"tickfont\": {\"color\": \"rgb(107, 107, 107)\", \"size\": 14}, \"title\": \"roadKills\"}, \"yaxis\": {\"tickfont\": {\"color\": \"rgb(107, 107, 107)\", \"size\": 14}, \"title\": \"Count of roadKills\", \"titlefont\": {\"color\": \"rgb(107, 107, 107)\", \"size\": 16}}}, {\"showLink\": true, \"linkText\": \"Export to plot.ly\"})});</script>",
            "text/vnd.plotly.v1+html": "<div id=\"7f72a4a3-0d53-4d74-8695-8c0fed186adc\" style=\"height: 525px; width: 100%;\" class=\"plotly-graph-div\"></div><script type=\"text/javascript\">require([\"plotly\"], function(Plotly) { window.PLOTLYENV=window.PLOTLYENV || {};window.PLOTLYENV.BASE_URL=\"https://plot.ly\";Plotly.newPlot(\"7f72a4a3-0d53-4d74-8695-8c0fed186adc\", [{\"x\": [0, 1, 2, 3, 4, 5, 6, 7, 10, 9, 11, 8, 13, 42], \"y\": [4347655, 8697, 754, 124, 62, 21, 8, 5, 3, 2, 2, 1, 1, 1], \"type\": \"bar\", \"uid\": \"a78e4d76-cca9-11e8-b055-0242ac130002\"}], {\"title\": \"\", \"xaxis\": {\"tickfont\": {\"color\": \"rgb(107, 107, 107)\", \"size\": 14}, \"title\": \"roadKills\"}, \"yaxis\": {\"tickfont\": {\"color\": \"rgb(107, 107, 107)\", \"size\": 14}, \"title\": \"Count of roadKills\", \"titlefont\": {\"color\": \"rgb(107, 107, 107)\", \"size\": 16}}}, {\"showLink\": true, \"linkText\": \"Export to plot.ly\"})});</script>"
          },
          "metadata": {}
        }
      ]
    },
    {
      "metadata": {
        "trusted": true,
        "_uuid": "6f577aad08fcba694ced7df7738588c6bbb2166b"
      },
      "cell_type": "code",
      "source": "df_train['roadKills'].value_counts()",
      "execution_count": 13,
      "outputs": [
        {
          "output_type": "execute_result",
          "execution_count": 13,
          "data": {
            "text/plain": "0     4347655\n1        8697\n2         754\n3         124\n4          62\n5          21\n6           8\n7           5\n10          3\n11          2\n9           2\n42          1\n13          1\n8           1\nName: roadKills, dtype: int64"
          },
          "metadata": {}
        }
      ]
    },
    {
      "metadata": {
        "_uuid": "084bb640ea518567b8e2de5d23b86b4a7ea4669b"
      },
      "cell_type": "markdown",
      "source": "By the value count we can see that by killing someone with car is very difficult."
    },
    {
      "metadata": {
        "_uuid": "ee76391b2ba4098371c3be182fb41bfdd893c04f"
      },
      "cell_type": "markdown",
      "source": "- teamKills : Number of times this player killed a teammate."
    },
    {
      "metadata": {
        "trusted": true,
        "_uuid": "8ce6d9d75c5bff36e69a5b9ad21d44b13fb5e96a"
      },
      "cell_type": "code",
      "source": "temp = df_train['teamKills'].value_counts().sort_values(ascending=False)\n\ntrace = go.Bar(\n    x = temp.index,\n    y = (temp),\n)\ndata = [trace]\nlayout = go.Layout(\n    title = \"\",\n    xaxis=dict(\n        title='teamKills',\n        tickfont=dict(\n            size=14,\n            color='rgb(107, 107, 107)'\n        )\n    ),\n    yaxis=dict(\n        title='Count of teamKills',\n        titlefont=dict(\n            size=16,\n            color='rgb(107, 107, 107)'\n        ),\n        tickfont=dict(\n            size=14,\n            color='rgb(107, 107, 107)'\n        )\n)\n)\nfig = go.Figure(data=data, layout=layout)\npy.iplot(fig, filename='schoolStateNames')\n0",
      "execution_count": 14,
      "outputs": [
        {
          "output_type": "display_data",
          "data": {
            "application/vnd.plotly.v1+json": {
              "data": [
                {
                  "x": [
                    0,
                    1,
                    2,
                    3,
                    4,
                    6,
                    5
                  ],
                  "y": [
                    4304426,
                    46252,
                    5834,
                    728,
                    86,
                    6,
                    4
                  ],
                  "type": "bar",
                  "uid": "9cd15a74-ccac-11e8-b055-0242ac130002"
                }
              ],
              "layout": {
                "title": "",
                "xaxis": {
                  "tickfont": {
                    "color": "rgb(107, 107, 107)",
                    "size": 14
                  },
                  "title": "teamKills"
                },
                "yaxis": {
                  "tickfont": {
                    "color": "rgb(107, 107, 107)",
                    "size": 14
                  },
                  "title": "Count of teamKills",
                  "titlefont": {
                    "color": "rgb(107, 107, 107)",
                    "size": 16
                  }
                }
              }
            },
            "text/html": "<div id=\"524593ad-648c-4b71-a2a9-19b1ffe9350a\" style=\"height: 525px; width: 100%;\" class=\"plotly-graph-div\"></div><script type=\"text/javascript\">require([\"plotly\"], function(Plotly) { window.PLOTLYENV=window.PLOTLYENV || {};window.PLOTLYENV.BASE_URL=\"https://plot.ly\";Plotly.newPlot(\"524593ad-648c-4b71-a2a9-19b1ffe9350a\", [{\"x\": [0, 1, 2, 3, 4, 6, 5], \"y\": [4304426, 46252, 5834, 728, 86, 6, 4], \"type\": \"bar\", \"uid\": \"9cd15a74-ccac-11e8-b055-0242ac130002\"}], {\"title\": \"\", \"xaxis\": {\"tickfont\": {\"color\": \"rgb(107, 107, 107)\", \"size\": 14}, \"title\": \"teamKills\"}, \"yaxis\": {\"tickfont\": {\"color\": \"rgb(107, 107, 107)\", \"size\": 14}, \"title\": \"Count of teamKills\", \"titlefont\": {\"color\": \"rgb(107, 107, 107)\", \"size\": 16}}}, {\"showLink\": true, \"linkText\": \"Export to plot.ly\"})});</script>",
            "text/vnd.plotly.v1+html": "<div id=\"524593ad-648c-4b71-a2a9-19b1ffe9350a\" style=\"height: 525px; width: 100%;\" class=\"plotly-graph-div\"></div><script type=\"text/javascript\">require([\"plotly\"], function(Plotly) { window.PLOTLYENV=window.PLOTLYENV || {};window.PLOTLYENV.BASE_URL=\"https://plot.ly\";Plotly.newPlot(\"524593ad-648c-4b71-a2a9-19b1ffe9350a\", [{\"x\": [0, 1, 2, 3, 4, 6, 5], \"y\": [4304426, 46252, 5834, 728, 86, 6, 4], \"type\": \"bar\", \"uid\": \"9cd15a74-ccac-11e8-b055-0242ac130002\"}], {\"title\": \"\", \"xaxis\": {\"tickfont\": {\"color\": \"rgb(107, 107, 107)\", \"size\": 14}, \"title\": \"teamKills\"}, \"yaxis\": {\"tickfont\": {\"color\": \"rgb(107, 107, 107)\", \"size\": 14}, \"title\": \"Count of teamKills\", \"titlefont\": {\"color\": \"rgb(107, 107, 107)\", \"size\": 16}}}, {\"showLink\": true, \"linkText\": \"Export to plot.ly\"})});</script>"
          },
          "metadata": {}
        },
        {
          "output_type": "execute_result",
          "execution_count": 14,
          "data": {
            "text/plain": "0"
          },
          "metadata": {}
        }
      ]
    },
    {
      "metadata": {
        "trusted": true,
        "_uuid": "1cfbcd48bf12c4da414ff3ccc4fe0f4ac159415a"
      },
      "cell_type": "code",
      "source": "df_train['teamKills'].value_counts()",
      "execution_count": 15,
      "outputs": [
        {
          "output_type": "execute_result",
          "execution_count": 15,
          "data": {
            "text/plain": "0    4304426\n1      46252\n2       5834\n3        728\n4         86\n6          6\n5          4\nName: teamKills, dtype: int64"
          },
          "metadata": {}
        }
      ]
    },
    {
      "metadata": {
        "_uuid": "c58fb9969eeff3e6b40ac8964e7759cc04036c76"
      },
      "cell_type": "markdown",
      "source": "A team kill is when a playes in a team kills a player who is in the same team. The reasons behind killing team members could be.\n\n- He's killing his team members for fun.\n- The other member have a weapon that the player wants.\n- The other member is not playing well.\n\nThere are only 4 members in a team so killing 4-6 members is not possible."
    },
    {
      "metadata": {
        "_uuid": "5bde89c2d5fdb8070c592bac0e766f10c4d6bce3"
      },
      "cell_type": "markdown",
      "source": "- longestKill : Longest distance between player and player killed at time of death. This may be misleading, as downing a player and driving away may lead to a large longestKill stat."
    },
    {
      "metadata": {
        "trusted": true,
        "_uuid": "8061fd6273a5d68ac99942d3a5a1da0d7fbdfa69"
      },
      "cell_type": "code",
      "source": "f, ax = plt.subplots(figsize=(18, 8))\nsns.distplot(df_train['longestKill'])",
      "execution_count": 16,
      "outputs": [
        {
          "output_type": "execute_result",
          "execution_count": 16,
          "data": {
            "text/plain": "<matplotlib.axes._subplots.AxesSubplot at 0x7f6c85041550>"
          },
          "metadata": {}
        },
        {
          "output_type": "display_data",
          "data": {
            "text/plain": "<Figure size 1296x576 with 1 Axes>",
            "image/png": "[encoded data removed]"
          },
          "metadata": {
            "needs_background": "light"
          }
        }
      ]
    },
    {
      "metadata": {
        "_uuid": "9897b4a0785520e4c59b7d64f7ab643a7184a2bc"
      },
      "cell_type": "markdown",
      "source": "There are many kinds of guns in the game. So, as you can see in the picture below, the number of times you pick up a gun is several times."
    },
    {
      "metadata": {
        "trusted": true,
        "_uuid": "925eae637f98b0aa14aed67c4ce1b10ab64c677f"
      },
      "cell_type": "code",
      "source": "temp = df_train['weaponsAcquired'].value_counts().sort_values(ascending=False)\n\ntrace = go.Bar(\n    x = temp.index,\n    y = (temp),\n)\ndata = [trace]\nlayout = go.Layout(\n    title = \"\",\n    xaxis=dict(\n        title='weaponsAcquired',\n        tickfont=dict(\n            size=14,\n            color='rgb(107, 107, 107)'\n        )\n    ),\n    yaxis=dict(\n        title='Count of weaponsAcquired',\n        titlefont=dict(\n            size=16,\n            color='rgb(107, 107, 107)'\n        ),\n        tickfont=dict(\n            size=14,\n            color='rgb(107, 107, 107)'\n        )\n)\n)\nfig = go.Figure(data=data, layout=layout)\npy.iplot(fig, filename='schoolStateNames')",
      "execution_count": 17,
      "outputs": [
        {
          "output_type": "display_data",
          "data": {
            "application/vnd.plotly.v1+json": {
              "data": [
                {
                  "x": [
                    2,
                    3,
                    4,
                    1,
                    5,
                    6,
                    0,
                    7,
                    8,
                    9,
                    10,
                    11,
                    12,
                    13,
                    14,
                    15,
                    16,
                    18,
                    17,
                    20,
                    19,
                    22,
                    21,
                    24,
                    23,
                    26,
                    25,
                    28,
                    27,
                    29,
                    30,
                    32,
                    31,
                    33,
                    34,
                    35,
                    36,
                    40,
                    39,
                    37,
                    38,
                    41,
                    42,
                    44,
                    43,
                    47,
                    45,
                    48,
                    50,
                    46,
                    49,
                    52,
                    58,
                    60,
                    55,
                    51,
                    54,
                    53,
                    69,
                    57,
                    63,
                    61,
                    72,
                    59,
                    62,
                    56,
                    64,
                    67,
                    76
                  ],
                  "y": [
                    839233,
                    811641,
                    657828,
                    625467,
                    479754,
                    310024,
                    227198,
                    182654,
                    101557,
                    53575,
                    28112,
                    14579,
                    7897,
                    4149,
                    2772,
                    1637,
                    1353,
                    984,
                    922,
                    744,
                    675,
                    555,
                    520,
                    460,
                    436,
                    343,
                    324,
                    246,
                    243,
                    187,
                    161,
                    148,
                    143,
                    102,
                    98,
                    91,
                    68,
                    55,
                    54,
                    52,
                    50,
                    36,
                    35,
                    28,
                    23,
                    20,
                    17,
                    13,
                    10,
                    10,
                    9,
                    6,
                    5,
                    4,
                    4,
                    4,
                    3,
                    3,
                    2,
                    2,
                    2,
                    2,
                    1,
                    1,
                    1,
                    1,
                    1,
                    1,
                    1
                  ],
                  "type": "bar",
                  "uid": "427d7b38-ccad-11e8-b055-0242ac130002"
                }
              ],
              "layout": {
                "title": "",
                "xaxis": {
                  "tickfont": {
                    "color": "rgb(107, 107, 107)",
                    "size": 14
                  },
                  "title": "weaponsAcquired"
                },
                "yaxis": {
                  "tickfont": {
                    "color": "rgb(107, 107, 107)",
                    "size": 14
                  },
                  "title": "Count of weaponsAcquired",
                  "titlefont": {
                    "color": "rgb(107, 107, 107)",
                    "size": 16
                  }
                }
              }
            },
            "text/html": "<div id=\"ccde47d8-6e47-42f6-9759-bd8aa974c11a\" style=\"height: 525px; width: 100%;\" class=\"plotly-graph-div\"></div><script type=\"text/javascript\">require([\"plotly\"], function(Plotly) { window.PLOTLYENV=window.PLOTLYENV || {};window.PLOTLYENV.BASE_URL=\"https://plot.ly\";Plotly.newPlot(\"ccde47d8-6e47-42f6-9759-bd8aa974c11a\", [{\"x\": [2, 3, 4, 1, 5, 6, 0, 7, 8, 9, 10, 11, 12, 13, 14, 15, 16, 18, 17, 20, 19, 22, 21, 24, 23, 26, 25, 28, 27, 29, 30, 32, 31, 33, 34, 35, 36, 40, 39, 37, 38, 41, 42, 44, 43, 47, 45, 48, 50, 46, 49, 52, 58, 60, 55, 51, 54, 53, 69, 57, 63, 61, 72, 59, 62, 56, 64, 67, 76], \"y\": [839233, 811641, 657828, 625467, 479754, 310024, 227198, 182654, 101557, 53575, 28112, 14579, 7897, 4149, 2772, 1637, 1353, 984, 922, 744, 675, 555, 520, 460, 436, 343, 324, 246, 243, 187, 161, 148, 143, 102, 98, 91, 68, 55, 54, 52, 50, 36, 35, 28, 23, 20, 17, 13, 10, 10, 9, 6, 5, 4, 4, 4, 3, 3, 2, 2, 2, 2, 1, 1, 1, 1, 1, 1, 1], \"type\": \"bar\", \"uid\": \"427d7b38-ccad-11e8-b055-0242ac130002\"}], {\"title\": \"\", \"xaxis\": {\"tickfont\": {\"color\": \"rgb(107, 107, 107)\", \"size\": 14}, \"title\": \"weaponsAcquired\"}, \"yaxis\": {\"tickfont\": {\"color\": \"rgb(107, 107, 107)\", \"size\": 14}, \"title\": \"Count of weaponsAcquired\", \"titlefont\": {\"color\": \"rgb(107, 107, 107)\", \"size\": 16}}}, {\"showLink\": true, \"linkText\": \"Export to plot.ly\"})});</script>",
            "text/vnd.plotly.v1+html": "<div id=\"ccde47d8-6e47-42f6-9759-bd8aa974c11a\" style=\"height: 525px; width: 100%;\" class=\"plotly-graph-div\"></div><script type=\"text/javascript\">require([\"plotly\"], function(Plotly) { window.PLOTLYENV=window.PLOTLYENV || {};window.PLOTLYENV.BASE_URL=\"https://plot.ly\";Plotly.newPlot(\"ccde47d8-6e47-42f6-9759-bd8aa974c11a\", [{\"x\": [2, 3, 4, 1, 5, 6, 0, 7, 8, 9, 10, 11, 12, 13, 14, 15, 16, 18, 17, 20, 19, 22, 21, 24, 23, 26, 25, 28, 27, 29, 30, 32, 31, 33, 34, 35, 36, 40, 39, 37, 38, 41, 42, 44, 43, 47, 45, 48, 50, 46, 49, 52, 58, 60, 55, 51, 54, 53, 69, 57, 63, 61, 72, 59, 62, 56, 64, 67, 76], \"y\": [839233, 811641, 657828, 625467, 479754, 310024, 227198, 182654, 101557, 53575, 28112, 14579, 7897, 4149, 2772, 1637, 1353, 984, 922, 744, 675, 555, 520, 460, 436, 343, 324, 246, 243, 187, 161, 148, 143, 102, 98, 91, 68, 55, 54, 52, 50, 36, 35, 28, 23, 20, 17, 13, 10, 10, 9, 6, 5, 4, 4, 4, 3, 3, 2, 2, 2, 2, 1, 1, 1, 1, 1, 1, 1], \"type\": \"bar\", \"uid\": \"427d7b38-ccad-11e8-b055-0242ac130002\"}], {\"title\": \"\", \"xaxis\": {\"tickfont\": {\"color\": \"rgb(107, 107, 107)\", \"size\": 14}, \"title\": \"weaponsAcquired\"}, \"yaxis\": {\"tickfont\": {\"color\": \"rgb(107, 107, 107)\", \"size\": 14}, \"title\": \"Count of weaponsAcquired\", \"titlefont\": {\"color\": \"rgb(107, 107, 107)\", \"size\": 16}}}, {\"showLink\": true, \"linkText\": \"Export to plot.ly\"})});</script>"
          },
          "metadata": {}
        }
      ]
    },
    {
      "metadata": {
        "_uuid": "83aa5d13496f8705a361fc5d1c015718cb749ff8"
      },
      "cell_type": "markdown",
      "source": "Among the guns are special guns aimed at fighters at close range, and there are sniper guns that are specially designed to match enemies at long distances (The range is fixed for each gun ). So over a certain distance, all were shot by a sniper rifle."
    },
    {
      "metadata": {
        "_uuid": "1d4ef130b92a49a973cc213fc472c6f236d47eb8"
      },
      "cell_type": "markdown",
      "source": "## headshotKills - not knocked.\nHeadshotKills means that a bullet hit his head and he died right away. it is important that he died right away.\n\nDBNOs : Number of enemy players knocked.\nDBNOs variable means Number of enemy players knocked. Knocked is not dead, but can not act. so if you are knocked, your colleagues can save you (revives variable) but if you died? you don't save... :("
    },
    {
      "metadata": {
        "trusted": true,
        "_uuid": "091fdf55db9379f1a9e8021a132f4e2f51b24e60"
      },
      "cell_type": "code",
      "source": "temp = df_train['headshotKills'].value_counts().sort_values(ascending=False)\n\ntrace = go.Bar(\n    x = temp.index,\n    y = (temp),\n)\ndata = [trace]\nlayout = go.Layout(\n    title = \"\",\n    xaxis=dict(\n        title='headshotKills',\n        tickfont=dict(\n            size=14,\n            color='rgb(107, 107, 107)'\n        )\n    ),\n    yaxis=dict(\n        title='Count of headshotKills',\n        titlefont=dict(\n            size=16,\n            color='rgb(107, 107, 107)'\n        ),\n        tickfont=dict(\n            size=14,\n            color='rgb(107, 107, 107)'\n        )\n)\n)\nfig = go.Figure(data=data, layout=layout)\npy.iplot(fig, filename='schoolStateNames')",
      "execution_count": 18,
      "outputs": [
        {
          "output_type": "display_data",
          "data": {
            "application/vnd.plotly.v1+json": {
              "data": [
                {
                  "x": [
                    0,
                    1,
                    2,
                    3,
                    4,
                    5,
                    6,
                    7,
                    8,
                    9,
                    10,
                    11,
                    12,
                    13,
                    14,
                    15,
                    16,
                    17,
                    23,
                    18,
                    21,
                    24,
                    19,
                    20,
                    26
                  ],
                  "y": [
                    3586587,
                    586339,
                    131666,
                    34981,
                    10632,
                    4019,
                    1573,
                    715,
                    360,
                    185,
                    92,
                    59,
                    43,
                    32,
                    16,
                    10,
                    9,
                    6,
                    4,
                    3,
                    1,
                    1,
                    1,
                    1,
                    1
                  ],
                  "type": "bar",
                  "uid": "7d4d31b8-ccad-11e8-b055-0242ac130002"
                }
              ],
              "layout": {
                "title": "",
                "xaxis": {
                  "tickfont": {
                    "color": "rgb(107, 107, 107)",
                    "size": 14
                  },
                  "title": "headshotKills"
                },
                "yaxis": {
                  "tickfont": {
                    "color": "rgb(107, 107, 107)",
                    "size": 14
                  },
                  "title": "Count of headshotKills",
                  "titlefont": {
                    "color": "rgb(107, 107, 107)",
                    "size": 16
                  }
                }
              }
            },
            "text/html": "<div id=\"f6bd924f-5aa1-440f-9e8b-07fa849f32d8\" style=\"height: 525px; width: 100%;\" class=\"plotly-graph-div\"></div><script type=\"text/javascript\">require([\"plotly\"], function(Plotly) { window.PLOTLYENV=window.PLOTLYENV || {};window.PLOTLYENV.BASE_URL=\"https://plot.ly\";Plotly.newPlot(\"f6bd924f-5aa1-440f-9e8b-07fa849f32d8\", [{\"x\": [0, 1, 2, 3, 4, 5, 6, 7, 8, 9, 10, 11, 12, 13, 14, 15, 16, 17, 23, 18, 21, 24, 19, 20, 26], \"y\": [3586587, 586339, 131666, 34981, 10632, 4019, 1573, 715, 360, 185, 92, 59, 43, 32, 16, 10, 9, 6, 4, 3, 1, 1, 1, 1, 1], \"type\": \"bar\", \"uid\": \"7d4d31b8-ccad-11e8-b055-0242ac130002\"}], {\"title\": \"\", \"xaxis\": {\"tickfont\": {\"color\": \"rgb(107, 107, 107)\", \"size\": 14}, \"title\": \"headshotKills\"}, \"yaxis\": {\"tickfont\": {\"color\": \"rgb(107, 107, 107)\", \"size\": 14}, \"title\": \"Count of headshotKills\", \"titlefont\": {\"color\": \"rgb(107, 107, 107)\", \"size\": 16}}}, {\"showLink\": true, \"linkText\": \"Export to plot.ly\"})});</script>",
            "text/vnd.plotly.v1+html": "<div id=\"f6bd924f-5aa1-440f-9e8b-07fa849f32d8\" style=\"height: 525px; width: 100%;\" class=\"plotly-graph-div\"></div><script type=\"text/javascript\">require([\"plotly\"], function(Plotly) { window.PLOTLYENV=window.PLOTLYENV || {};window.PLOTLYENV.BASE_URL=\"https://plot.ly\";Plotly.newPlot(\"f6bd924f-5aa1-440f-9e8b-07fa849f32d8\", [{\"x\": [0, 1, 2, 3, 4, 5, 6, 7, 8, 9, 10, 11, 12, 13, 14, 15, 16, 17, 23, 18, 21, 24, 19, 20, 26], \"y\": [3586587, 586339, 131666, 34981, 10632, 4019, 1573, 715, 360, 185, 92, 59, 43, 32, 16, 10, 9, 6, 4, 3, 1, 1, 1, 1, 1], \"type\": \"bar\", \"uid\": \"7d4d31b8-ccad-11e8-b055-0242ac130002\"}], {\"title\": \"\", \"xaxis\": {\"tickfont\": {\"color\": \"rgb(107, 107, 107)\", \"size\": 14}, \"title\": \"headshotKills\"}, \"yaxis\": {\"tickfont\": {\"color\": \"rgb(107, 107, 107)\", \"size\": 14}, \"title\": \"Count of headshotKills\", \"titlefont\": {\"color\": \"rgb(107, 107, 107)\", \"size\": 16}}}, {\"showLink\": true, \"linkText\": \"Export to plot.ly\"})});</script>"
          },
          "metadata": {}
        }
      ]
    },
    {
      "metadata": {
        "trusted": true,
        "_uuid": "d9ff5b27ef2509120ad6473a12257d47aac1e0b4"
      },
      "cell_type": "code",
      "source": "df_train['headshotKills'].value_counts()",
      "execution_count": 19,
      "outputs": [
        {
          "output_type": "execute_result",
          "execution_count": 19,
          "data": {
            "text/plain": "0     3586587\n1      586339\n2      131666\n3       34981\n4       10632\n5        4019\n6        1573\n7         715\n8         360\n9         185\n10         92\n11         59\n12         43\n13         32\n14         16\n15         10\n16          9\n17          6\n23          4\n18          3\n24          1\n19          1\n20          1\n21          1\n26          1\nName: headshotKills, dtype: int64"
          },
          "metadata": {}
        }
      ]
    },
    {
      "metadata": {
        "_uuid": "ecd3978d1e1c1b9a902f96791f5e972e9f03ec34"
      },
      "cell_type": "markdown",
      "source": "Here we can see that most of the players didn't even get 1 head shot kill. So we can say that getting a headshot kill is very difficult"
    },
    {
      "metadata": {
        "trusted": true,
        "_uuid": "45bfd0b6bea8bb3c4c46e54d234836b56ff4698b"
      },
      "cell_type": "code",
      "source": "temp = df_train['DBNOs'].value_counts().sort_values(ascending=False)\n\ntrace = go.Bar(\n    x = temp.index,\n    y = (temp),\n)\ndata = [trace]\nlayout = go.Layout(\n    title = \"\",\n    xaxis=dict(\n        title='DBNOs',\n        tickfont=dict(\n            size=14,\n            color='rgb(107, 107, 107)'\n        )\n    ),\n    yaxis=dict(\n        title='Count of DBNOs',\n        titlefont=dict(\n            size=16,\n            color='rgb(107, 107, 107)'\n        ),\n        tickfont=dict(\n            size=14,\n            color='rgb(107, 107, 107)'\n        )\n)\n)\nfig = go.Figure(data=data, layout=layout)\npy.iplot(fig, filename='schoolStateNames')",
      "execution_count": 20,
      "outputs": [
        {
          "output_type": "display_data",
          "data": {
            "application/vnd.plotly.v1+json": {
              "data": [
                {
                  "x": [
                    0,
                    1,
                    2,
                    3,
                    4,
                    5,
                    6,
                    7,
                    8,
                    9,
                    10,
                    11,
                    12,
                    13,
                    14,
                    15,
                    16,
                    17,
                    18,
                    19,
                    20,
                    21,
                    22,
                    23,
                    24,
                    25,
                    26,
                    28,
                    27,
                    32,
                    34,
                    33,
                    29,
                    31,
                    30,
                    41,
                    44,
                    35,
                    36,
                    63
                  ],
                  "y": [
                    2650506,
                    1002331,
                    401824,
                    165640,
                    70560,
                    32095,
                    15506,
                    7594,
                    4154,
                    2339,
                    1498,
                    879,
                    630,
                    433,
                    328,
                    252,
                    180,
                    150,
                    89,
                    79,
                    70,
                    39,
                    35,
                    30,
                    15,
                    15,
                    14,
                    12,
                    10,
                    9,
                    3,
                    3,
                    3,
                    3,
                    3,
                    1,
                    1,
                    1,
                    1,
                    1
                  ],
                  "type": "bar",
                  "uid": "e18b01be-ccad-11e8-b055-0242ac130002"
                }
              ],
              "layout": {
                "title": "",
                "xaxis": {
                  "tickfont": {
                    "color": "rgb(107, 107, 107)",
                    "size": 14
                  },
                  "title": "DBNOs"
                },
                "yaxis": {
                  "tickfont": {
                    "color": "rgb(107, 107, 107)",
                    "size": 14
                  },
                  "title": "Count of DBNOs",
                  "titlefont": {
                    "color": "rgb(107, 107, 107)",
                    "size": 16
                  }
                }
              }
            },
            "text/html": "<div id=\"0d1ed384-dc90-40dc-8b9c-01b54de870e1\" style=\"height: 525px; width: 100%;\" class=\"plotly-graph-div\"></div><script type=\"text/javascript\">require([\"plotly\"], function(Plotly) { window.PLOTLYENV=window.PLOTLYENV || {};window.PLOTLYENV.BASE_URL=\"https://plot.ly\";Plotly.newPlot(\"0d1ed384-dc90-40dc-8b9c-01b54de870e1\", [{\"x\": [0, 1, 2, 3, 4, 5, 6, 7, 8, 9, 10, 11, 12, 13, 14, 15, 16, 17, 18, 19, 20, 21, 22, 23, 24, 25, 26, 28, 27, 32, 34, 33, 29, 31, 30, 41, 44, 35, 36, 63], \"y\": [2650506, 1002331, 401824, 165640, 70560, 32095, 15506, 7594, 4154, 2339, 1498, 879, 630, 433, 328, 252, 180, 150, 89, 79, 70, 39, 35, 30, 15, 15, 14, 12, 10, 9, 3, 3, 3, 3, 3, 1, 1, 1, 1, 1], \"type\": \"bar\", \"uid\": \"e18b01be-ccad-11e8-b055-0242ac130002\"}], {\"title\": \"\", \"xaxis\": {\"tickfont\": {\"color\": \"rgb(107, 107, 107)\", \"size\": 14}, \"title\": \"DBNOs\"}, \"yaxis\": {\"tickfont\": {\"color\": \"rgb(107, 107, 107)\", \"size\": 14}, \"title\": \"Count of DBNOs\", \"titlefont\": {\"color\": \"rgb(107, 107, 107)\", \"size\": 16}}}, {\"showLink\": true, \"linkText\": \"Export to plot.ly\"})});</script>",
            "text/vnd.plotly.v1+html": "<div id=\"0d1ed384-dc90-40dc-8b9c-01b54de870e1\" style=\"height: 525px; width: 100%;\" class=\"plotly-graph-div\"></div><script type=\"text/javascript\">require([\"plotly\"], function(Plotly) { window.PLOTLYENV=window.PLOTLYENV || {};window.PLOTLYENV.BASE_URL=\"https://plot.ly\";Plotly.newPlot(\"0d1ed384-dc90-40dc-8b9c-01b54de870e1\", [{\"x\": [0, 1, 2, 3, 4, 5, 6, 7, 8, 9, 10, 11, 12, 13, 14, 15, 16, 17, 18, 19, 20, 21, 22, 23, 24, 25, 26, 28, 27, 32, 34, 33, 29, 31, 30, 41, 44, 35, 36, 63], \"y\": [2650506, 1002331, 401824, 165640, 70560, 32095, 15506, 7594, 4154, 2339, 1498, 879, 630, 433, 328, 252, 180, 150, 89, 79, 70, 39, 35, 30, 15, 15, 14, 12, 10, 9, 3, 3, 3, 3, 3, 1, 1, 1, 1, 1], \"type\": \"bar\", \"uid\": \"e18b01be-ccad-11e8-b055-0242ac130002\"}], {\"title\": \"\", \"xaxis\": {\"tickfont\": {\"color\": \"rgb(107, 107, 107)\", \"size\": 14}, \"title\": \"DBNOs\"}, \"yaxis\": {\"tickfont\": {\"color\": \"rgb(107, 107, 107)\", \"size\": 14}, \"title\": \"Count of DBNOs\", \"titlefont\": {\"color\": \"rgb(107, 107, 107)\", \"size\": 16}}}, {\"showLink\": true, \"linkText\": \"Export to plot.ly\"})});</script>"
          },
          "metadata": {}
        }
      ]
    },
    {
      "metadata": {
        "_uuid": "2738d1de534d2e7f3b7d92303457d9dc274a0ed0"
      },
      "cell_type": "markdown",
      "source": "what is difference boost vs heal?\nBoth of these variables are items that restore health. but the boosts immediately show the effect, and the heals show the effect slowly.\n\n- boosts : Number of boost items used.\n- heals : Number of healing items used."
    },
    {
      "metadata": {
        "trusted": true,
        "_uuid": "dc3bb60cafce29e566cabdfa8ff5cbfb5f90a1d3"
      },
      "cell_type": "code",
      "source": "temp = df_train['boosts'].value_counts().sort_values(ascending=False)\n\n#print(\"Total number of states : \",len(temp))\ntrace = go.Bar(\n    x = temp.index,\n    y = (temp),\n)\ndata = [trace]\nlayout = go.Layout(\n    title = \"\",\n    xaxis=dict(\n        title='boosts',\n        tickfont=dict(\n            size=14,\n            color='rgb(107, 107, 107)'\n        )\n    ),\n    yaxis=dict(\n        title='Count of boosts',\n        titlefont=dict(\n            size=16,\n            color='rgb(107, 107, 107)'\n        ),\n        tickfont=dict(\n            size=14,\n            color='rgb(107, 107, 107)'\n        )\n)\n)\nfig = go.Figure(data=data, layout=layout)\npy.iplot(fig, filename='schoolStateNames')",
      "execution_count": 21,
      "outputs": [
        {
          "output_type": "display_data",
          "data": {
            "application/vnd.plotly.v1+json": {
              "data": [
                {
                  "x": [
                    0,
                    1,
                    2,
                    3,
                    4,
                    5,
                    6,
                    7,
                    8,
                    9,
                    10,
                    11,
                    12,
                    13,
                    14,
                    15,
                    16,
                    17,
                    18
                  ],
                  "y": [
                    2591280,
                    685055,
                    462935,
                    262281,
                    162461,
                    93671,
                    51591,
                    26386,
                    12417,
                    5457,
                    2304,
                    932,
                    355,
                    123,
                    56,
                    19,
                    6,
                    4,
                    3
                  ],
                  "type": "bar",
                  "uid": "0081cd46-ccae-11e8-b055-0242ac130002"
                }
              ],
              "layout": {
                "title": "",
                "xaxis": {
                  "tickfont": {
                    "color": "rgb(107, 107, 107)",
                    "size": 14
                  },
                  "title": "boosts"
                },
                "yaxis": {
                  "tickfont": {
                    "color": "rgb(107, 107, 107)",
                    "size": 14
                  },
                  "title": "Count of boosts",
                  "titlefont": {
                    "color": "rgb(107, 107, 107)",
                    "size": 16
                  }
                }
              }
            },
            "text/html": "<div id=\"318965a8-9ef3-45af-8819-c25d54735bd7\" style=\"height: 525px; width: 100%;\" class=\"plotly-graph-div\"></div><script type=\"text/javascript\">require([\"plotly\"], function(Plotly) { window.PLOTLYENV=window.PLOTLYENV || {};window.PLOTLYENV.BASE_URL=\"https://plot.ly\";Plotly.newPlot(\"318965a8-9ef3-45af-8819-c25d54735bd7\", [{\"x\": [0, 1, 2, 3, 4, 5, 6, 7, 8, 9, 10, 11, 12, 13, 14, 15, 16, 17, 18], \"y\": [2591280, 685055, 462935, 262281, 162461, 93671, 51591, 26386, 12417, 5457, 2304, 932, 355, 123, 56, 19, 6, 4, 3], \"type\": \"bar\", \"uid\": \"0081cd46-ccae-11e8-b055-0242ac130002\"}], {\"title\": \"\", \"xaxis\": {\"tickfont\": {\"color\": \"rgb(107, 107, 107)\", \"size\": 14}, \"title\": \"boosts\"}, \"yaxis\": {\"tickfont\": {\"color\": \"rgb(107, 107, 107)\", \"size\": 14}, \"title\": \"Count of boosts\", \"titlefont\": {\"color\": \"rgb(107, 107, 107)\", \"size\": 16}}}, {\"showLink\": true, \"linkText\": \"Export to plot.ly\"})});</script>",
            "text/vnd.plotly.v1+html": "<div id=\"318965a8-9ef3-45af-8819-c25d54735bd7\" style=\"height: 525px; width: 100%;\" class=\"plotly-graph-div\"></div><script type=\"text/javascript\">require([\"plotly\"], function(Plotly) { window.PLOTLYENV=window.PLOTLYENV || {};window.PLOTLYENV.BASE_URL=\"https://plot.ly\";Plotly.newPlot(\"318965a8-9ef3-45af-8819-c25d54735bd7\", [{\"x\": [0, 1, 2, 3, 4, 5, 6, 7, 8, 9, 10, 11, 12, 13, 14, 15, 16, 17, 18], \"y\": [2591280, 685055, 462935, 262281, 162461, 93671, 51591, 26386, 12417, 5457, 2304, 932, 355, 123, 56, 19, 6, 4, 3], \"type\": \"bar\", \"uid\": \"0081cd46-ccae-11e8-b055-0242ac130002\"}], {\"title\": \"\", \"xaxis\": {\"tickfont\": {\"color\": \"rgb(107, 107, 107)\", \"size\": 14}, \"title\": \"boosts\"}, \"yaxis\": {\"tickfont\": {\"color\": \"rgb(107, 107, 107)\", \"size\": 14}, \"title\": \"Count of boosts\", \"titlefont\": {\"color\": \"rgb(107, 107, 107)\", \"size\": 16}}}, {\"showLink\": true, \"linkText\": \"Export to plot.ly\"})});</script>"
          },
          "metadata": {}
        }
      ]
    },
    {
      "metadata": {
        "trusted": true,
        "_uuid": "42286e755bb996990ef22a04354269b7bb2443fe"
      },
      "cell_type": "code",
      "source": "temp = df_train['heals'].value_counts().sort_values(ascending=False)\n\n#print(\"Total number of states : \",len(temp))\ntrace = go.Bar(\n    x = temp.index,\n    y = (temp),\n)\ndata = [trace]\nlayout = go.Layout(\n    title = \"\",\n    xaxis=dict(\n        title='heals',\n        tickfont=dict(\n            size=14,\n            color='rgb(107, 107, 107)'\n        )\n    ),\n    yaxis=dict(\n        title='Count of heals',\n        titlefont=dict(\n            size=16,\n            color='rgb(107, 107, 107)'\n        ),\n        tickfont=dict(\n            size=14,\n            color='rgb(107, 107, 107)'\n        )\n)\n)\nfig = go.Figure(data=data, layout=layout)\npy.iplot(fig, filename='schoolStateNames')",
      "execution_count": 22,
      "outputs": [
        {
          "output_type": "display_data",
          "data": {
            "application/vnd.plotly.v1+json": {
              "data": [
                {
                  "x": [
                    0,
                    1,
                    2,
                    3,
                    4,
                    5,
                    6,
                    7,
                    8,
                    9,
                    10,
                    11,
                    12,
                    13,
                    14,
                    15,
                    16,
                    17,
                    18,
                    19,
                    20,
                    21,
                    22,
                    23,
                    24,
                    25,
                    26,
                    27,
                    28,
                    30,
                    29,
                    31,
                    32,
                    33,
                    35,
                    34,
                    36,
                    37,
                    39,
                    40,
                    42,
                    38,
                    48,
                    41,
                    43,
                    58,
                    46,
                    45,
                    55,
                    59
                  ],
                  "y": [
                    2692009,
                    667043,
                    305808,
                    186167,
                    127241,
                    120860,
                    76132,
                    53453,
                    34747,
                    23682,
                    19640,
                    13969,
                    9489,
                    6713,
                    4823,
                    3977,
                    3002,
                    2055,
                    1509,
                    1110,
                    925,
                    751,
                    546,
                    391,
                    287,
                    239,
                    186,
                    127,
                    99,
                    71,
                    63,
                    54,
                    33,
                    30,
                    21,
                    20,
                    20,
                    10,
                    6,
                    6,
                    6,
                    5,
                    2,
                    2,
                    2,
                    1,
                    1,
                    1,
                    1,
                    1
                  ],
                  "type": "bar",
                  "uid": "20ce1e7e-ccae-11e8-b055-0242ac130002"
                }
              ],
              "layout": {
                "title": "",
                "xaxis": {
                  "tickfont": {
                    "color": "rgb(107, 107, 107)",
                    "size": 14
                  },
                  "title": "heals"
                },
                "yaxis": {
                  "tickfont": {
                    "color": "rgb(107, 107, 107)",
                    "size": 14
                  },
                  "title": "Count of heals",
                  "titlefont": {
                    "color": "rgb(107, 107, 107)",
                    "size": 16
                  }
                }
              }
            },
            "text/html": "<div id=\"1a21aae6-3460-4275-b341-59e19a22b255\" style=\"height: 525px; width: 100%;\" class=\"plotly-graph-div\"></div><script type=\"text/javascript\">require([\"plotly\"], function(Plotly) { window.PLOTLYENV=window.PLOTLYENV || {};window.PLOTLYENV.BASE_URL=\"https://plot.ly\";Plotly.newPlot(\"1a21aae6-3460-4275-b341-59e19a22b255\", [{\"x\": [0, 1, 2, 3, 4, 5, 6, 7, 8, 9, 10, 11, 12, 13, 14, 15, 16, 17, 18, 19, 20, 21, 22, 23, 24, 25, 26, 27, 28, 30, 29, 31, 32, 33, 35, 34, 36, 37, 39, 40, 42, 38, 48, 41, 43, 58, 46, 45, 55, 59], \"y\": [2692009, 667043, 305808, 186167, 127241, 120860, 76132, 53453, 34747, 23682, 19640, 13969, 9489, 6713, 4823, 3977, 3002, 2055, 1509, 1110, 925, 751, 546, 391, 287, 239, 186, 127, 99, 71, 63, 54, 33, 30, 21, 20, 20, 10, 6, 6, 6, 5, 2, 2, 2, 1, 1, 1, 1, 1], \"type\": \"bar\", \"uid\": \"20ce1e7e-ccae-11e8-b055-0242ac130002\"}], {\"title\": \"\", \"xaxis\": {\"tickfont\": {\"color\": \"rgb(107, 107, 107)\", \"size\": 14}, \"title\": \"heals\"}, \"yaxis\": {\"tickfont\": {\"color\": \"rgb(107, 107, 107)\", \"size\": 14}, \"title\": \"Count of heals\", \"titlefont\": {\"color\": \"rgb(107, 107, 107)\", \"size\": 16}}}, {\"showLink\": true, \"linkText\": \"Export to plot.ly\"})});</script>",
            "text/vnd.plotly.v1+html": "<div id=\"1a21aae6-3460-4275-b341-59e19a22b255\" style=\"height: 525px; width: 100%;\" class=\"plotly-graph-div\"></div><script type=\"text/javascript\">require([\"plotly\"], function(Plotly) { window.PLOTLYENV=window.PLOTLYENV || {};window.PLOTLYENV.BASE_URL=\"https://plot.ly\";Plotly.newPlot(\"1a21aae6-3460-4275-b341-59e19a22b255\", [{\"x\": [0, 1, 2, 3, 4, 5, 6, 7, 8, 9, 10, 11, 12, 13, 14, 15, 16, 17, 18, 19, 20, 21, 22, 23, 24, 25, 26, 27, 28, 30, 29, 31, 32, 33, 35, 34, 36, 37, 39, 40, 42, 38, 48, 41, 43, 58, 46, 45, 55, 59], \"y\": [2692009, 667043, 305808, 186167, 127241, 120860, 76132, 53453, 34747, 23682, 19640, 13969, 9489, 6713, 4823, 3977, 3002, 2055, 1509, 1110, 925, 751, 546, 391, 287, 239, 186, 127, 99, 71, 63, 54, 33, 30, 21, 20, 20, 10, 6, 6, 6, 5, 2, 2, 2, 1, 1, 1, 1, 1], \"type\": \"bar\", \"uid\": \"20ce1e7e-ccae-11e8-b055-0242ac130002\"}], {\"title\": \"\", \"xaxis\": {\"tickfont\": {\"color\": \"rgb(107, 107, 107)\", \"size\": 14}, \"title\": \"heals\"}, \"yaxis\": {\"tickfont\": {\"color\": \"rgb(107, 107, 107)\", \"size\": 14}, \"title\": \"Count of heals\", \"titlefont\": {\"color\": \"rgb(107, 107, 107)\", \"size\": 16}}}, {\"showLink\": true, \"linkText\": \"Export to plot.ly\"})});</script>"
          },
          "metadata": {}
        }
      ]
    },
    {
      "metadata": {
        "_uuid": "29f0669552a70041512aae63d482b60e7b6792ae"
      },
      "cell_type": "markdown",
      "source": "### Others\n- damageDealt : Total damage dealt. Note: Self inflicted damage is subtracted. If it is not headshot, it does not die in one shot. So restores health by usingboosts or heals. damageDealt means how many bullets have ever been hit."
    },
    {
      "metadata": {
        "trusted": true,
        "_uuid": "ecb0881e1cc370d6f8a42454cb54e5de685c662a"
      },
      "cell_type": "code",
      "source": "f, ax = plt.subplots(figsize=(8, 6))\nsns.distplot(df_train['damageDealt'])",
      "execution_count": 23,
      "outputs": [
        {
          "output_type": "execute_result",
          "execution_count": 23,
          "data": {
            "text/plain": "<matplotlib.axes._subplots.AxesSubplot at 0x7f6c827fe5f8>"
          },
          "metadata": {}
        },
        {
          "output_type": "display_data",
          "data": {
            "text/plain": "<Figure size 576x432 with 1 Axes>",
            "image/png": "[encoded data removed]"
          },
          "metadata": {
            "needs_background": "light"
          }
        }
      ]
    },
    {
      "metadata": {
        "_uuid": "aba849aa0c8a961129682d12ad6f129ce54eea9a"
      },
      "cell_type": "markdown",
      "source": "- revives : Number of times this player revived teammates. I said above, if you knock, your teammates can save you. If a team member is saved, the revives are +1."
    },
    {
      "metadata": {
        "trusted": true,
        "_uuid": "d313fb3ede501ee774efc69f2c4d071838066bd1"
      },
      "cell_type": "code",
      "source": "f, ax = plt.subplots(figsize=(8, 6))\ndf_train['revives'].value_counts().sort_values(ascending=False).plot.bar()",
      "execution_count": 24,
      "outputs": [
        {
          "output_type": "execute_result",
          "execution_count": 24,
          "data": {
            "text/plain": "<matplotlib.axes._subplots.AxesSubplot at 0x7f6c82a69b70>"
          },
          "metadata": {}
        },
        {
          "output_type": "display_data",
          "data": {
            "text/plain": "<Figure size 576x432 with 1 Axes>",
            "image/png": "[encoded data removed]"
          },
          "metadata": {
            "needs_background": "light"
          }
        }
      ]
    },
    {
      "metadata": {
        "_uuid": "ea4e5d533ad405c3e9a58bb70e09793c9592bf62"
      },
      "cell_type": "markdown",
      "source": "- walkDistance : Total distance traveled on foot measured in meters."
    },
    {
      "metadata": {
        "trusted": true,
        "_uuid": "83e517aeb27fe0aa5117d49885bda5041f681dfc"
      },
      "cell_type": "code",
      "source": "f, ax = plt.subplots(figsize=(18, 8))\nsns.distplot(df_train['walkDistance'])",
      "execution_count": 25,
      "outputs": [
        {
          "output_type": "execute_result",
          "execution_count": 25,
          "data": {
            "text/plain": "<matplotlib.axes._subplots.AxesSubplot at 0x7f6c82753630>"
          },
          "metadata": {}
        },
        {
          "output_type": "display_data",
          "data": {
            "text/plain": "<Figure size 1296x576 with 1 Axes>",
            "image/png": "[encoded data removed]"
          },
          "metadata": {
            "needs_background": "light"
          }
        }
      ]
    },
    {
      "metadata": {
        "_uuid": "1f1b9a8d3bd793950fd7697329cb9bbaa8ef0d96"
      },
      "cell_type": "markdown",
      "source": "- rideDistance : Total distance traveled in vehicles measured in meters. The PUBG game is so wide that it is hard to walk around. So I ride around VEHICLE as shown in the picture below."
    },
    {
      "metadata": {
        "trusted": true,
        "_uuid": "e60499128cb71b0e21aa53167b1de55729b55d6d"
      },
      "cell_type": "code",
      "source": "f, ax = plt.subplots(figsize=(18, 8))\nsns.distplot(df_train['rideDistance'])",
      "execution_count": 26,
      "outputs": [
        {
          "output_type": "execute_result",
          "execution_count": 26,
          "data": {
            "text/plain": "<matplotlib.axes._subplots.AxesSubplot at 0x7f6c7ece6ac8>"
          },
          "metadata": {}
        },
        {
          "output_type": "display_data",
          "data": {
            "text/plain": "<Figure size 1296x576 with 1 Axes>",
            "image/png": "[encoded data removed]"
          },
          "metadata": {
            "needs_background": "light"
          }
        }
      ]
    },
    {
      "metadata": {
        "_uuid": "750d45e7c33da57c09df153c62c27af58e8d425e"
      },
      "cell_type": "markdown",
      "source": "- swimDistance: Total distance traveled by swimming measured in meters. The map is wide, and there are some kind of river."
    },
    {
      "metadata": {
        "_uuid": "2f03ffe2deff18962e2d02d88edf22ebb71a8c05"
      },
      "cell_type": "markdown",
      "source": "- vehicleDestroys: Number of vehicles destroyed."
    },
    {
      "metadata": {
        "trusted": true,
        "_uuid": "36036923686da47b6ea8d994ba8d9a7224fc5d78"
      },
      "cell_type": "code",
      "source": "temp = df_train['vehicleDestroys'].value_counts().sort_values(ascending=False)\n\ntrace = go.Bar(\n    x = temp.index,\n    y = (temp),\n)\ndata = [trace]\nlayout = go.Layout(\n    title = \"\",\n    xaxis=dict(\n        title='vehicleDestroys',\n        tickfont=dict(\n            size=14,\n            color='rgb(107, 107, 107)'\n        )\n    ),\n    yaxis=dict(\n        title='Count of vehicleDestroys',\n        titlefont=dict(\n            size=16,\n            color='rgb(107, 107, 107)'\n        ),\n        tickfont=dict(\n            size=14,\n            color='rgb(107, 107, 107)'\n        )\n)\n)\nfig = go.Figure(data=data, layout=layout)\npy.iplot(fig, filename='schoolStateNames')",
      "execution_count": 27,
      "outputs": [
        {
          "output_type": "display_data",
          "data": {
            "application/vnd.plotly.v1+json": {
              "data": [
                {
                  "x": [
                    0,
                    1,
                    2,
                    3,
                    4,
                    5
                  ],
                  "y": [
                    4335704,
                    20898,
                    682,
                    48,
                    2,
                    2
                  ],
                  "type": "bar",
                  "uid": "808b1cae-ccae-11e8-b055-0242ac130002"
                }
              ],
              "layout": {
                "title": "",
                "xaxis": {
                  "tickfont": {
                    "color": "rgb(107, 107, 107)",
                    "size": 14
                  },
                  "title": "vehicleDestroys"
                },
                "yaxis": {
                  "tickfont": {
                    "color": "rgb(107, 107, 107)",
                    "size": 14
                  },
                  "title": "Count of vehicleDestroys",
                  "titlefont": {
                    "color": "rgb(107, 107, 107)",
                    "size": 16
                  }
                }
              }
            },
            "text/html": "<div id=\"23c4b1f3-4b6b-4315-b999-2956b4f45f4e\" style=\"height: 525px; width: 100%;\" class=\"plotly-graph-div\"></div><script type=\"text/javascript\">require([\"plotly\"], function(Plotly) { window.PLOTLYENV=window.PLOTLYENV || {};window.PLOTLYENV.BASE_URL=\"https://plot.ly\";Plotly.newPlot(\"23c4b1f3-4b6b-4315-b999-2956b4f45f4e\", [{\"x\": [0, 1, 2, 3, 4, 5], \"y\": [4335704, 20898, 682, 48, 2, 2], \"type\": \"bar\", \"uid\": \"808b1cae-ccae-11e8-b055-0242ac130002\"}], {\"title\": \"\", \"xaxis\": {\"tickfont\": {\"color\": \"rgb(107, 107, 107)\", \"size\": 14}, \"title\": \"vehicleDestroys\"}, \"yaxis\": {\"tickfont\": {\"color\": \"rgb(107, 107, 107)\", \"size\": 14}, \"title\": \"Count of vehicleDestroys\", \"titlefont\": {\"color\": \"rgb(107, 107, 107)\", \"size\": 16}}}, {\"showLink\": true, \"linkText\": \"Export to plot.ly\"})});</script>",
            "text/vnd.plotly.v1+html": "<div id=\"23c4b1f3-4b6b-4315-b999-2956b4f45f4e\" style=\"height: 525px; width: 100%;\" class=\"plotly-graph-div\"></div><script type=\"text/javascript\">require([\"plotly\"], function(Plotly) { window.PLOTLYENV=window.PLOTLYENV || {};window.PLOTLYENV.BASE_URL=\"https://plot.ly\";Plotly.newPlot(\"23c4b1f3-4b6b-4315-b999-2956b4f45f4e\", [{\"x\": [0, 1, 2, 3, 4, 5], \"y\": [4335704, 20898, 682, 48, 2, 2], \"type\": \"bar\", \"uid\": \"808b1cae-ccae-11e8-b055-0242ac130002\"}], {\"title\": \"\", \"xaxis\": {\"tickfont\": {\"color\": \"rgb(107, 107, 107)\", \"size\": 14}, \"title\": \"vehicleDestroys\"}, \"yaxis\": {\"tickfont\": {\"color\": \"rgb(107, 107, 107)\", \"size\": 14}, \"title\": \"Count of vehicleDestroys\", \"titlefont\": {\"color\": \"rgb(107, 107, 107)\", \"size\": 16}}}, {\"showLink\": true, \"linkText\": \"Export to plot.ly\"})});</script>"
          },
          "metadata": {}
        }
      ]
    },
    {
      "metadata": {
        "trusted": true,
        "_uuid": "8a3d24631d90ecad2b2ce7d49208adc7acb3b653"
      },
      "cell_type": "code",
      "source": "df_train['vehicleDestroys'].value_counts()",
      "execution_count": 28,
      "outputs": [
        {
          "output_type": "execute_result",
          "execution_count": 28,
          "data": {
            "text/plain": "0    4335704\n1      20898\n2        682\n3         48\n5          2\n4          2\nName: vehicleDestroys, dtype: int64"
          },
          "metadata": {}
        }
      ]
    },
    {
      "metadata": {
        "_uuid": "4b80d241b5a022997d8b9bb56d87d060fa9e3954"
      },
      "cell_type": "markdown",
      "source": "If you look at the above values, you will rarely destroy a vehicle. In fact, it is very natural. It is difficult to destroy the car. And there is no profit by destroying the car. Even so, the destruction of a car can be thought of in the following sense.\n\n- The enemy was in the car and shot the car.\n- The enemy hid the car in cover and shot the car.\n- He broke a car with no meaning.\n\nThe third reason is very important. When you play games, you can meet a lot of strange people."
    },
    {
      "metadata": {
        "_uuid": "f4c4ce21bdab3cc663d8785e4765ab71f2d86434"
      },
      "cell_type": "markdown",
      "source": "- weaponsAcquired : Number of weapons picked up. This game is a using gun , but it does not give a gun from the beginning. So you have to go around the map and look for weapons. In the process, you can also have heals, boosts and vehicles."
    },
    {
      "metadata": {
        "trusted": true,
        "_uuid": "80d7ff7d1505e76908e782dda023f3f8bf2197f1"
      },
      "cell_type": "code",
      "source": "temp = df_train['weaponsAcquired'].value_counts().sort_values(ascending=False)\n\ntrace = go.Bar(\n    x = temp.index,\n    y = (temp),\n)\ndata = [trace]\nlayout = go.Layout(\n    title = \"\",\n    xaxis=dict(\n        title='weaponsAcquired',\n        tickfont=dict(\n            size=14,\n            color='rgb(107, 107, 107)'\n        )\n    ),\n    yaxis=dict(\n        title='Count of weaponsAcquired',\n        titlefont=dict(\n            size=16,\n            color='rgb(107, 107, 107)'\n        ),\n        tickfont=dict(\n            size=14,\n            color='rgb(107, 107, 107)'\n        )\n)\n)\nfig = go.Figure(data=data, layout=layout)\npy.iplot(fig, filename='schoolStateNames')",
      "execution_count": 29,
      "outputs": [
        {
          "output_type": "display_data",
          "data": {
            "application/vnd.plotly.v1+json": {
              "data": [
                {
                  "x": [
                    2,
                    3,
                    4,
                    1,
                    5,
                    6,
                    0,
                    7,
                    8,
                    9,
                    10,
                    11,
                    12,
                    13,
                    14,
                    15,
                    16,
                    18,
                    17,
                    20,
                    19,
                    22,
                    21,
                    24,
                    23,
                    26,
                    25,
                    28,
                    27,
                    29,
                    30,
                    32,
                    31,
                    33,
                    34,
                    35,
                    36,
                    40,
                    39,
                    37,
                    38,
                    41,
                    42,
                    44,
                    43,
                    47,
                    45,
                    48,
                    50,
                    46,
                    49,
                    52,
                    58,
                    60,
                    55,
                    51,
                    54,
                    53,
                    69,
                    57,
                    63,
                    61,
                    72,
                    59,
                    62,
                    56,
                    64,
                    67,
                    76
                  ],
                  "y": [
                    839233,
                    811641,
                    657828,
                    625467,
                    479754,
                    310024,
                    227198,
                    182654,
                    101557,
                    53575,
                    28112,
                    14579,
                    7897,
                    4149,
                    2772,
                    1637,
                    1353,
                    984,
                    922,
                    744,
                    675,
                    555,
                    520,
                    460,
                    436,
                    343,
                    324,
                    246,
                    243,
                    187,
                    161,
                    148,
                    143,
                    102,
                    98,
                    91,
                    68,
                    55,
                    54,
                    52,
                    50,
                    36,
                    35,
                    28,
                    23,
                    20,
                    17,
                    13,
                    10,
                    10,
                    9,
                    6,
                    5,
                    4,
                    4,
                    4,
                    3,
                    3,
                    2,
                    2,
                    2,
                    2,
                    1,
                    1,
                    1,
                    1,
                    1,
                    1,
                    1
                  ],
                  "type": "bar",
                  "uid": "e6fbd6b8-ccae-11e8-b055-0242ac130002"
                }
              ],
              "layout": {
                "title": "",
                "xaxis": {
                  "tickfont": {
                    "color": "rgb(107, 107, 107)",
                    "size": 14
                  },
                  "title": "weaponsAcquired"
                },
                "yaxis": {
                  "tickfont": {
                    "color": "rgb(107, 107, 107)",
                    "size": 14
                  },
                  "title": "Count of weaponsAcquired",
                  "titlefont": {
                    "color": "rgb(107, 107, 107)",
                    "size": 16
                  }
                }
              }
            },
            "text/html": "<div id=\"09226601-67e6-4c70-a3fd-948b0c7e0dc8\" style=\"height: 525px; width: 100%;\" class=\"plotly-graph-div\"></div><script type=\"text/javascript\">require([\"plotly\"], function(Plotly) { window.PLOTLYENV=window.PLOTLYENV || {};window.PLOTLYENV.BASE_URL=\"https://plot.ly\";Plotly.newPlot(\"09226601-67e6-4c70-a3fd-948b0c7e0dc8\", [{\"x\": [2, 3, 4, 1, 5, 6, 0, 7, 8, 9, 10, 11, 12, 13, 14, 15, 16, 18, 17, 20, 19, 22, 21, 24, 23, 26, 25, 28, 27, 29, 30, 32, 31, 33, 34, 35, 36, 40, 39, 37, 38, 41, 42, 44, 43, 47, 45, 48, 50, 46, 49, 52, 58, 60, 55, 51, 54, 53, 69, 57, 63, 61, 72, 59, 62, 56, 64, 67, 76], \"y\": [839233, 811641, 657828, 625467, 479754, 310024, 227198, 182654, 101557, 53575, 28112, 14579, 7897, 4149, 2772, 1637, 1353, 984, 922, 744, 675, 555, 520, 460, 436, 343, 324, 246, 243, 187, 161, 148, 143, 102, 98, 91, 68, 55, 54, 52, 50, 36, 35, 28, 23, 20, 17, 13, 10, 10, 9, 6, 5, 4, 4, 4, 3, 3, 2, 2, 2, 2, 1, 1, 1, 1, 1, 1, 1], \"type\": \"bar\", \"uid\": \"e6fbd6b8-ccae-11e8-b055-0242ac130002\"}], {\"title\": \"\", \"xaxis\": {\"tickfont\": {\"color\": \"rgb(107, 107, 107)\", \"size\": 14}, \"title\": \"weaponsAcquired\"}, \"yaxis\": {\"tickfont\": {\"color\": \"rgb(107, 107, 107)\", \"size\": 14}, \"title\": \"Count of weaponsAcquired\", \"titlefont\": {\"color\": \"rgb(107, 107, 107)\", \"size\": 16}}}, {\"showLink\": true, \"linkText\": \"Export to plot.ly\"})});</script>",
            "text/vnd.plotly.v1+html": "<div id=\"09226601-67e6-4c70-a3fd-948b0c7e0dc8\" style=\"height: 525px; width: 100%;\" class=\"plotly-graph-div\"></div><script type=\"text/javascript\">require([\"plotly\"], function(Plotly) { window.PLOTLYENV=window.PLOTLYENV || {};window.PLOTLYENV.BASE_URL=\"https://plot.ly\";Plotly.newPlot(\"09226601-67e6-4c70-a3fd-948b0c7e0dc8\", [{\"x\": [2, 3, 4, 1, 5, 6, 0, 7, 8, 9, 10, 11, 12, 13, 14, 15, 16, 18, 17, 20, 19, 22, 21, 24, 23, 26, 25, 28, 27, 29, 30, 32, 31, 33, 34, 35, 36, 40, 39, 37, 38, 41, 42, 44, 43, 47, 45, 48, 50, 46, 49, 52, 58, 60, 55, 51, 54, 53, 69, 57, 63, 61, 72, 59, 62, 56, 64, 67, 76], \"y\": [839233, 811641, 657828, 625467, 479754, 310024, 227198, 182654, 101557, 53575, 28112, 14579, 7897, 4149, 2772, 1637, 1353, 984, 922, 744, 675, 555, 520, 460, 436, 343, 324, 246, 243, 187, 161, 148, 143, 102, 98, 91, 68, 55, 54, 52, 50, 36, 35, 28, 23, 20, 17, 13, 10, 10, 9, 6, 5, 4, 4, 4, 3, 3, 2, 2, 2, 2, 1, 1, 1, 1, 1, 1, 1], \"type\": \"bar\", \"uid\": \"e6fbd6b8-ccae-11e8-b055-0242ac130002\"}], {\"title\": \"\", \"xaxis\": {\"tickfont\": {\"color\": \"rgb(107, 107, 107)\", \"size\": 14}, \"title\": \"weaponsAcquired\"}, \"yaxis\": {\"tickfont\": {\"color\": \"rgb(107, 107, 107)\", \"size\": 14}, \"title\": \"Count of weaponsAcquired\", \"titlefont\": {\"color\": \"rgb(107, 107, 107)\", \"size\": 16}}}, {\"showLink\": true, \"linkText\": \"Export to plot.ly\"})});</script>"
          },
          "metadata": {}
        }
      ]
    },
    {
      "metadata": {
        "_uuid": "8af327eabe8ae3192aa3dea4fbc13f9b2c409e43"
      },
      "cell_type": "markdown",
      "source": "There are many kinds of guns in the game. So, as you can see in the picture above, the number of times you pick up a gun is several times. but the big number like 76? does not mean the new gun acquired 76. just picked up the gun, dropped it and repeated it. (The reason behind this is almost every gun have 30 bullets in the gun, so to get the bullets the player could pick up the gun again and again but this 76 number is still strange. )"
    },
    {
      "metadata": {
        "_uuid": "0185062258c4cf989e3d69d82ecde009d14d7b89"
      },
      "cell_type": "markdown",
      "source": "## 5. LightGBM"
    },
    {
      "metadata": {
        "trusted": true,
        "_uuid": "9b1cb3450310cba667105c86af0a8128c5608c67"
      },
      "cell_type": "code",
      "source": "import os\nimport time\nimport gc\nimport warnings\nwarnings.filterwarnings(\"ignore\")\n# data manipulation\nimport json\nfrom pandas.io.json import json_normalize\nimport numpy as np\nimport pandas as pd\n# plot\nimport matplotlib.pyplot as plt\nimport seaborn as sns\ncolor = sns.color_palette()\n# model\nfrom sklearn.preprocessing import LabelEncoder\nfrom sklearn.model_selection import KFold\nfrom sklearn.metrics import mean_squared_error\nfrom sklearn.metrics import mean_absolute_error\nimport lightgbm as lgb",
      "execution_count": 30,
      "outputs": []
    },
    {
      "metadata": {
        "trusted": true,
        "_uuid": "89089dd3a8a7294654af51327cb0c00749cbc0fe"
      },
      "cell_type": "code",
      "source": "train_idx = df_train.Id\ntest_idx = df_test.Id\ndf_train[\"winPlacePerc\"] = df_train[\"winPlacePerc\"].astype('float')\ntrain_y = df_train[\"winPlacePerc\"]\ntrain_target = df_train.groupby(\"Id\")[\"winPlacePerc\"].mean()\n\ny_train = df_train[\"winPlacePerc\"]\nx_train = df_train.drop([\"winPlacePerc\"], axis=1)\nx_test = df_test.copy()",
      "execution_count": 31,
      "outputs": []
    },
    {
      "metadata": {
        "trusted": true,
        "_uuid": "02e3eee1a318435eaa8785266f57eabb144907fb"
      },
      "cell_type": "code",
      "source": "folds = KFold(n_splits=5,random_state=6)\noof_preds = np.zeros(x_train.shape[0])\nsub_preds = np.zeros(x_test.shape[0])\n\nstart = time.time()\nvalid_score = 0\nfor n_fold, (trn_idx, val_idx) in enumerate(folds.split(x_train, y_train)):\n    trn_x, trn_y = x_train.iloc[trn_idx], y_train[trn_idx]\n    val_x, val_y = x_train.iloc[val_idx], y_train[val_idx]    \n    \n    train_data = lgb.Dataset(data=trn_x, label=trn_y)\n    valid_data = lgb.Dataset(data=val_x, label=val_y)\n    \n    params = {\"objective\" : \"regression\", \"metric\" : \"mae\", 'n_estimators':10000, 'early_stopping_rounds':100,\n              \"num_leaves\" : 30, \"learning_rate\" : 0.1, \"bagging_fraction\" : 0.9,\n               \"bagging_seed\" : 0}\n    \n    lgb_model = lgb.train(params, train_data, valid_sets=[train_data, valid_data], verbose_eval=1000) \n    \n    oof_preds[val_idx] = lgb_model.predict(val_x, num_iteration=lgb_model.best_iteration)\n    oof_preds[oof_preds>1] = 1\n    oof_preds[oof_preds<0] = 0\n    sub_pred = lgb_model.predict(x_test, num_iteration=lgb_model.best_iteration) / folds.n_splits\n    sub_pred[sub_pred>1] = 1 # should be greater or equal to 1\n    sub_pred[sub_pred<0] = 0 \n    sub_preds += sub_pred\n    print('Fold %2d RMSE : %.6f' % (n_fold + 1, mean_absolute_error(val_y, oof_preds[val_idx])))\n    valid_score += mean_absolute_error(val_y, oof_preds[val_idx])",
      "execution_count": null,
      "outputs": []
    },
    {
      "metadata": {
        "trusted": true,
        "_uuid": "940e686e825ba51633cc51c5e03bd297ff3a80e0"
      },
      "cell_type": "code",
      "source": "test_pred = pd.DataFrame({\"Id\":test_idx})\ntest_pred[\"winPlacePerc\"] = sub_preds\ntest_pred.columns = [\"Id\", \"winPlacePerc\"]\ntest_pred.to_csv(\"lgb_base_model.csv\", index=False) # submission",
      "execution_count": null,
      "outputs": []
    },
    {
      "metadata": {
        "trusted": true,
        "_uuid": "c543e4e4be3914fd3883549191034ea5a9d40de9"
      },
      "cell_type": "code",
      "source": "",
      "execution_count": null,
      "outputs": []
    },
    {
      "metadata": {
        "trusted": true,
        "_uuid": "469a4a737fc494614fd88d768914d209ab65cac6"
      },
      "cell_type": "code",
      "source": "",
      "execution_count": null,
      "outputs": []
    },
    {
      "metadata": {
        "trusted": true,
        "_uuid": "6b2ded17636769e7ff6f7b697eb96100ea657207"
      },
      "cell_type": "code",
      "source": "",
      "execution_count": null,
      "outputs": []
    },
    {
      "metadata": {
        "trusted": true,
        "_uuid": "8dd6d70d0a1f6beec15a0f312a89616b079a7d44"
      },
      "cell_type": "code",
      "source": "",
      "execution_count": null,
      "outputs": []
    },
    {
      "metadata": {
        "trusted": true,
        "_uuid": "ca93e29732f0dcd63edcc50bddcd0c63c7805c7f"
      },
      "cell_type": "code",
      "source": "",
      "execution_count": null,
      "outputs": []
    }
  ],
  "metadata": {
    "kernelspec": {
      "display_name": "Python 3",
      "language": "python",
      "name": "python3"
    },
    "language_info": {
      "name": "python",
      "version": "3.6.6",
      "mimetype": "text/x-python",
      "codemirror_mode": {
        "name": "ipython",
        "version": 3
      },
      "pygments_lexer": "ipython3",
      "nbconvert_exporter": "python",
      "file_extension": ".py"
    }
  },
  "nbformat": 4,
  "nbformat_minor": 1
}