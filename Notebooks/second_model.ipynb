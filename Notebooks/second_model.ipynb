{
  "cells": [
    {
      "metadata": {
        "_uuid": "8f2839f25d086af736a60e9eeb907d3b93b6e0e5",
        "_cell_guid": "b1076dfc-b9ad-4769-8c92-a6c4dae69d19",
        "trusted": true
      },
      "cell_type": "markdown",
      "source": "## Notebook Outline\n- 1. Competition Description\n- 2. Variable Description\n- 3. Simple EDA - waiting\n- 4. LightGBM"
    },
    {
      "metadata": {
        "_cell_guid": "79c7e3d0-c299-4dcb-8224-4455121ee9b0",
        "collapsed": true,
        "_uuid": "d629ff2d2480ee46fbb7e2d37f6b5fab8052498a",
        "trusted": false
      },
      "cell_type": "markdown",
      "source": "## 1. Competiton Description\n\nBattle Royale-style video games have taken the world by storm. 100 players are dropped onto an island empty-handed and must explore, scavenge, and eliminate other players until only one is left standing, all while the play zone continues to shrink.\n\nPlayerUnknown's BattleGrounds (PUBG) has enjoyed massive popularity. With over 50 million copies sold, it's the fifth best selling game of all time, and has millions of active monthly players.\n\nThe team at PUBG has made official game data available for the public to explore and scavenge outside of \"The Blue Circle.\" This competition is not an official or affiliated PUBG site - Kaggle collected data made possible through the PUBG Developer API.\n\nYou are given over 65,000 games' worth of anonymized player data, split into training and testing sets, and asked to predict final placement from final in-game stats and initial player ratings.\n\nWhat's the best strategy to win in PUBG? Should you sit in one spot and hide your way into victory, or do you need to be the top shot?"
    },
    {
      "metadata": {
        "trusted": true,
        "_uuid": "91685e6c6ec353441f6436ad76397e5e9c7b4548"
      },
      "cell_type": "code",
      "source": "import pandas as pd #Analysis \nimport matplotlib.pyplot as plt #Visulization\nimport seaborn as sns #Visulization\nimport numpy as np #Analysis \nfrom scipy.stats import norm #Analysis \nfrom sklearn.preprocessing import StandardScaler #Analysis \nfrom scipy import stats #Analysis \nimport warnings \nwarnings.filterwarnings('ignore')\n%matplotlib inline\nimport plotly.offline as py\npy.init_notebook_mode(connected=True)\nimport plotly.graph_objs as go\nimport plotly.tools as tls\nimport plotly.figure_factory as ff\nfrom sklearn.model_selection import KFold\nfrom sklearn.metrics import mean_absolute_error",
      "execution_count": null,
      "outputs": []
    },
    {
      "metadata": {
        "trusted": true,
        "_uuid": "0cc88c9abcadafea58d0b4a3ecbe72745b51f05e"
      },
      "cell_type": "code",
      "source": "df_train = pd.read_csv('../input/train.csv')\ndf_test  = pd.read_csv('../input/test.csv')",
      "execution_count": null,
      "outputs": []
    },
    {
      "metadata": {
        "trusted": true,
        "_uuid": "f94d3f7059a19eab844695a85143d1a4416ef402"
      },
      "cell_type": "code",
      "source": "df_train.shape, df_test.shape",
      "execution_count": null,
      "outputs": []
    },
    {
      "metadata": {
        "trusted": true,
        "_uuid": "32993c50346404a05a7edfa25fd191e146668f17"
      },
      "cell_type": "code",
      "source": "df_train.head()",
      "execution_count": null,
      "outputs": []
    },
    {
      "metadata": {
        "trusted": true,
        "_uuid": "ac139ae74b657ab743dc41138cf7f7b93a292644"
      },
      "cell_type": "code",
      "source": "df_test.head()",
      "execution_count": null,
      "outputs": []
    },
    {
      "metadata": {
        "_uuid": "9ca192e46376f45eb7be45031e57fcc6d7e4afdc"
      },
      "cell_type": "markdown",
      "source": "## 3. Variable Description\ndata description,\n\n- matchId - Integer ID to identify match. There are no matches that are in both the training and testing set.\n- groupId - Integer ID to identify a group within a match. If the same group of players plays in different matches, they will have a different groupId each time."
    },
    {
      "metadata": {
        "trusted": true,
        "_uuid": "cc27d8176d0732a759223a6bd1fead48707ff210"
      },
      "cell_type": "code",
      "source": "df_train[df_train['groupId']==2]",
      "execution_count": null,
      "outputs": []
    },
    {
      "metadata": {
        "trusted": true,
        "_uuid": "35c25151da0ffc8bdce8f157885e7a036877c82c"
      },
      "cell_type": "code",
      "source": "len(df_train[df_train['matchId']==0]) ",
      "execution_count": null,
      "outputs": []
    },
    {
      "metadata": {
        "_uuid": "f39707d36edfd7f77e9a5097fb22897bda056655"
      },
      "cell_type": "markdown",
      "source": "Here we can see that  **Id** is different, but **groupId and matchId** are the same.\n\nTo illustrate this, a person A with an Id 0 and a person B with an ID 136382 are friends and have a team together (groupId). Then the same match is done, so you can assume that they entered the game with the same matchId.\n\nTo put it another way, Battlegrounds (PBUGs) have a total about 100 people per game. These 100 players have the same matchId. Among them, groupId are same as 24, so you can think that they are friends and joined the team and played together. (There are about 100 people, not necessarily 100 people.)"
    },
    {
      "metadata": {
        "trusted": true,
        "_uuid": "9935bab1e7e3e4e6539fbc60e2a9330fe1669b9e"
      },
      "cell_type": "code",
      "source": "temp = df_train[df_train['matchId']==0]['groupId'].value_counts().sort_values(ascending=False)\ntrace = go.Bar(\n    x = temp.index,\n    y = (temp)\n)\ndata = [trace]\nlayout = go.Layout(\n    title = \"GroupId of Match Id:0\",\n    xaxis=dict(\n        title='groupId',\n        tickfont=dict(\n            size=14,\n            color='rgb(107, 107, 107)'\n        )\n    ),\n    yaxis=dict(\n        title='Count of groupId of type of MatchId 0',\n        titlefont=dict(\n            size=16,\n            color='rgb(107, 107, 107)'\n        ),\n        tickfont=dict(\n            size=14,\n            color='rgb(107, 107, 107)'\n        )\n)\n)\nfig = go.Figure(data=data, layout=layout)\npy.iplot(fig, filename='schoolStateNames')",
      "execution_count": null,
      "outputs": []
    },
    {
      "metadata": {
        "_uuid": "ae41ce9eec6fef44af5dff2eeb2553e82b1820f2"
      },
      "cell_type": "markdown",
      "source": "Note : You can see something strange in value counts. Four people are maximum team member and I do not know what it means more than four people.\n\nMichaelApers metioned it.(https://www.kaggle.com/c/pubg-finish-placement-prediction/discussion/67742#400747)\nI noticed in a kernel that @chocozzz was concerned about why there are sometimes more than 4 players with the same groupId. This can be from any of three causes:\n\n1) The match is from a custom game/event (If there are more than 8 in a group, it is almost definitely this one)\n\n2) The API mistakenly reported two groups as placing in the same place, and in creating groupId these groups were clumped as one larger group. This is also a contributor to the difference between \"numGroups\" and \"maxPlace\" (Teams leaving the game may also contribute).\n\n3) There is a very rare bug in the game in which more than 4 people end up in one group (I am not sure if any of these games are included in this dataset).\n\nI hope that this can help clarify group sizes."
    },
    {
      "metadata": {
        "_uuid": "c30274f61fe1d6c8fb59b8cccc2e3ab15ca76070"
      },
      "cell_type": "markdown",
      "source": "### Data description detail\nThis game is simple. Pick up your weapons, walk around, kill enemies and survive until the end. So if you look at the variables, kill and ride will come out and if you stay alive you will win.\n\nassists : The assists means that i don't kill enemy but help kill enemy. So when you look at the variable, there is also a kill. In other words, if I kill the enemy? kill +1. but if I did not kill the enemy but helped kill the enemy?assists + 1."
    },
    {
      "metadata": {
        "trusted": true,
        "_uuid": "6b5e460fea3c8de158f896206a410abcfd1a5551"
      },
      "cell_type": "code",
      "source": "temp = df_train['assists'].value_counts().sort_values(ascending=False)\n\n#print(\"Total number of states : \",len(temp))\ntrace = go.Bar(\n    x = temp.index,\n    y = (temp)\n)\ndata = [trace]\nlayout = go.Layout(\n    title = \"\",\n    xaxis=dict(\n        title='assists',\n        tickfont=dict(\n            size=14,\n            color='rgb(107, 107, 107)'\n        )\n    ),\n    yaxis=dict(\n        title='Count of assists',\n        titlefont=dict(\n            size=16,\n            color='rgb(107, 107, 107)'\n        ),\n        tickfont=dict(\n            size=14,\n            color='rgb(107, 107, 107)'\n        )\n)\n)\nfig = go.Figure(data=data, layout=layout)\npy.iplot(fig, filename='schoolStateNames')",
      "execution_count": null,
      "outputs": []
    },
    {
      "metadata": {
        "_uuid": "652fa5a3759fdb7125455bed594d0d7f7631e14b"
      },
      "cell_type": "markdown",
      "source": "### Related variables with kills\nkills : Number of enemy players killed."
    },
    {
      "metadata": {
        "trusted": true,
        "_uuid": "8dfdb722deae7be353e428192464dbcf147f1235"
      },
      "cell_type": "code",
      "source": "temp = df_train['kills'].value_counts().sort_values(ascending=False)\n\n#print(\"Total number of states : \",len(temp))\ntrace = go.Bar(\n    x = temp.index,\n    y = (temp)\n)\ndata = [trace]\nlayout = go.Layout(\n    title = \"\",\n    xaxis=dict(\n        title='kills',\n        tickfont=dict(\n            size=14,\n            color='rgb(107, 107, 107)'\n        )\n    ),\n    yaxis=dict(\n        title='Count of kills',\n        titlefont=dict(\n            size=16,\n            color='rgb(107, 107, 107)'\n        ),\n        tickfont=dict(\n            size=14,\n            color='rgb(107, 107, 107)'\n        )\n)\n)\nfig = go.Figure(data=data, layout=layout)\npy.iplot(fig, filename='schoolStateNames')",
      "execution_count": null,
      "outputs": []
    },
    {
      "metadata": {
        "_uuid": "b8aa06cfff1d4957c272c898ff0fae4cf95a7f47"
      },
      "cell_type": "markdown",
      "source": "killStreaks : Max number of enemy players killed in a short amount of time."
    },
    {
      "metadata": {
        "trusted": true,
        "_uuid": "6af526f95c72ec275e78925338ec177a211aa452"
      },
      "cell_type": "code",
      "source": "temp = df_train['killStreaks'].value_counts().sort_values(ascending=False)\n\n#print(\"Total number of states : \",len(temp))\ntrace = go.Bar(\n    x = temp.index,\n    y = (temp)\n)\ndata = [trace]\nlayout = go.Layout(\n    title = \"\",\n    xaxis=dict(\n        title='killStreaks',\n        tickfont=dict(\n            size=14,\n            color='rgb(107, 107, 107)'\n        )\n    ),\n    yaxis=dict(\n        title='Count of killStreaks',\n        titlefont=dict(\n            size=16,\n            color='rgb(107, 107, 107)'\n        ),\n        tickfont=dict(\n            size=14,\n            color='rgb(107, 107, 107)'\n        )\n)\n)\nfig = go.Figure(data=data, layout=layout)\npy.iplot(fig, filename='schoolStateNames')",
      "execution_count": null,
      "outputs": []
    },
    {
      "metadata": {
        "trusted": true,
        "_uuid": "bdeaf5885039bc54ca7e96ef5bdff4c79dae3554"
      },
      "cell_type": "code",
      "source": "",
      "execution_count": null,
      "outputs": []
    },
    {
      "metadata": {
        "trusted": true,
        "_uuid": "1cfbcd48bf12c4da414ff3ccc4fe0f4ac159415a"
      },
      "cell_type": "code",
      "source": "",
      "execution_count": null,
      "outputs": []
    },
    {
      "metadata": {
        "trusted": true,
        "_uuid": "ca93e29732f0dcd63edcc50bddcd0c63c7805c7f"
      },
      "cell_type": "code",
      "source": "",
      "execution_count": null,
      "outputs": []
    }
  ],
  "metadata": {
    "kernelspec": {
      "display_name": "Python 3",
      "language": "python",
      "name": "python3"
    },
    "language_info": {
      "name": "python",
      "version": "3.6.6",
      "mimetype": "text/x-python",
      "codemirror_mode": {
        "name": "ipython",
        "version": 3
      },
      "pygments_lexer": "ipython3",
      "nbconvert_exporter": "python",
      "file_extension": ".py"
    }
  },
  "nbformat": 4,
  "nbformat_minor": 1
}