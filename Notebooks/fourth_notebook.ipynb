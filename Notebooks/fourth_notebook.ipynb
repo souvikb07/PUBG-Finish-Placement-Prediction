{
  "cells": [
    {
      "metadata": {
        "_uuid": "8f2839f25d086af736a60e9eeb907d3b93b6e0e5",
        "_cell_guid": "b1076dfc-b9ad-4769-8c92-a6c4dae69d19",
        "trusted": true
      },
      "cell_type": "markdown",
      "source": "## Notebook Outline\n- 1. Competition Description\n- 2. Variable Description\n- 3. Simple EDA - waiting\n- 4. LightGBM"
    },
    {
      "metadata": {
        "_cell_guid": "79c7e3d0-c299-4dcb-8224-4455121ee9b0",
        "collapsed": true,
        "_uuid": "d629ff2d2480ee46fbb7e2d37f6b5fab8052498a",
        "trusted": false
      },
      "cell_type": "markdown",
      "source": "## 1. Competiton Description\n\nBattle Royale-style video games have taken the world by storm. 100 players are dropped onto an island empty-handed and must explore, scavenge, and eliminate other players until only one is left standing, all while the play zone continues to shrink.\n\nPlayerUnknown's BattleGrounds (PUBG) has enjoyed massive popularity. With over 50 million copies sold, it's the fifth best selling game of all time, and has millions of active monthly players.\n\nThe team at PUBG has made official game data available for the public to explore and scavenge outside of \"The Blue Circle.\" This competition is not an official or affiliated PUBG site - Kaggle collected data made possible through the PUBG Developer API.\n\nYou are given over 65,000 games' worth of anonymized player data, split into training and testing sets, and asked to predict final placement from final in-game stats and initial player ratings.\n\nWhat's the best strategy to win in PUBG? Should you sit in one spot and hide your way into victory, or do you need to be the top shot?"
    },
    {
      "metadata": {
        "trusted": true,
        "_uuid": "91685e6c6ec353441f6436ad76397e5e9c7b4548"
      },
      "cell_type": "code",
      "source": "import pandas as pd #Analysis \nimport matplotlib.pyplot as plt #Visulization\nimport seaborn as sns #Visulization\nimport numpy as np #Analysis \nfrom scipy.stats import norm #Analysis \nfrom sklearn.preprocessing import StandardScaler #Analysis \nfrom scipy import stats #Analysis \nimport warnings \nwarnings.filterwarnings('ignore')\n%matplotlib inline\nimport plotly.offline as py\npy.init_notebook_mode(connected=True)\nimport plotly.graph_objs as go\nimport plotly.tools as tls\nimport plotly.figure_factory as ff\nfrom sklearn.model_selection import KFold\nfrom sklearn.metrics import mean_absolute_error",
      "execution_count": 4,
      "outputs": [
        {
          "output_type": "display_data",
          "data": {
            "text/html": "<script>requirejs.config({paths: { 'plotly': ['https://cdn.plot.ly/plotly-latest.min']},});if(!window.Plotly) {{require(['plotly'],function(plotly) {window.Plotly=plotly;});}}</script>",
            "text/vnd.plotly.v1+html": "<script>requirejs.config({paths: { 'plotly': ['https://cdn.plot.ly/plotly-latest.min']},});if(!window.Plotly) {{require(['plotly'],function(plotly) {window.Plotly=plotly;});}}</script>"
          },
          "metadata": {}
        }
      ]
    },
    {
      "metadata": {
        "trusted": true,
        "_uuid": "0cc88c9abcadafea58d0b4a3ecbe72745b51f05e"
      },
      "cell_type": "code",
      "source": "df_train = pd.read_csv('../input/train_V2.csv')\ndf_test  = pd.read_csv('../input/test_V2.csv')",
      "execution_count": 5,
      "outputs": []
    },
    {
      "metadata": {
        "trusted": true,
        "_uuid": "f94d3f7059a19eab844695a85143d1a4416ef402"
      },
      "cell_type": "code",
      "source": "df_train.shape, df_test.shape",
      "execution_count": 6,
      "outputs": [
        {
          "output_type": "execute_result",
          "execution_count": 6,
          "data": {
            "text/plain": "((4446966, 29), (1934174, 28))"
          },
          "metadata": {}
        }
      ]
    },
    {
      "metadata": {
        "trusted": true,
        "_uuid": "32993c50346404a05a7edfa25fd191e146668f17"
      },
      "cell_type": "code",
      "source": "df_train.head()",
      "execution_count": 7,
      "outputs": [
        {
          "output_type": "execute_result",
          "execution_count": 7,
          "data": {
            "text/plain": "               Id         groupId      ...      winPoints  winPlacePerc\n0  7f96b2f878858a  4d4b580de459be      ...           1466        0.4444\n1  eef90569b9d03c  684d5656442f9e      ...              0        0.6400\n2  1eaf90ac73de72  6a4a42c3245a74      ...              0        0.7755\n3  4616d365dd2853  a930a9c79cd721      ...              0        0.1667\n4  315c96c26c9aac  de04010b3458dd      ...              0        0.1875\n\n[5 rows x 29 columns]",
            "text/html": "<div>\n<style scoped>\n    .dataframe tbody tr th:only-of-type {\n        vertical-align: middle;\n    }\n\n    .dataframe tbody tr th {\n        vertical-align: top;\n    }\n\n    .dataframe thead th {\n        text-align: right;\n    }\n</style>\n<table border=\"1\" class=\"dataframe\">\n  <thead>\n    <tr style=\"text-align: right;\">\n      <th></th>\n      <th>Id</th>\n      <th>groupId</th>\n      <th>matchId</th>\n      <th>assists</th>\n      <th>boosts</th>\n      <th>damageDealt</th>\n      <th>DBNOs</th>\n      <th>headshotKills</th>\n      <th>heals</th>\n      <th>killPlace</th>\n      <th>killPoints</th>\n      <th>kills</th>\n      <th>killStreaks</th>\n      <th>longestKill</th>\n      <th>matchDuration</th>\n      <th>matchType</th>\n      <th>maxPlace</th>\n      <th>numGroups</th>\n      <th>rankPoints</th>\n      <th>revives</th>\n      <th>rideDistance</th>\n      <th>roadKills</th>\n      <th>swimDistance</th>\n      <th>teamKills</th>\n      <th>vehicleDestroys</th>\n      <th>walkDistance</th>\n      <th>weaponsAcquired</th>\n      <th>winPoints</th>\n      <th>winPlacePerc</th>\n    </tr>\n  </thead>\n  <tbody>\n    <tr>\n      <th>0</th>\n      <td>7f96b2f878858a</td>\n      <td>4d4b580de459be</td>\n      <td>a10357fd1a4a91</td>\n      <td>0</td>\n      <td>0</td>\n      <td>0.00</td>\n      <td>0</td>\n      <td>0</td>\n      <td>0</td>\n      <td>60</td>\n      <td>1241</td>\n      <td>0</td>\n      <td>0</td>\n      <td>0.00</td>\n      <td>1306</td>\n      <td>squad-fpp</td>\n      <td>28</td>\n      <td>26</td>\n      <td>-1</td>\n      <td>0</td>\n      <td>0.0000</td>\n      <td>0</td>\n      <td>0.00</td>\n      <td>0</td>\n      <td>0</td>\n      <td>244.80</td>\n      <td>1</td>\n      <td>1466</td>\n      <td>0.4444</td>\n    </tr>\n    <tr>\n      <th>1</th>\n      <td>eef90569b9d03c</td>\n      <td>684d5656442f9e</td>\n      <td>aeb375fc57110c</td>\n      <td>0</td>\n      <td>0</td>\n      <td>91.47</td>\n      <td>0</td>\n      <td>0</td>\n      <td>0</td>\n      <td>57</td>\n      <td>0</td>\n      <td>0</td>\n      <td>0</td>\n      <td>0.00</td>\n      <td>1777</td>\n      <td>squad-fpp</td>\n      <td>26</td>\n      <td>25</td>\n      <td>1484</td>\n      <td>0</td>\n      <td>0.0045</td>\n      <td>0</td>\n      <td>11.04</td>\n      <td>0</td>\n      <td>0</td>\n      <td>1434.00</td>\n      <td>5</td>\n      <td>0</td>\n      <td>0.6400</td>\n    </tr>\n    <tr>\n      <th>2</th>\n      <td>1eaf90ac73de72</td>\n      <td>6a4a42c3245a74</td>\n      <td>110163d8bb94ae</td>\n      <td>1</td>\n      <td>0</td>\n      <td>68.00</td>\n      <td>0</td>\n      <td>0</td>\n      <td>0</td>\n      <td>47</td>\n      <td>0</td>\n      <td>0</td>\n      <td>0</td>\n      <td>0.00</td>\n      <td>1318</td>\n      <td>duo</td>\n      <td>50</td>\n      <td>47</td>\n      <td>1491</td>\n      <td>0</td>\n      <td>0.0000</td>\n      <td>0</td>\n      <td>0.00</td>\n      <td>0</td>\n      <td>0</td>\n      <td>161.80</td>\n      <td>2</td>\n      <td>0</td>\n      <td>0.7755</td>\n    </tr>\n    <tr>\n      <th>3</th>\n      <td>4616d365dd2853</td>\n      <td>a930a9c79cd721</td>\n      <td>f1f1f4ef412d7e</td>\n      <td>0</td>\n      <td>0</td>\n      <td>32.90</td>\n      <td>0</td>\n      <td>0</td>\n      <td>0</td>\n      <td>75</td>\n      <td>0</td>\n      <td>0</td>\n      <td>0</td>\n      <td>0.00</td>\n      <td>1436</td>\n      <td>squad-fpp</td>\n      <td>31</td>\n      <td>30</td>\n      <td>1408</td>\n      <td>0</td>\n      <td>0.0000</td>\n      <td>0</td>\n      <td>0.00</td>\n      <td>0</td>\n      <td>0</td>\n      <td>202.70</td>\n      <td>3</td>\n      <td>0</td>\n      <td>0.1667</td>\n    </tr>\n    <tr>\n      <th>4</th>\n      <td>315c96c26c9aac</td>\n      <td>de04010b3458dd</td>\n      <td>6dc8ff871e21e6</td>\n      <td>0</td>\n      <td>0</td>\n      <td>100.00</td>\n      <td>0</td>\n      <td>0</td>\n      <td>0</td>\n      <td>45</td>\n      <td>0</td>\n      <td>1</td>\n      <td>1</td>\n      <td>58.53</td>\n      <td>1424</td>\n      <td>solo-fpp</td>\n      <td>97</td>\n      <td>95</td>\n      <td>1560</td>\n      <td>0</td>\n      <td>0.0000</td>\n      <td>0</td>\n      <td>0.00</td>\n      <td>0</td>\n      <td>0</td>\n      <td>49.75</td>\n      <td>2</td>\n      <td>0</td>\n      <td>0.1875</td>\n    </tr>\n  </tbody>\n</table>\n</div>"
          },
          "metadata": {}
        }
      ]
    },
    {
      "metadata": {
        "trusted": true,
        "_uuid": "ac139ae74b657ab743dc41138cf7f7b93a292644"
      },
      "cell_type": "code",
      "source": "df_test.head()",
      "execution_count": 8,
      "outputs": [
        {
          "output_type": "execute_result",
          "execution_count": 8,
          "data": {
            "text/plain": "               Id         groupId    ...     weaponsAcquired  winPoints\n0  9329eb41e215eb  676b23c24e70d6    ...                   1          0\n1  639bd0dcd7bda8  430933124148dd    ...                   6          0\n2  63d5c8ef8dfe91  0b45f5db20ba99    ...                   4          0\n3  cf5b81422591d1  b7497dbdc77f4a    ...                   3          0\n4  ee6a295187ba21  6604ce20a1d230    ...                   4          0\n\n[5 rows x 28 columns]",
            "text/html": "<div>\n<style scoped>\n    .dataframe tbody tr th:only-of-type {\n        vertical-align: middle;\n    }\n\n    .dataframe tbody tr th {\n        vertical-align: top;\n    }\n\n    .dataframe thead th {\n        text-align: right;\n    }\n</style>\n<table border=\"1\" class=\"dataframe\">\n  <thead>\n    <tr style=\"text-align: right;\">\n      <th></th>\n      <th>Id</th>\n      <th>groupId</th>\n      <th>matchId</th>\n      <th>assists</th>\n      <th>boosts</th>\n      <th>damageDealt</th>\n      <th>DBNOs</th>\n      <th>headshotKills</th>\n      <th>heals</th>\n      <th>killPlace</th>\n      <th>killPoints</th>\n      <th>kills</th>\n      <th>killStreaks</th>\n      <th>longestKill</th>\n      <th>matchDuration</th>\n      <th>matchType</th>\n      <th>maxPlace</th>\n      <th>numGroups</th>\n      <th>rankPoints</th>\n      <th>revives</th>\n      <th>rideDistance</th>\n      <th>roadKills</th>\n      <th>swimDistance</th>\n      <th>teamKills</th>\n      <th>vehicleDestroys</th>\n      <th>walkDistance</th>\n      <th>weaponsAcquired</th>\n      <th>winPoints</th>\n    </tr>\n  </thead>\n  <tbody>\n    <tr>\n      <th>0</th>\n      <td>9329eb41e215eb</td>\n      <td>676b23c24e70d6</td>\n      <td>45b576ab7daa7f</td>\n      <td>0</td>\n      <td>0</td>\n      <td>51.46</td>\n      <td>0</td>\n      <td>0</td>\n      <td>0</td>\n      <td>73</td>\n      <td>0</td>\n      <td>0</td>\n      <td>0</td>\n      <td>0.00</td>\n      <td>1884</td>\n      <td>squad-fpp</td>\n      <td>28</td>\n      <td>28</td>\n      <td>1500</td>\n      <td>0</td>\n      <td>0.0</td>\n      <td>0</td>\n      <td>0.0</td>\n      <td>0</td>\n      <td>0</td>\n      <td>588.0</td>\n      <td>1</td>\n      <td>0</td>\n    </tr>\n    <tr>\n      <th>1</th>\n      <td>639bd0dcd7bda8</td>\n      <td>430933124148dd</td>\n      <td>42a9a0b906c928</td>\n      <td>0</td>\n      <td>4</td>\n      <td>179.10</td>\n      <td>0</td>\n      <td>0</td>\n      <td>2</td>\n      <td>11</td>\n      <td>0</td>\n      <td>2</td>\n      <td>1</td>\n      <td>361.90</td>\n      <td>1811</td>\n      <td>duo-fpp</td>\n      <td>48</td>\n      <td>47</td>\n      <td>1503</td>\n      <td>2</td>\n      <td>4669.0</td>\n      <td>0</td>\n      <td>0.0</td>\n      <td>0</td>\n      <td>0</td>\n      <td>2017.0</td>\n      <td>6</td>\n      <td>0</td>\n    </tr>\n    <tr>\n      <th>2</th>\n      <td>63d5c8ef8dfe91</td>\n      <td>0b45f5db20ba99</td>\n      <td>87e7e4477a048e</td>\n      <td>1</td>\n      <td>0</td>\n      <td>23.40</td>\n      <td>0</td>\n      <td>0</td>\n      <td>4</td>\n      <td>49</td>\n      <td>0</td>\n      <td>0</td>\n      <td>0</td>\n      <td>0.00</td>\n      <td>1793</td>\n      <td>squad-fpp</td>\n      <td>28</td>\n      <td>27</td>\n      <td>1565</td>\n      <td>0</td>\n      <td>0.0</td>\n      <td>0</td>\n      <td>0.0</td>\n      <td>0</td>\n      <td>0</td>\n      <td>787.8</td>\n      <td>4</td>\n      <td>0</td>\n    </tr>\n    <tr>\n      <th>3</th>\n      <td>cf5b81422591d1</td>\n      <td>b7497dbdc77f4a</td>\n      <td>1b9a94f1af67f1</td>\n      <td>0</td>\n      <td>0</td>\n      <td>65.52</td>\n      <td>0</td>\n      <td>0</td>\n      <td>0</td>\n      <td>54</td>\n      <td>0</td>\n      <td>0</td>\n      <td>0</td>\n      <td>0.00</td>\n      <td>1834</td>\n      <td>duo-fpp</td>\n      <td>45</td>\n      <td>44</td>\n      <td>1465</td>\n      <td>0</td>\n      <td>0.0</td>\n      <td>0</td>\n      <td>0.0</td>\n      <td>0</td>\n      <td>0</td>\n      <td>1812.0</td>\n      <td>3</td>\n      <td>0</td>\n    </tr>\n    <tr>\n      <th>4</th>\n      <td>ee6a295187ba21</td>\n      <td>6604ce20a1d230</td>\n      <td>40754a93016066</td>\n      <td>0</td>\n      <td>4</td>\n      <td>330.20</td>\n      <td>1</td>\n      <td>2</td>\n      <td>1</td>\n      <td>7</td>\n      <td>0</td>\n      <td>3</td>\n      <td>1</td>\n      <td>60.06</td>\n      <td>1326</td>\n      <td>squad-fpp</td>\n      <td>28</td>\n      <td>27</td>\n      <td>1480</td>\n      <td>1</td>\n      <td>0.0</td>\n      <td>0</td>\n      <td>0.0</td>\n      <td>0</td>\n      <td>0</td>\n      <td>2963.0</td>\n      <td>4</td>\n      <td>0</td>\n    </tr>\n  </tbody>\n</table>\n</div>"
          },
          "metadata": {}
        }
      ]
    },
    {
      "metadata": {
        "_uuid": "9ca192e46376f45eb7be45031e57fcc6d7e4afdc"
      },
      "cell_type": "markdown",
      "source": "## 3. Variable Description\ndata description,\n\n- matchId - Integer ID to identify match. There are no matches that are in both the training and testing set.\n- groupId - Integer ID to identify a group within a match. If the same group of players plays in different matches, they will have a different groupId each time."
    },
    {
      "metadata": {
        "trusted": true,
        "_uuid": "cc27d8176d0732a759223a6bd1fead48707ff210"
      },
      "cell_type": "code",
      "source": "df_train[df_train['groupId']==2]",
      "execution_count": 9,
      "outputs": [
        {
          "output_type": "execute_result",
          "execution_count": 9,
          "data": {
            "text/plain": "Empty DataFrame\nColumns: [Id, groupId, matchId, assists, boosts, damageDealt, DBNOs, headshotKills, heals, killPlace, killPoints, kills, killStreaks, longestKill, matchDuration, matchType, maxPlace, numGroups, rankPoints, revives, rideDistance, roadKills, swimDistance, teamKills, vehicleDestroys, walkDistance, weaponsAcquired, winPoints, winPlacePerc]\nIndex: []",
            "text/html": "<div>\n<style scoped>\n    .dataframe tbody tr th:only-of-type {\n        vertical-align: middle;\n    }\n\n    .dataframe tbody tr th {\n        vertical-align: top;\n    }\n\n    .dataframe thead th {\n        text-align: right;\n    }\n</style>\n<table border=\"1\" class=\"dataframe\">\n  <thead>\n    <tr style=\"text-align: right;\">\n      <th></th>\n      <th>Id</th>\n      <th>groupId</th>\n      <th>matchId</th>\n      <th>assists</th>\n      <th>boosts</th>\n      <th>damageDealt</th>\n      <th>DBNOs</th>\n      <th>headshotKills</th>\n      <th>heals</th>\n      <th>killPlace</th>\n      <th>killPoints</th>\n      <th>kills</th>\n      <th>killStreaks</th>\n      <th>longestKill</th>\n      <th>matchDuration</th>\n      <th>matchType</th>\n      <th>maxPlace</th>\n      <th>numGroups</th>\n      <th>rankPoints</th>\n      <th>revives</th>\n      <th>rideDistance</th>\n      <th>roadKills</th>\n      <th>swimDistance</th>\n      <th>teamKills</th>\n      <th>vehicleDestroys</th>\n      <th>walkDistance</th>\n      <th>weaponsAcquired</th>\n      <th>winPoints</th>\n      <th>winPlacePerc</th>\n    </tr>\n  </thead>\n  <tbody>\n  </tbody>\n</table>\n</div>"
          },
          "metadata": {}
        }
      ]
    },
    {
      "metadata": {
        "trusted": true,
        "_uuid": "35c25151da0ffc8bdce8f157885e7a036877c82c"
      },
      "cell_type": "code",
      "source": "len(df_train[df_train['matchId']==0]) ",
      "execution_count": 10,
      "outputs": [
        {
          "output_type": "execute_result",
          "execution_count": 10,
          "data": {
            "text/plain": "0"
          },
          "metadata": {}
        }
      ]
    },
    {
      "metadata": {
        "_uuid": "f39707d36edfd7f77e9a5097fb22897bda056655"
      },
      "cell_type": "markdown",
      "source": "Here we can see that  **Id** is different, but **groupId and matchId** are the same.\n\nTo illustrate this, a person A with an Id 0 and a person B with an ID 136382 are friends and have a team together (groupId). Then the same match is done, so you can assume that they entered the game with the same matchId.\n\nTo put it another way, Battlegrounds (PBUGs) have a total about 100 people per game. These 100 players have the same matchId. Among them, groupId are same as 24, so you can think that they are friends and joined the team and played together. (There are about 100 people, not necessarily 100 people.)"
    },
    {
      "metadata": {
        "trusted": true,
        "_uuid": "9935bab1e7e3e4e6539fbc60e2a9330fe1669b9e"
      },
      "cell_type": "code",
      "source": "temp = df_train[df_train['matchId']==0]['groupId'].value_counts().sort_values(ascending=False)\ntrace = go.Bar(\n    x = temp.index,\n    y = (temp)\n)\ndata = [trace]\nlayout = go.Layout(\n    title = \"GroupId of Match Id:0\",\n    xaxis=dict(\n        title='groupId',\n        tickfont=dict(\n            size=14,\n            color='rgb(107, 107, 107)'\n        )\n    ),\n    yaxis=dict(\n        title='Count of groupId of type of MatchId 0',\n        titlefont=dict(\n            size=16,\n            color='rgb(107, 107, 107)'\n        ),\n        tickfont=dict(\n            size=14,\n            color='rgb(107, 107, 107)'\n        )\n)\n)\nfig = go.Figure(data=data, layout=layout)\npy.iplot(fig, filename='schoolStateNames')",
      "execution_count": 11,
      "outputs": [
        {
          "output_type": "display_data",
          "data": {
            "application/vnd.plotly.v1+json": {
              "data": [
                {
                  "x": [],
                  "y": [],
                  "type": "bar",
                  "uid": "ed20b23e-db95-11e8-a172-afa9c0d857b7"
                }
              ],
              "layout": {
                "title": "GroupId of Match Id:0",
                "xaxis": {
                  "tickfont": {
                    "color": "rgb(107, 107, 107)",
                    "size": 14
                  },
                  "title": "groupId"
                },
                "yaxis": {
                  "tickfont": {
                    "color": "rgb(107, 107, 107)",
                    "size": 14
                  },
                  "title": "Count of groupId of type of MatchId 0",
                  "titlefont": {
                    "color": "rgb(107, 107, 107)",
                    "size": 16
                  }
                }
              }
            },
            "text/html": "<div id=\"8338bd38-5b4f-414f-b4ba-ed8724e032bb\" style=\"height: 525px; width: 100%;\" class=\"plotly-graph-div\"></div><script type=\"text/javascript\">require([\"plotly\"], function(Plotly) { window.PLOTLYENV=window.PLOTLYENV || {};window.PLOTLYENV.BASE_URL=\"https://plot.ly\";Plotly.newPlot(\"8338bd38-5b4f-414f-b4ba-ed8724e032bb\", [{\"x\": [], \"y\": [], \"type\": \"bar\", \"uid\": \"ed20b23e-db95-11e8-a172-afa9c0d857b7\"}], {\"title\": \"GroupId of Match Id:0\", \"xaxis\": {\"tickfont\": {\"color\": \"rgb(107, 107, 107)\", \"size\": 14}, \"title\": \"groupId\"}, \"yaxis\": {\"tickfont\": {\"color\": \"rgb(107, 107, 107)\", \"size\": 14}, \"title\": \"Count of groupId of type of MatchId 0\", \"titlefont\": {\"color\": \"rgb(107, 107, 107)\", \"size\": 16}}}, {\"showLink\": true, \"linkText\": \"Export to plot.ly\"})});</script>",
            "text/vnd.plotly.v1+html": "<div id=\"8338bd38-5b4f-414f-b4ba-ed8724e032bb\" style=\"height: 525px; width: 100%;\" class=\"plotly-graph-div\"></div><script type=\"text/javascript\">require([\"plotly\"], function(Plotly) { window.PLOTLYENV=window.PLOTLYENV || {};window.PLOTLYENV.BASE_URL=\"https://plot.ly\";Plotly.newPlot(\"8338bd38-5b4f-414f-b4ba-ed8724e032bb\", [{\"x\": [], \"y\": [], \"type\": \"bar\", \"uid\": \"ed20b23e-db95-11e8-a172-afa9c0d857b7\"}], {\"title\": \"GroupId of Match Id:0\", \"xaxis\": {\"tickfont\": {\"color\": \"rgb(107, 107, 107)\", \"size\": 14}, \"title\": \"groupId\"}, \"yaxis\": {\"tickfont\": {\"color\": \"rgb(107, 107, 107)\", \"size\": 14}, \"title\": \"Count of groupId of type of MatchId 0\", \"titlefont\": {\"color\": \"rgb(107, 107, 107)\", \"size\": 16}}}, {\"showLink\": true, \"linkText\": \"Export to plot.ly\"})});</script>"
          },
          "metadata": {}
        }
      ]
    },
    {
      "metadata": {
        "_uuid": "ae41ce9eec6fef44af5dff2eeb2553e82b1820f2"
      },
      "cell_type": "markdown",
      "source": "Note : You can see something strange in value counts. Four people are maximum team member and I do not know what it means more than four people.\n\nMichaelApers metioned it.(https://www.kaggle.com/c/pubg-finish-placement-prediction/discussion/67742#400747)\nI noticed in a kernel that @chocozzz was concerned about why there are sometimes more than 4 players with the same groupId. This can be from any of three causes:\n\n1) The match is from a custom game/event (If there are more than 8 in a group, it is almost definitely this one)\n\n2) The API mistakenly reported two groups as placing in the same place, and in creating groupId these groups were clumped as one larger group. This is also a contributor to the difference between \"numGroups\" and \"maxPlace\" (Teams leaving the game may also contribute).\n\n3) There is a very rare bug in the game in which more than 4 people end up in one group (I am not sure if any of these games are included in this dataset).\n\nI hope that this can help clarify group sizes."
    },
    {
      "metadata": {
        "_uuid": "c30274f61fe1d6c8fb59b8cccc2e3ab15ca76070"
      },
      "cell_type": "markdown",
      "source": "### Data description detail\nThis game is simple. Pick up your weapons, walk around, kill enemies and survive until the end. So if you look at the variables, kill and ride will come out and if you stay alive you will win.\n\nassists : The assists means that i don't kill enemy but help kill enemy. So when you look at the variable, there is also a kill. In other words, if I kill the enemy? kill +1. but if I did not kill the enemy but helped kill the enemy?assists + 1."
    },
    {
      "metadata": {
        "trusted": true,
        "_uuid": "6b5e460fea3c8de158f896206a410abcfd1a5551"
      },
      "cell_type": "code",
      "source": "temp = df_train['assists'].value_counts().sort_values(ascending=False)\n\n#print(\"Total number of states : \",len(temp))\ntrace = go.Bar(\n    x = temp.index,\n    y = (temp)\n)\ndata = [trace]\nlayout = go.Layout(\n    title = \"\",\n    xaxis=dict(\n        title='assists',\n        tickfont=dict(\n            size=14,\n            color='rgb(107, 107, 107)'\n        )\n    ),\n    yaxis=dict(\n        title='Count of assists',\n        titlefont=dict(\n            size=16,\n            color='rgb(107, 107, 107)'\n        ),\n        tickfont=dict(\n            size=14,\n            color='rgb(107, 107, 107)'\n        )\n)\n)\nfig = go.Figure(data=data, layout=layout)\npy.iplot(fig, filename='schoolStateNames')",
      "execution_count": 12,
      "outputs": [
        {
          "output_type": "display_data",
          "data": {
            "application/vnd.plotly.v1+json": {
              "data": [
                {
                  "x": [
                    0,
                    1,
                    2,
                    3,
                    4,
                    5,
                    6,
                    7,
                    8,
                    9,
                    10,
                    11,
                    12,
                    13,
                    15,
                    14,
                    17,
                    20,
                    21,
                    22
                  ],
                  "y": [
                    3667660,
                    591883,
                    137144,
                    35640,
                    9990,
                    2892,
                    976,
                    387,
                    185,
                    84,
                    48,
                    27,
                    20,
                    16,
                    7,
                    2,
                    2,
                    1,
                    1,
                    1
                  ],
                  "type": "bar",
                  "uid": "ed2f63e2-db95-11e8-a172-afa9c0d857b7"
                }
              ],
              "layout": {
                "title": "",
                "xaxis": {
                  "tickfont": {
                    "color": "rgb(107, 107, 107)",
                    "size": 14
                  },
                  "title": "assists"
                },
                "yaxis": {
                  "tickfont": {
                    "color": "rgb(107, 107, 107)",
                    "size": 14
                  },
                  "title": "Count of assists",
                  "titlefont": {
                    "color": "rgb(107, 107, 107)",
                    "size": 16
                  }
                }
              }
            },
            "text/html": "<div id=\"790197bb-8816-4d5d-a2bf-17de1615fae1\" style=\"height: 525px; width: 100%;\" class=\"plotly-graph-div\"></div><script type=\"text/javascript\">require([\"plotly\"], function(Plotly) { window.PLOTLYENV=window.PLOTLYENV || {};window.PLOTLYENV.BASE_URL=\"https://plot.ly\";Plotly.newPlot(\"790197bb-8816-4d5d-a2bf-17de1615fae1\", [{\"x\": [0, 1, 2, 3, 4, 5, 6, 7, 8, 9, 10, 11, 12, 13, 15, 14, 17, 20, 21, 22], \"y\": [3667660, 591883, 137144, 35640, 9990, 2892, 976, 387, 185, 84, 48, 27, 20, 16, 7, 2, 2, 1, 1, 1], \"type\": \"bar\", \"uid\": \"ed2f63e2-db95-11e8-a172-afa9c0d857b7\"}], {\"title\": \"\", \"xaxis\": {\"tickfont\": {\"color\": \"rgb(107, 107, 107)\", \"size\": 14}, \"title\": \"assists\"}, \"yaxis\": {\"tickfont\": {\"color\": \"rgb(107, 107, 107)\", \"size\": 14}, \"title\": \"Count of assists\", \"titlefont\": {\"color\": \"rgb(107, 107, 107)\", \"size\": 16}}}, {\"showLink\": true, \"linkText\": \"Export to plot.ly\"})});</script>",
            "text/vnd.plotly.v1+html": "<div id=\"790197bb-8816-4d5d-a2bf-17de1615fae1\" style=\"height: 525px; width: 100%;\" class=\"plotly-graph-div\"></div><script type=\"text/javascript\">require([\"plotly\"], function(Plotly) { window.PLOTLYENV=window.PLOTLYENV || {};window.PLOTLYENV.BASE_URL=\"https://plot.ly\";Plotly.newPlot(\"790197bb-8816-4d5d-a2bf-17de1615fae1\", [{\"x\": [0, 1, 2, 3, 4, 5, 6, 7, 8, 9, 10, 11, 12, 13, 15, 14, 17, 20, 21, 22], \"y\": [3667660, 591883, 137144, 35640, 9990, 2892, 976, 387, 185, 84, 48, 27, 20, 16, 7, 2, 2, 1, 1, 1], \"type\": \"bar\", \"uid\": \"ed2f63e2-db95-11e8-a172-afa9c0d857b7\"}], {\"title\": \"\", \"xaxis\": {\"tickfont\": {\"color\": \"rgb(107, 107, 107)\", \"size\": 14}, \"title\": \"assists\"}, \"yaxis\": {\"tickfont\": {\"color\": \"rgb(107, 107, 107)\", \"size\": 14}, \"title\": \"Count of assists\", \"titlefont\": {\"color\": \"rgb(107, 107, 107)\", \"size\": 16}}}, {\"showLink\": true, \"linkText\": \"Export to plot.ly\"})});</script>"
          },
          "metadata": {}
        }
      ]
    },
    {
      "metadata": {
        "_uuid": "652fa5a3759fdb7125455bed594d0d7f7631e14b"
      },
      "cell_type": "markdown",
      "source": "### Related variables with kills\nkills : Number of enemy players killed."
    },
    {
      "metadata": {
        "trusted": true,
        "_uuid": "8dfdb722deae7be353e428192464dbcf147f1235"
      },
      "cell_type": "code",
      "source": "temp = df_train['kills'].value_counts().sort_values(ascending=False)\n\ntrace = go.Bar(\n    x = temp.index,\n    y = (temp)\n)\ndata = [trace]\nlayout = go.Layout(\n    title = \"\",\n    xaxis=dict(\n        title='kills',\n        tickfont=dict(\n            size=14,\n            color='rgb(107, 107, 107)'\n        )\n    ),\n    yaxis=dict(\n        title='Count of kills',\n        titlefont=dict(\n            size=16,\n            color='rgb(107, 107, 107)'\n        ),\n        tickfont=dict(\n            size=14,\n            color='rgb(107, 107, 107)'\n        )\n)\n)\nfig = go.Figure(data=data, layout=layout)\npy.iplot(fig, filename='schoolStateNames')",
      "execution_count": 13,
      "outputs": [
        {
          "output_type": "display_data",
          "data": {
            "application/vnd.plotly.v1+json": {
              "data": [
                {
                  "x": [
                    0,
                    1,
                    2,
                    3,
                    4,
                    5,
                    6,
                    7,
                    8,
                    9,
                    10,
                    11,
                    12,
                    13,
                    14,
                    15,
                    16,
                    17,
                    18,
                    19,
                    20,
                    22,
                    21,
                    23,
                    24,
                    26,
                    25,
                    28,
                    27,
                    30,
                    31,
                    29,
                    33,
                    36,
                    35,
                    38,
                    34,
                    37,
                    41,
                    53,
                    40,
                    39,
                    32,
                    43,
                    42,
                    44,
                    46,
                    55,
                    56,
                    57,
                    49,
                    66,
                    50,
                    65,
                    48,
                    47,
                    45,
                    72
                  ],
                  "y": [
                    2529722,
                    928079,
                    472466,
                    232441,
                    124543,
                    66577,
                    37960,
                    21816,
                    12779,
                    7644,
                    4599,
                    2799,
                    1755,
                    1137,
                    757,
                    484,
                    325,
                    234,
                    165,
                    112,
                    109,
                    77,
                    70,
                    47,
                    44,
                    27,
                    27,
                    22,
                    21,
                    13,
                    13,
                    13,
                    12,
                    8,
                    7,
                    7,
                    5,
                    5,
                    5,
                    4,
                    4,
                    4,
                    4,
                    3,
                    3,
                    2,
                    2,
                    2,
                    2,
                    2,
                    1,
                    1,
                    1,
                    1,
                    1,
                    1,
                    1,
                    1
                  ],
                  "type": "bar",
                  "uid": "ed3e4380-db95-11e8-a172-afa9c0d857b7"
                }
              ],
              "layout": {
                "title": "",
                "xaxis": {
                  "tickfont": {
                    "color": "rgb(107, 107, 107)",
                    "size": 14
                  },
                  "title": "kills"
                },
                "yaxis": {
                  "tickfont": {
                    "color": "rgb(107, 107, 107)",
                    "size": 14
                  },
                  "title": "Count of kills",
                  "titlefont": {
                    "color": "rgb(107, 107, 107)",
                    "size": 16
                  }
                }
              }
            },
            "text/html": "<div id=\"0017071a-c82f-4431-bbb5-bd245b109357\" style=\"height: 525px; width: 100%;\" class=\"plotly-graph-div\"></div><script type=\"text/javascript\">require([\"plotly\"], function(Plotly) { window.PLOTLYENV=window.PLOTLYENV || {};window.PLOTLYENV.BASE_URL=\"https://plot.ly\";Plotly.newPlot(\"0017071a-c82f-4431-bbb5-bd245b109357\", [{\"x\": [0, 1, 2, 3, 4, 5, 6, 7, 8, 9, 10, 11, 12, 13, 14, 15, 16, 17, 18, 19, 20, 22, 21, 23, 24, 26, 25, 28, 27, 30, 31, 29, 33, 36, 35, 38, 34, 37, 41, 53, 40, 39, 32, 43, 42, 44, 46, 55, 56, 57, 49, 66, 50, 65, 48, 47, 45, 72], \"y\": [2529722, 928079, 472466, 232441, 124543, 66577, 37960, 21816, 12779, 7644, 4599, 2799, 1755, 1137, 757, 484, 325, 234, 165, 112, 109, 77, 70, 47, 44, 27, 27, 22, 21, 13, 13, 13, 12, 8, 7, 7, 5, 5, 5, 4, 4, 4, 4, 3, 3, 2, 2, 2, 2, 2, 1, 1, 1, 1, 1, 1, 1, 1], \"type\": \"bar\", \"uid\": \"ed3e4380-db95-11e8-a172-afa9c0d857b7\"}], {\"title\": \"\", \"xaxis\": {\"tickfont\": {\"color\": \"rgb(107, 107, 107)\", \"size\": 14}, \"title\": \"kills\"}, \"yaxis\": {\"tickfont\": {\"color\": \"rgb(107, 107, 107)\", \"size\": 14}, \"title\": \"Count of kills\", \"titlefont\": {\"color\": \"rgb(107, 107, 107)\", \"size\": 16}}}, {\"showLink\": true, \"linkText\": \"Export to plot.ly\"})});</script>",
            "text/vnd.plotly.v1+html": "<div id=\"0017071a-c82f-4431-bbb5-bd245b109357\" style=\"height: 525px; width: 100%;\" class=\"plotly-graph-div\"></div><script type=\"text/javascript\">require([\"plotly\"], function(Plotly) { window.PLOTLYENV=window.PLOTLYENV || {};window.PLOTLYENV.BASE_URL=\"https://plot.ly\";Plotly.newPlot(\"0017071a-c82f-4431-bbb5-bd245b109357\", [{\"x\": [0, 1, 2, 3, 4, 5, 6, 7, 8, 9, 10, 11, 12, 13, 14, 15, 16, 17, 18, 19, 20, 22, 21, 23, 24, 26, 25, 28, 27, 30, 31, 29, 33, 36, 35, 38, 34, 37, 41, 53, 40, 39, 32, 43, 42, 44, 46, 55, 56, 57, 49, 66, 50, 65, 48, 47, 45, 72], \"y\": [2529722, 928079, 472466, 232441, 124543, 66577, 37960, 21816, 12779, 7644, 4599, 2799, 1755, 1137, 757, 484, 325, 234, 165, 112, 109, 77, 70, 47, 44, 27, 27, 22, 21, 13, 13, 13, 12, 8, 7, 7, 5, 5, 5, 4, 4, 4, 4, 3, 3, 2, 2, 2, 2, 2, 1, 1, 1, 1, 1, 1, 1, 1], \"type\": \"bar\", \"uid\": \"ed3e4380-db95-11e8-a172-afa9c0d857b7\"}], {\"title\": \"\", \"xaxis\": {\"tickfont\": {\"color\": \"rgb(107, 107, 107)\", \"size\": 14}, \"title\": \"kills\"}, \"yaxis\": {\"tickfont\": {\"color\": \"rgb(107, 107, 107)\", \"size\": 14}, \"title\": \"Count of kills\", \"titlefont\": {\"color\": \"rgb(107, 107, 107)\", \"size\": 16}}}, {\"showLink\": true, \"linkText\": \"Export to plot.ly\"})});</script>"
          },
          "metadata": {}
        }
      ]
    },
    {
      "metadata": {
        "_uuid": "b8aa06cfff1d4957c272c898ff0fae4cf95a7f47"
      },
      "cell_type": "markdown",
      "source": "killStreaks : Max number of enemy players killed in a short amount of time."
    },
    {
      "metadata": {
        "trusted": true,
        "_uuid": "6af526f95c72ec275e78925338ec177a211aa452"
      },
      "cell_type": "code",
      "source": "temp = df_train['killStreaks'].value_counts().sort_values(ascending=False)\n\ntrace = go.Bar(\n    x = temp.index,\n    y = (temp)\n)\ndata = [trace]\nlayout = go.Layout(\n    title = \"\",\n    xaxis=dict(\n        title='killStreaks',\n        tickfont=dict(\n            size=14,\n            color='rgb(107, 107, 107)'\n        )\n    ),\n    yaxis=dict(\n        title='Count of killStreaks',\n        titlefont=dict(\n            size=16,\n            color='rgb(107, 107, 107)'\n        ),\n        tickfont=dict(\n            size=14,\n            color='rgb(107, 107, 107)'\n        )\n)\n)\nfig = go.Figure(data=data, layout=layout)\npy.iplot(fig, filename='schoolStateNames')",
      "execution_count": 14,
      "outputs": [
        {
          "output_type": "display_data",
          "data": {
            "application/vnd.plotly.v1+json": {
              "data": [
                {
                  "x": [
                    0,
                    1,
                    2,
                    3,
                    4,
                    5,
                    6,
                    7,
                    8,
                    9,
                    10,
                    11,
                    12,
                    13,
                    14,
                    16,
                    18,
                    20
                  ],
                  "y": [
                    2529722,
                    1475558,
                    389346,
                    45958,
                    5711,
                    409,
                    126,
                    54,
                    32,
                    18,
                    9,
                    8,
                    5,
                    5,
                    2,
                    1,
                    1,
                    1
                  ],
                  "type": "bar",
                  "uid": "ed4cd85a-db95-11e8-a172-afa9c0d857b7"
                }
              ],
              "layout": {
                "title": "",
                "xaxis": {
                  "tickfont": {
                    "color": "rgb(107, 107, 107)",
                    "size": 14
                  },
                  "title": "killStreaks"
                },
                "yaxis": {
                  "tickfont": {
                    "color": "rgb(107, 107, 107)",
                    "size": 14
                  },
                  "title": "Count of killStreaks",
                  "titlefont": {
                    "color": "rgb(107, 107, 107)",
                    "size": 16
                  }
                }
              }
            },
            "text/html": "<div id=\"a8b1d4a2-554c-4414-bd4f-4182500bed03\" style=\"height: 525px; width: 100%;\" class=\"plotly-graph-div\"></div><script type=\"text/javascript\">require([\"plotly\"], function(Plotly) { window.PLOTLYENV=window.PLOTLYENV || {};window.PLOTLYENV.BASE_URL=\"https://plot.ly\";Plotly.newPlot(\"a8b1d4a2-554c-4414-bd4f-4182500bed03\", [{\"x\": [0, 1, 2, 3, 4, 5, 6, 7, 8, 9, 10, 11, 12, 13, 14, 16, 18, 20], \"y\": [2529722, 1475558, 389346, 45958, 5711, 409, 126, 54, 32, 18, 9, 8, 5, 5, 2, 1, 1, 1], \"type\": \"bar\", \"uid\": \"ed4cd85a-db95-11e8-a172-afa9c0d857b7\"}], {\"title\": \"\", \"xaxis\": {\"tickfont\": {\"color\": \"rgb(107, 107, 107)\", \"size\": 14}, \"title\": \"killStreaks\"}, \"yaxis\": {\"tickfont\": {\"color\": \"rgb(107, 107, 107)\", \"size\": 14}, \"title\": \"Count of killStreaks\", \"titlefont\": {\"color\": \"rgb(107, 107, 107)\", \"size\": 16}}}, {\"showLink\": true, \"linkText\": \"Export to plot.ly\"})});</script>",
            "text/vnd.plotly.v1+html": "<div id=\"a8b1d4a2-554c-4414-bd4f-4182500bed03\" style=\"height: 525px; width: 100%;\" class=\"plotly-graph-div\"></div><script type=\"text/javascript\">require([\"plotly\"], function(Plotly) { window.PLOTLYENV=window.PLOTLYENV || {};window.PLOTLYENV.BASE_URL=\"https://plot.ly\";Plotly.newPlot(\"a8b1d4a2-554c-4414-bd4f-4182500bed03\", [{\"x\": [0, 1, 2, 3, 4, 5, 6, 7, 8, 9, 10, 11, 12, 13, 14, 16, 18, 20], \"y\": [2529722, 1475558, 389346, 45958, 5711, 409, 126, 54, 32, 18, 9, 8, 5, 5, 2, 1, 1, 1], \"type\": \"bar\", \"uid\": \"ed4cd85a-db95-11e8-a172-afa9c0d857b7\"}], {\"title\": \"\", \"xaxis\": {\"tickfont\": {\"color\": \"rgb(107, 107, 107)\", \"size\": 14}, \"title\": \"killStreaks\"}, \"yaxis\": {\"tickfont\": {\"color\": \"rgb(107, 107, 107)\", \"size\": 14}, \"title\": \"Count of killStreaks\", \"titlefont\": {\"color\": \"rgb(107, 107, 107)\", \"size\": 16}}}, {\"showLink\": true, \"linkText\": \"Export to plot.ly\"})});</script>"
          },
          "metadata": {}
        }
      ]
    },
    {
      "metadata": {
        "trusted": true,
        "_uuid": "bdeaf5885039bc54ca7e96ef5bdff4c79dae3554"
      },
      "cell_type": "markdown",
      "source": "- roadKills : Number of kills while in a vehicle."
    },
    {
      "metadata": {
        "trusted": true,
        "_uuid": "8529516f2ddbed8f9643c6f92b6fdb173ea93c20"
      },
      "cell_type": "code",
      "source": "temp = df_train['roadKills'].value_counts().sort_values(ascending=False)\n\ntrace = go.Bar(\n    x = temp.index,\n    y = (temp)\n)\ndata = [trace]\nlayout = go.Layout(\n    title = \"\",\n    xaxis=dict(\n        title='roadKills',\n        tickfont=dict(\n            size=14,\n            color='rgb(107, 107, 107)'\n        )\n    ),\n    yaxis=dict(\n        title='Count of roadKills',\n        titlefont=dict(\n            size=16,\n            color='rgb(107, 107, 107)'\n        ),\n        tickfont=dict(\n            size=14,\n            color='rgb(107, 107, 107)'\n        )\n)\n)\nfig = go.Figure(data=data, layout=layout)\npy.iplot(fig, filename='schoolStateNames')",
      "execution_count": 15,
      "outputs": [
        {
          "output_type": "display_data",
          "data": {
            "application/vnd.plotly.v1+json": {
              "data": [
                {
                  "x": [
                    0,
                    1,
                    2,
                    3,
                    4,
                    5,
                    6,
                    7,
                    8,
                    9,
                    10,
                    11,
                    14,
                    18
                  ],
                  "y": [
                    4433970,
                    11247,
                    1298,
                    297,
                    72,
                    36,
                    20,
                    11,
                    7,
                    2,
                    2,
                    2,
                    1,
                    1
                  ],
                  "type": "bar",
                  "uid": "ed5ad5d6-db95-11e8-a172-afa9c0d857b7"
                }
              ],
              "layout": {
                "title": "",
                "xaxis": {
                  "tickfont": {
                    "color": "rgb(107, 107, 107)",
                    "size": 14
                  },
                  "title": "roadKills"
                },
                "yaxis": {
                  "tickfont": {
                    "color": "rgb(107, 107, 107)",
                    "size": 14
                  },
                  "title": "Count of roadKills",
                  "titlefont": {
                    "color": "rgb(107, 107, 107)",
                    "size": 16
                  }
                }
              }
            },
            "text/html": "<div id=\"89929023-d388-4cd4-8e65-d7169fc1c391\" style=\"height: 525px; width: 100%;\" class=\"plotly-graph-div\"></div><script type=\"text/javascript\">require([\"plotly\"], function(Plotly) { window.PLOTLYENV=window.PLOTLYENV || {};window.PLOTLYENV.BASE_URL=\"https://plot.ly\";Plotly.newPlot(\"89929023-d388-4cd4-8e65-d7169fc1c391\", [{\"x\": [0, 1, 2, 3, 4, 5, 6, 7, 8, 9, 10, 11, 14, 18], \"y\": [4433970, 11247, 1298, 297, 72, 36, 20, 11, 7, 2, 2, 2, 1, 1], \"type\": \"bar\", \"uid\": \"ed5ad5d6-db95-11e8-a172-afa9c0d857b7\"}], {\"title\": \"\", \"xaxis\": {\"tickfont\": {\"color\": \"rgb(107, 107, 107)\", \"size\": 14}, \"title\": \"roadKills\"}, \"yaxis\": {\"tickfont\": {\"color\": \"rgb(107, 107, 107)\", \"size\": 14}, \"title\": \"Count of roadKills\", \"titlefont\": {\"color\": \"rgb(107, 107, 107)\", \"size\": 16}}}, {\"showLink\": true, \"linkText\": \"Export to plot.ly\"})});</script>",
            "text/vnd.plotly.v1+html": "<div id=\"89929023-d388-4cd4-8e65-d7169fc1c391\" style=\"height: 525px; width: 100%;\" class=\"plotly-graph-div\"></div><script type=\"text/javascript\">require([\"plotly\"], function(Plotly) { window.PLOTLYENV=window.PLOTLYENV || {};window.PLOTLYENV.BASE_URL=\"https://plot.ly\";Plotly.newPlot(\"89929023-d388-4cd4-8e65-d7169fc1c391\", [{\"x\": [0, 1, 2, 3, 4, 5, 6, 7, 8, 9, 10, 11, 14, 18], \"y\": [4433970, 11247, 1298, 297, 72, 36, 20, 11, 7, 2, 2, 2, 1, 1], \"type\": \"bar\", \"uid\": \"ed5ad5d6-db95-11e8-a172-afa9c0d857b7\"}], {\"title\": \"\", \"xaxis\": {\"tickfont\": {\"color\": \"rgb(107, 107, 107)\", \"size\": 14}, \"title\": \"roadKills\"}, \"yaxis\": {\"tickfont\": {\"color\": \"rgb(107, 107, 107)\", \"size\": 14}, \"title\": \"Count of roadKills\", \"titlefont\": {\"color\": \"rgb(107, 107, 107)\", \"size\": 16}}}, {\"showLink\": true, \"linkText\": \"Export to plot.ly\"})});</script>"
          },
          "metadata": {}
        }
      ]
    },
    {
      "metadata": {
        "trusted": true,
        "_uuid": "6f577aad08fcba694ced7df7738588c6bbb2166b"
      },
      "cell_type": "code",
      "source": "df_train['roadKills'].value_counts()",
      "execution_count": 16,
      "outputs": [
        {
          "output_type": "execute_result",
          "execution_count": 16,
          "data": {
            "text/plain": "0     4433970\n1       11247\n2        1298\n3         297\n4          72\n5          36\n6          20\n7          11\n8           7\n11          2\n10          2\n9           2\n18          1\n14          1\nName: roadKills, dtype: int64"
          },
          "metadata": {}
        }
      ]
    },
    {
      "metadata": {
        "_uuid": "084bb640ea518567b8e2de5d23b86b4a7ea4669b"
      },
      "cell_type": "markdown",
      "source": "By the value count we can see that by killing someone with car is very difficult."
    },
    {
      "metadata": {
        "_uuid": "ee76391b2ba4098371c3be182fb41bfdd893c04f"
      },
      "cell_type": "markdown",
      "source": "- teamKills : Number of times this player killed a teammate."
    },
    {
      "metadata": {
        "trusted": true,
        "_uuid": "8ce6d9d75c5bff36e69a5b9ad21d44b13fb5e96a"
      },
      "cell_type": "code",
      "source": "temp = df_train['teamKills'].value_counts().sort_values(ascending=False)\n\ntrace = go.Bar(\n    x = temp.index,\n    y = (temp),\n)\ndata = [trace]\nlayout = go.Layout(\n    title = \"\",\n    xaxis=dict(\n        title='teamKills',\n        tickfont=dict(\n            size=14,\n            color='rgb(107, 107, 107)'\n        )\n    ),\n    yaxis=dict(\n        title='Count of teamKills',\n        titlefont=dict(\n            size=16,\n            color='rgb(107, 107, 107)'\n        ),\n        tickfont=dict(\n            size=14,\n            color='rgb(107, 107, 107)'\n        )\n)\n)\nfig = go.Figure(data=data, layout=layout)\npy.iplot(fig, filename='schoolStateNames')\n0",
      "execution_count": 17,
      "outputs": [
        {
          "output_type": "display_data",
          "data": {
            "application/vnd.plotly.v1+json": {
              "data": [
                {
                  "x": [
                    0,
                    1,
                    2,
                    3,
                    4,
                    5,
                    10,
                    6,
                    7,
                    8,
                    12
                  ],
                  "y": [
                    4350036,
                    88771,
                    7236,
                    829,
                    81,
                    7,
                    2,
                    1,
                    1,
                    1,
                    1
                  ],
                  "type": "bar",
                  "uid": "ed70f55a-db95-11e8-a172-afa9c0d857b7"
                }
              ],
              "layout": {
                "title": "",
                "xaxis": {
                  "tickfont": {
                    "color": "rgb(107, 107, 107)",
                    "size": 14
                  },
                  "title": "teamKills"
                },
                "yaxis": {
                  "tickfont": {
                    "color": "rgb(107, 107, 107)",
                    "size": 14
                  },
                  "title": "Count of teamKills",
                  "titlefont": {
                    "color": "rgb(107, 107, 107)",
                    "size": 16
                  }
                }
              }
            },
            "text/html": "<div id=\"f80b3156-f7ff-4ef0-8a3a-a1ea221d8c61\" style=\"height: 525px; width: 100%;\" class=\"plotly-graph-div\"></div><script type=\"text/javascript\">require([\"plotly\"], function(Plotly) { window.PLOTLYENV=window.PLOTLYENV || {};window.PLOTLYENV.BASE_URL=\"https://plot.ly\";Plotly.newPlot(\"f80b3156-f7ff-4ef0-8a3a-a1ea221d8c61\", [{\"x\": [0, 1, 2, 3, 4, 5, 10, 6, 7, 8, 12], \"y\": [4350036, 88771, 7236, 829, 81, 7, 2, 1, 1, 1, 1], \"type\": \"bar\", \"uid\": \"ed70f55a-db95-11e8-a172-afa9c0d857b7\"}], {\"title\": \"\", \"xaxis\": {\"tickfont\": {\"color\": \"rgb(107, 107, 107)\", \"size\": 14}, \"title\": \"teamKills\"}, \"yaxis\": {\"tickfont\": {\"color\": \"rgb(107, 107, 107)\", \"size\": 14}, \"title\": \"Count of teamKills\", \"titlefont\": {\"color\": \"rgb(107, 107, 107)\", \"size\": 16}}}, {\"showLink\": true, \"linkText\": \"Export to plot.ly\"})});</script>",
            "text/vnd.plotly.v1+html": "<div id=\"f80b3156-f7ff-4ef0-8a3a-a1ea221d8c61\" style=\"height: 525px; width: 100%;\" class=\"plotly-graph-div\"></div><script type=\"text/javascript\">require([\"plotly\"], function(Plotly) { window.PLOTLYENV=window.PLOTLYENV || {};window.PLOTLYENV.BASE_URL=\"https://plot.ly\";Plotly.newPlot(\"f80b3156-f7ff-4ef0-8a3a-a1ea221d8c61\", [{\"x\": [0, 1, 2, 3, 4, 5, 10, 6, 7, 8, 12], \"y\": [4350036, 88771, 7236, 829, 81, 7, 2, 1, 1, 1, 1], \"type\": \"bar\", \"uid\": \"ed70f55a-db95-11e8-a172-afa9c0d857b7\"}], {\"title\": \"\", \"xaxis\": {\"tickfont\": {\"color\": \"rgb(107, 107, 107)\", \"size\": 14}, \"title\": \"teamKills\"}, \"yaxis\": {\"tickfont\": {\"color\": \"rgb(107, 107, 107)\", \"size\": 14}, \"title\": \"Count of teamKills\", \"titlefont\": {\"color\": \"rgb(107, 107, 107)\", \"size\": 16}}}, {\"showLink\": true, \"linkText\": \"Export to plot.ly\"})});</script>"
          },
          "metadata": {}
        },
        {
          "output_type": "execute_result",
          "execution_count": 17,
          "data": {
            "text/plain": "0"
          },
          "metadata": {}
        }
      ]
    },
    {
      "metadata": {
        "trusted": true,
        "_uuid": "1cfbcd48bf12c4da414ff3ccc4fe0f4ac159415a"
      },
      "cell_type": "code",
      "source": "df_train['teamKills'].value_counts()",
      "execution_count": 18,
      "outputs": [
        {
          "output_type": "execute_result",
          "execution_count": 18,
          "data": {
            "text/plain": "0     4350036\n1       88771\n2        7236\n3         829\n4          81\n5           7\n10          2\n12          1\n8           1\n7           1\n6           1\nName: teamKills, dtype: int64"
          },
          "metadata": {}
        }
      ]
    },
    {
      "metadata": {
        "_uuid": "c58fb9969eeff3e6b40ac8964e7759cc04036c76"
      },
      "cell_type": "markdown",
      "source": "A team kill is when a playes in a team kills a player who is in the same team. The reasons behind killing team members could be.\n\n- He's killing his team members for fun.\n- The other member have a weapon that the player wants.\n- The other member is not playing well.\n\nThere are only 4 members in a team so killing 4-6 members is not possible."
    },
    {
      "metadata": {
        "_uuid": "5bde89c2d5fdb8070c592bac0e766f10c4d6bce3"
      },
      "cell_type": "markdown",
      "source": "- longestKill : Longest distance between player and player killed at time of death. This may be misleading, as downing a player and driving away may lead to a large longestKill stat."
    },
    {
      "metadata": {
        "trusted": true,
        "_uuid": "8061fd6273a5d68ac99942d3a5a1da0d7fbdfa69"
      },
      "cell_type": "code",
      "source": "f, ax = plt.subplots(figsize=(18, 8))\nsns.distplot(df_train['longestKill'])",
      "execution_count": 19,
      "outputs": [
        {
          "output_type": "execute_result",
          "execution_count": 19,
          "data": {
            "text/plain": "<matplotlib.axes._subplots.AxesSubplot at 0x7f4d14cf6cc0>"
          },
          "metadata": {}
        },
        {
          "output_type": "display_data",
          "data": {
            "text/plain": "<Figure size 1296x576 with 1 Axes>",
            "image/png": "[encoded data removed]"
          },
          "metadata": {
            "needs_background": "light"
          }
        }
      ]
    },
    {
      "metadata": {
        "_uuid": "9897b4a0785520e4c59b7d64f7ab643a7184a2bc"
      },
      "cell_type": "markdown",
      "source": "There are many kinds of guns in the game. So, as you can see in the picture below, the number of times you pick up a gun is several times."
    },
    {
      "metadata": {
        "trusted": true,
        "_uuid": "925eae637f98b0aa14aed67c4ce1b10ab64c677f"
      },
      "cell_type": "code",
      "source": "temp = df_train['weaponsAcquired'].value_counts().sort_values(ascending=False)\n\ntrace = go.Bar(\n    x = temp.index,\n    y = (temp),\n)\ndata = [trace]\nlayout = go.Layout(\n    title = \"\",\n    xaxis=dict(\n        title='weaponsAcquired',\n        tickfont=dict(\n            size=14,\n            color='rgb(107, 107, 107)'\n        )\n    ),\n    yaxis=dict(\n        title='Count of weaponsAcquired',\n        titlefont=dict(\n            size=16,\n            color='rgb(107, 107, 107)'\n        ),\n        tickfont=dict(\n            size=14,\n            color='rgb(107, 107, 107)'\n        )\n)\n)\nfig = go.Figure(data=data, layout=layout)\npy.iplot(fig, filename='schoolStateNames')",
      "execution_count": 20,
      "outputs": [
        {
          "output_type": "display_data",
          "data": {
            "application/vnd.plotly.v1+json": {
              "data": [
                {
                  "x": [
                    2,
                    3,
                    4,
                    1,
                    5,
                    6,
                    7,
                    0,
                    8,
                    9,
                    10,
                    11,
                    12,
                    13,
                    14,
                    15,
                    16,
                    18,
                    17,
                    20,
                    19,
                    22,
                    21,
                    24,
                    26,
                    23,
                    25,
                    28,
                    27,
                    30,
                    29,
                    32,
                    31,
                    34,
                    33,
                    36,
                    35,
                    40,
                    38,
                    37,
                    41,
                    42,
                    39,
                    47,
                    44,
                    43,
                    45,
                    52,
                    46,
                    48,
                    50,
                    49,
                    54,
                    56,
                    60,
                    63,
                    59,
                    64,
                    51,
                    55,
                    53,
                    70,
                    66,
                    58,
                    62,
                    57,
                    72,
                    67,
                    61,
                    65,
                    73,
                    68,
                    95,
                    80,
                    96,
                    69,
                    78,
                    76,
                    177,
                    74,
                    75,
                    77,
                    81,
                    83,
                    85,
                    87,
                    88,
                    71,
                    92,
                    94,
                    97,
                    102,
                    128,
                    153,
                    167,
                    89,
                    236
                  ],
                  "y": [
                    768836,
                    768347,
                    689622,
                    580951,
                    540721,
                    369549,
                    226776,
                    226578,
                    128698,
                    68479,
                    35642,
                    18022,
                    9388,
                    4707,
                    2831,
                    1414,
                    1088,
                    640,
                    622,
                    491,
                    402,
                    331,
                    322,
                    306,
                    214,
                    212,
                    192,
                    177,
                    136,
                    128,
                    125,
                    110,
                    84,
                    78,
                    77,
                    65,
                    64,
                    47,
                    45,
                    41,
                    40,
                    33,
                    29,
                    25,
                    22,
                    20,
                    18,
                    16,
                    16,
                    14,
                    13,
                    13,
                    10,
                    10,
                    10,
                    8,
                    8,
                    8,
                    7,
                    7,
                    7,
                    6,
                    5,
                    5,
                    4,
                    4,
                    4,
                    3,
                    3,
                    3,
                    3,
                    3,
                    2,
                    2,
                    2,
                    2,
                    2,
                    2,
                    1,
                    1,
                    1,
                    1,
                    1,
                    1,
                    1,
                    1,
                    1,
                    1,
                    1,
                    1,
                    1,
                    1,
                    1,
                    1,
                    1,
                    1,
                    1
                  ],
                  "type": "bar",
                  "uid": "ee900ade-db95-11e8-a172-afa9c0d857b7"
                }
              ],
              "layout": {
                "title": "",
                "xaxis": {
                  "tickfont": {
                    "color": "rgb(107, 107, 107)",
                    "size": 14
                  },
                  "title": "weaponsAcquired"
                },
                "yaxis": {
                  "tickfont": {
                    "color": "rgb(107, 107, 107)",
                    "size": 14
                  },
                  "title": "Count of weaponsAcquired",
                  "titlefont": {
                    "color": "rgb(107, 107, 107)",
                    "size": 16
                  }
                }
              }
            },
            "text/html": "<div id=\"a2453ea1-c42f-46d3-a2b6-034b70b039db\" style=\"height: 525px; width: 100%;\" class=\"plotly-graph-div\"></div><script type=\"text/javascript\">require([\"plotly\"], function(Plotly) { window.PLOTLYENV=window.PLOTLYENV || {};window.PLOTLYENV.BASE_URL=\"https://plot.ly\";Plotly.newPlot(\"a2453ea1-c42f-46d3-a2b6-034b70b039db\", [{\"x\": [2, 3, 4, 1, 5, 6, 7, 0, 8, 9, 10, 11, 12, 13, 14, 15, 16, 18, 17, 20, 19, 22, 21, 24, 26, 23, 25, 28, 27, 30, 29, 32, 31, 34, 33, 36, 35, 40, 38, 37, 41, 42, 39, 47, 44, 43, 45, 52, 46, 48, 50, 49, 54, 56, 60, 63, 59, 64, 51, 55, 53, 70, 66, 58, 62, 57, 72, 67, 61, 65, 73, 68, 95, 80, 96, 69, 78, 76, 177, 74, 75, 77, 81, 83, 85, 87, 88, 71, 92, 94, 97, 102, 128, 153, 167, 89, 236], \"y\": [768836, 768347, 689622, 580951, 540721, 369549, 226776, 226578, 128698, 68479, 35642, 18022, 9388, 4707, 2831, 1414, 1088, 640, 622, 491, 402, 331, 322, 306, 214, 212, 192, 177, 136, 128, 125, 110, 84, 78, 77, 65, 64, 47, 45, 41, 40, 33, 29, 25, 22, 20, 18, 16, 16, 14, 13, 13, 10, 10, 10, 8, 8, 8, 7, 7, 7, 6, 5, 5, 4, 4, 4, 3, 3, 3, 3, 3, 2, 2, 2, 2, 2, 2, 1, 1, 1, 1, 1, 1, 1, 1, 1, 1, 1, 1, 1, 1, 1, 1, 1, 1, 1], \"type\": \"bar\", \"uid\": \"ee900ade-db95-11e8-a172-afa9c0d857b7\"}], {\"title\": \"\", \"xaxis\": {\"tickfont\": {\"color\": \"rgb(107, 107, 107)\", \"size\": 14}, \"title\": \"weaponsAcquired\"}, \"yaxis\": {\"tickfont\": {\"color\": \"rgb(107, 107, 107)\", \"size\": 14}, \"title\": \"Count of weaponsAcquired\", \"titlefont\": {\"color\": \"rgb(107, 107, 107)\", \"size\": 16}}}, {\"showLink\": true, \"linkText\": \"Export to plot.ly\"})});</script>",
            "text/vnd.plotly.v1+html": "<div id=\"a2453ea1-c42f-46d3-a2b6-034b70b039db\" style=\"height: 525px; width: 100%;\" class=\"plotly-graph-div\"></div><script type=\"text/javascript\">require([\"plotly\"], function(Plotly) { window.PLOTLYENV=window.PLOTLYENV || {};window.PLOTLYENV.BASE_URL=\"https://plot.ly\";Plotly.newPlot(\"a2453ea1-c42f-46d3-a2b6-034b70b039db\", [{\"x\": [2, 3, 4, 1, 5, 6, 7, 0, 8, 9, 10, 11, 12, 13, 14, 15, 16, 18, 17, 20, 19, 22, 21, 24, 26, 23, 25, 28, 27, 30, 29, 32, 31, 34, 33, 36, 35, 40, 38, 37, 41, 42, 39, 47, 44, 43, 45, 52, 46, 48, 50, 49, 54, 56, 60, 63, 59, 64, 51, 55, 53, 70, 66, 58, 62, 57, 72, 67, 61, 65, 73, 68, 95, 80, 96, 69, 78, 76, 177, 74, 75, 77, 81, 83, 85, 87, 88, 71, 92, 94, 97, 102, 128, 153, 167, 89, 236], \"y\": [768836, 768347, 689622, 580951, 540721, 369549, 226776, 226578, 128698, 68479, 35642, 18022, 9388, 4707, 2831, 1414, 1088, 640, 622, 491, 402, 331, 322, 306, 214, 212, 192, 177, 136, 128, 125, 110, 84, 78, 77, 65, 64, 47, 45, 41, 40, 33, 29, 25, 22, 20, 18, 16, 16, 14, 13, 13, 10, 10, 10, 8, 8, 8, 7, 7, 7, 6, 5, 5, 4, 4, 4, 3, 3, 3, 3, 3, 2, 2, 2, 2, 2, 2, 1, 1, 1, 1, 1, 1, 1, 1, 1, 1, 1, 1, 1, 1, 1, 1, 1, 1, 1], \"type\": \"bar\", \"uid\": \"ee900ade-db95-11e8-a172-afa9c0d857b7\"}], {\"title\": \"\", \"xaxis\": {\"tickfont\": {\"color\": \"rgb(107, 107, 107)\", \"size\": 14}, \"title\": \"weaponsAcquired\"}, \"yaxis\": {\"tickfont\": {\"color\": \"rgb(107, 107, 107)\", \"size\": 14}, \"title\": \"Count of weaponsAcquired\", \"titlefont\": {\"color\": \"rgb(107, 107, 107)\", \"size\": 16}}}, {\"showLink\": true, \"linkText\": \"Export to plot.ly\"})});</script>"
          },
          "metadata": {}
        }
      ]
    },
    {
      "metadata": {
        "_uuid": "83aa5d13496f8705a361fc5d1c015718cb749ff8"
      },
      "cell_type": "markdown",
      "source": "Among the guns are special guns aimed at fighters at close range, and there are sniper guns that are specially designed to match enemies at long distances (The range is fixed for each gun ). So over a certain distance, all were shot by a sniper rifle."
    },
    {
      "metadata": {
        "_uuid": "1d4ef130b92a49a973cc213fc472c6f236d47eb8"
      },
      "cell_type": "markdown",
      "source": "## headshotKills - not knocked.\nHeadshotKills means that a bullet hit his head and he died right away. it is important that he died right away.\n\nDBNOs : Number of enemy players knocked.\nDBNOs variable means Number of enemy players knocked. Knocked is not dead, but can not act. so if you are knocked, your colleagues can save you (revives variable) but if you died? you don't save... :("
    },
    {
      "metadata": {
        "trusted": true,
        "_uuid": "091fdf55db9379f1a9e8021a132f4e2f51b24e60"
      },
      "cell_type": "code",
      "source": "temp = df_train['headshotKills'].value_counts().sort_values(ascending=False)\n\ntrace = go.Bar(\n    x = temp.index,\n    y = (temp),\n)\ndata = [trace]\nlayout = go.Layout(\n    title = \"\",\n    xaxis=dict(\n        title='headshotKills',\n        tickfont=dict(\n            size=14,\n            color='rgb(107, 107, 107)'\n        )\n    ),\n    yaxis=dict(\n        title='Count of headshotKills',\n        titlefont=dict(\n            size=16,\n            color='rgb(107, 107, 107)'\n        ),\n        tickfont=dict(\n            size=14,\n            color='rgb(107, 107, 107)'\n        )\n)\n)\nfig = go.Figure(data=data, layout=layout)\npy.iplot(fig, filename='schoolStateNames')",
      "execution_count": 21,
      "outputs": [
        {
          "output_type": "display_data",
          "data": {
            "application/vnd.plotly.v1+json": {
              "data": [
                {
                  "x": [
                    0,
                    1,
                    2,
                    3,
                    4,
                    5,
                    6,
                    7,
                    8,
                    9,
                    10,
                    11,
                    12,
                    13,
                    14,
                    15,
                    16,
                    17,
                    18,
                    19,
                    20,
                    23,
                    26,
                    21,
                    27,
                    31,
                    34,
                    41,
                    39,
                    46,
                    35,
                    42,
                    40,
                    64
                  ],
                  "y": [
                    3696116,
                    574741,
                    126348,
                    32975,
                    9962,
                    3616,
                    1439,
                    757,
                    373,
                    215,
                    136,
                    79,
                    64,
                    44,
                    23,
                    16,
                    15,
                    11,
                    9,
                    3,
                    3,
                    3,
                    3,
                    2,
                    2,
                    2,
                    2,
                    1,
                    1,
                    1,
                    1,
                    1,
                    1,
                    1
                  ],
                  "type": "bar",
                  "uid": "ee9e20ba-db95-11e8-a172-afa9c0d857b7"
                }
              ],
              "layout": {
                "title": "",
                "xaxis": {
                  "tickfont": {
                    "color": "rgb(107, 107, 107)",
                    "size": 14
                  },
                  "title": "headshotKills"
                },
                "yaxis": {
                  "tickfont": {
                    "color": "rgb(107, 107, 107)",
                    "size": 14
                  },
                  "title": "Count of headshotKills",
                  "titlefont": {
                    "color": "rgb(107, 107, 107)",
                    "size": 16
                  }
                }
              }
            },
            "text/html": "<div id=\"4eb93b9b-d004-4453-8615-2e64012f301d\" style=\"height: 525px; width: 100%;\" class=\"plotly-graph-div\"></div><script type=\"text/javascript\">require([\"plotly\"], function(Plotly) { window.PLOTLYENV=window.PLOTLYENV || {};window.PLOTLYENV.BASE_URL=\"https://plot.ly\";Plotly.newPlot(\"4eb93b9b-d004-4453-8615-2e64012f301d\", [{\"x\": [0, 1, 2, 3, 4, 5, 6, 7, 8, 9, 10, 11, 12, 13, 14, 15, 16, 17, 18, 19, 20, 23, 26, 21, 27, 31, 34, 41, 39, 46, 35, 42, 40, 64], \"y\": [3696116, 574741, 126348, 32975, 9962, 3616, 1439, 757, 373, 215, 136, 79, 64, 44, 23, 16, 15, 11, 9, 3, 3, 3, 3, 2, 2, 2, 2, 1, 1, 1, 1, 1, 1, 1], \"type\": \"bar\", \"uid\": \"ee9e20ba-db95-11e8-a172-afa9c0d857b7\"}], {\"title\": \"\", \"xaxis\": {\"tickfont\": {\"color\": \"rgb(107, 107, 107)\", \"size\": 14}, \"title\": \"headshotKills\"}, \"yaxis\": {\"tickfont\": {\"color\": \"rgb(107, 107, 107)\", \"size\": 14}, \"title\": \"Count of headshotKills\", \"titlefont\": {\"color\": \"rgb(107, 107, 107)\", \"size\": 16}}}, {\"showLink\": true, \"linkText\": \"Export to plot.ly\"})});</script>",
            "text/vnd.plotly.v1+html": "<div id=\"4eb93b9b-d004-4453-8615-2e64012f301d\" style=\"height: 525px; width: 100%;\" class=\"plotly-graph-div\"></div><script type=\"text/javascript\">require([\"plotly\"], function(Plotly) { window.PLOTLYENV=window.PLOTLYENV || {};window.PLOTLYENV.BASE_URL=\"https://plot.ly\";Plotly.newPlot(\"4eb93b9b-d004-4453-8615-2e64012f301d\", [{\"x\": [0, 1, 2, 3, 4, 5, 6, 7, 8, 9, 10, 11, 12, 13, 14, 15, 16, 17, 18, 19, 20, 23, 26, 21, 27, 31, 34, 41, 39, 46, 35, 42, 40, 64], \"y\": [3696116, 574741, 126348, 32975, 9962, 3616, 1439, 757, 373, 215, 136, 79, 64, 44, 23, 16, 15, 11, 9, 3, 3, 3, 3, 2, 2, 2, 2, 1, 1, 1, 1, 1, 1, 1], \"type\": \"bar\", \"uid\": \"ee9e20ba-db95-11e8-a172-afa9c0d857b7\"}], {\"title\": \"\", \"xaxis\": {\"tickfont\": {\"color\": \"rgb(107, 107, 107)\", \"size\": 14}, \"title\": \"headshotKills\"}, \"yaxis\": {\"tickfont\": {\"color\": \"rgb(107, 107, 107)\", \"size\": 14}, \"title\": \"Count of headshotKills\", \"titlefont\": {\"color\": \"rgb(107, 107, 107)\", \"size\": 16}}}, {\"showLink\": true, \"linkText\": \"Export to plot.ly\"})});</script>"
          },
          "metadata": {}
        }
      ]
    },
    {
      "metadata": {
        "trusted": true,
        "_uuid": "d9ff5b27ef2509120ad6473a12257d47aac1e0b4"
      },
      "cell_type": "code",
      "source": "df_train['headshotKills'].value_counts()",
      "execution_count": 22,
      "outputs": [
        {
          "output_type": "execute_result",
          "execution_count": 22,
          "data": {
            "text/plain": "0     3696116\n1      574741\n2      126348\n3       32975\n4        9962\n5        3616\n6        1439\n7         757\n8         373\n9         215\n10        136\n11         79\n12         64\n13         44\n14         23\n15         16\n16         15\n17         11\n18          9\n19          3\n20          3\n23          3\n26          3\n27          2\n21          2\n31          2\n34          2\n40          1\n42          1\n41          1\n46          1\n39          1\n35          1\n64          1\nName: headshotKills, dtype: int64"
          },
          "metadata": {}
        }
      ]
    },
    {
      "metadata": {
        "_uuid": "ecd3978d1e1c1b9a902f96791f5e972e9f03ec34"
      },
      "cell_type": "markdown",
      "source": "Here we can see that most of the players didn't even get 1 head shot kill. So we can say that getting a headshot kill is very difficult"
    },
    {
      "metadata": {
        "trusted": true,
        "_uuid": "45bfd0b6bea8bb3c4c46e54d234836b56ff4698b"
      },
      "cell_type": "code",
      "source": "temp = df_train['DBNOs'].value_counts().sort_values(ascending=False)\n\ntrace = go.Bar(\n    x = temp.index,\n    y = (temp),\n)\ndata = [trace]\nlayout = go.Layout(\n    title = \"\",\n    xaxis=dict(\n        title='DBNOs',\n        tickfont=dict(\n            size=14,\n            color='rgb(107, 107, 107)'\n        )\n    ),\n    yaxis=dict(\n        title='Count of DBNOs',\n        titlefont=dict(\n            size=16,\n            color='rgb(107, 107, 107)'\n        ),\n        tickfont=dict(\n            size=14,\n            color='rgb(107, 107, 107)'\n        )\n)\n)\nfig = go.Figure(data=data, layout=layout)\npy.iplot(fig, filename='schoolStateNames')",
      "execution_count": 23,
      "outputs": [
        {
          "output_type": "display_data",
          "data": {
            "application/vnd.plotly.v1+json": {
              "data": [
                {
                  "x": [
                    0,
                    1,
                    2,
                    3,
                    4,
                    5,
                    6,
                    7,
                    8,
                    9,
                    10,
                    11,
                    12,
                    13,
                    14,
                    15,
                    16,
                    17,
                    18,
                    19,
                    20,
                    21,
                    22,
                    25,
                    23,
                    26,
                    24,
                    33,
                    27,
                    28,
                    31,
                    32,
                    39,
                    40,
                    30,
                    29,
                    38,
                    35,
                    53
                  ],
                  "y": [
                    2773735,
                    983281,
                    395119,
                    162682,
                    69307,
                    31686,
                    14977,
                    7291,
                    3694,
                    1966,
                    1110,
                    643,
                    466,
                    275,
                    177,
                    137,
                    87,
                    80,
                    64,
                    34,
                    30,
                    26,
                    18,
                    16,
                    14,
                    11,
                    10,
                    7,
                    6,
                    3,
                    3,
                    3,
                    2,
                    1,
                    1,
                    1,
                    1,
                    1,
                    1
                  ],
                  "type": "bar",
                  "uid": "eecb96c6-db95-11e8-a172-afa9c0d857b7"
                }
              ],
              "layout": {
                "title": "",
                "xaxis": {
                  "tickfont": {
                    "color": "rgb(107, 107, 107)",
                    "size": 14
                  },
                  "title": "DBNOs"
                },
                "yaxis": {
                  "tickfont": {
                    "color": "rgb(107, 107, 107)",
                    "size": 14
                  },
                  "title": "Count of DBNOs",
                  "titlefont": {
                    "color": "rgb(107, 107, 107)",
                    "size": 16
                  }
                }
              }
            },
            "text/html": "<div id=\"9707c59b-f47d-48f6-89ee-c672ba3f5c2c\" style=\"height: 525px; width: 100%;\" class=\"plotly-graph-div\"></div><script type=\"text/javascript\">require([\"plotly\"], function(Plotly) { window.PLOTLYENV=window.PLOTLYENV || {};window.PLOTLYENV.BASE_URL=\"https://plot.ly\";Plotly.newPlot(\"9707c59b-f47d-48f6-89ee-c672ba3f5c2c\", [{\"x\": [0, 1, 2, 3, 4, 5, 6, 7, 8, 9, 10, 11, 12, 13, 14, 15, 16, 17, 18, 19, 20, 21, 22, 25, 23, 26, 24, 33, 27, 28, 31, 32, 39, 40, 30, 29, 38, 35, 53], \"y\": [2773735, 983281, 395119, 162682, 69307, 31686, 14977, 7291, 3694, 1966, 1110, 643, 466, 275, 177, 137, 87, 80, 64, 34, 30, 26, 18, 16, 14, 11, 10, 7, 6, 3, 3, 3, 2, 1, 1, 1, 1, 1, 1], \"type\": \"bar\", \"uid\": \"eecb96c6-db95-11e8-a172-afa9c0d857b7\"}], {\"title\": \"\", \"xaxis\": {\"tickfont\": {\"color\": \"rgb(107, 107, 107)\", \"size\": 14}, \"title\": \"DBNOs\"}, \"yaxis\": {\"tickfont\": {\"color\": \"rgb(107, 107, 107)\", \"size\": 14}, \"title\": \"Count of DBNOs\", \"titlefont\": {\"color\": \"rgb(107, 107, 107)\", \"size\": 16}}}, {\"showLink\": true, \"linkText\": \"Export to plot.ly\"})});</script>",
            "text/vnd.plotly.v1+html": "<div id=\"9707c59b-f47d-48f6-89ee-c672ba3f5c2c\" style=\"height: 525px; width: 100%;\" class=\"plotly-graph-div\"></div><script type=\"text/javascript\">require([\"plotly\"], function(Plotly) { window.PLOTLYENV=window.PLOTLYENV || {};window.PLOTLYENV.BASE_URL=\"https://plot.ly\";Plotly.newPlot(\"9707c59b-f47d-48f6-89ee-c672ba3f5c2c\", [{\"x\": [0, 1, 2, 3, 4, 5, 6, 7, 8, 9, 10, 11, 12, 13, 14, 15, 16, 17, 18, 19, 20, 21, 22, 25, 23, 26, 24, 33, 27, 28, 31, 32, 39, 40, 30, 29, 38, 35, 53], \"y\": [2773735, 983281, 395119, 162682, 69307, 31686, 14977, 7291, 3694, 1966, 1110, 643, 466, 275, 177, 137, 87, 80, 64, 34, 30, 26, 18, 16, 14, 11, 10, 7, 6, 3, 3, 3, 2, 1, 1, 1, 1, 1, 1], \"type\": \"bar\", \"uid\": \"eecb96c6-db95-11e8-a172-afa9c0d857b7\"}], {\"title\": \"\", \"xaxis\": {\"tickfont\": {\"color\": \"rgb(107, 107, 107)\", \"size\": 14}, \"title\": \"DBNOs\"}, \"yaxis\": {\"tickfont\": {\"color\": \"rgb(107, 107, 107)\", \"size\": 14}, \"title\": \"Count of DBNOs\", \"titlefont\": {\"color\": \"rgb(107, 107, 107)\", \"size\": 16}}}, {\"showLink\": true, \"linkText\": \"Export to plot.ly\"})});</script>"
          },
          "metadata": {}
        }
      ]
    },
    {
      "metadata": {
        "_uuid": "2738d1de534d2e7f3b7d92303457d9dc274a0ed0"
      },
      "cell_type": "markdown",
      "source": "what is difference boost vs heal?\nBoth of these variables are items that restore health. but the boosts immediately show the effect, and the heals show the effect slowly.\n\n- boosts : Number of boost items used.\n- heals : Number of healing items used."
    },
    {
      "metadata": {
        "trusted": true,
        "_uuid": "dc3bb60cafce29e566cabdfa8ff5cbfb5f90a1d3"
      },
      "cell_type": "code",
      "source": "temp = df_train['boosts'].value_counts().sort_values(ascending=False)\n\n#print(\"Total number of states : \",len(temp))\ntrace = go.Bar(\n    x = temp.index,\n    y = (temp),\n)\ndata = [trace]\nlayout = go.Layout(\n    title = \"\",\n    xaxis=dict(\n        title='boosts',\n        tickfont=dict(\n            size=14,\n            color='rgb(107, 107, 107)'\n        )\n    ),\n    yaxis=dict(\n        title='Count of boosts',\n        titlefont=dict(\n            size=16,\n            color='rgb(107, 107, 107)'\n        ),\n        tickfont=dict(\n            size=14,\n            color='rgb(107, 107, 107)'\n        )\n)\n)\nfig = go.Figure(data=data, layout=layout)\npy.iplot(fig, filename='schoolStateNames')",
      "execution_count": 24,
      "outputs": [
        {
          "output_type": "display_data",
          "data": {
            "application/vnd.plotly.v1+json": {
              "data": [
                {
                  "x": [
                    0,
                    1,
                    2,
                    3,
                    4,
                    5,
                    6,
                    7,
                    8,
                    9,
                    10,
                    11,
                    12,
                    13,
                    14,
                    15,
                    16,
                    17,
                    18,
                    19,
                    21,
                    20,
                    24,
                    23,
                    28,
                    22,
                    33
                  ],
                  "y": [
                    2521324,
                    680252,
                    491316,
                    295883,
                    195729,
                    120271,
                    70111,
                    37626,
                    18893,
                    8638,
                    3992,
                    1644,
                    726,
                    295,
                    126,
                    62,
                    30,
                    16,
                    13,
                    6,
                    4,
                    3,
                    2,
                    1,
                    1,
                    1,
                    1
                  ],
                  "type": "bar",
                  "uid": "eeda0350-db95-11e8-a172-afa9c0d857b7"
                }
              ],
              "layout": {
                "title": "",
                "xaxis": {
                  "tickfont": {
                    "color": "rgb(107, 107, 107)",
                    "size": 14
                  },
                  "title": "boosts"
                },
                "yaxis": {
                  "tickfont": {
                    "color": "rgb(107, 107, 107)",
                    "size": 14
                  },
                  "title": "Count of boosts",
                  "titlefont": {
                    "color": "rgb(107, 107, 107)",
                    "size": 16
                  }
                }
              }
            },
            "text/html": "<div id=\"96a2b5d2-8c51-4808-ac3f-2f8255dfc3f2\" style=\"height: 525px; width: 100%;\" class=\"plotly-graph-div\"></div><script type=\"text/javascript\">require([\"plotly\"], function(Plotly) { window.PLOTLYENV=window.PLOTLYENV || {};window.PLOTLYENV.BASE_URL=\"https://plot.ly\";Plotly.newPlot(\"96a2b5d2-8c51-4808-ac3f-2f8255dfc3f2\", [{\"x\": [0, 1, 2, 3, 4, 5, 6, 7, 8, 9, 10, 11, 12, 13, 14, 15, 16, 17, 18, 19, 21, 20, 24, 23, 28, 22, 33], \"y\": [2521324, 680252, 491316, 295883, 195729, 120271, 70111, 37626, 18893, 8638, 3992, 1644, 726, 295, 126, 62, 30, 16, 13, 6, 4, 3, 2, 1, 1, 1, 1], \"type\": \"bar\", \"uid\": \"eeda0350-db95-11e8-a172-afa9c0d857b7\"}], {\"title\": \"\", \"xaxis\": {\"tickfont\": {\"color\": \"rgb(107, 107, 107)\", \"size\": 14}, \"title\": \"boosts\"}, \"yaxis\": {\"tickfont\": {\"color\": \"rgb(107, 107, 107)\", \"size\": 14}, \"title\": \"Count of boosts\", \"titlefont\": {\"color\": \"rgb(107, 107, 107)\", \"size\": 16}}}, {\"showLink\": true, \"linkText\": \"Export to plot.ly\"})});</script>",
            "text/vnd.plotly.v1+html": "<div id=\"96a2b5d2-8c51-4808-ac3f-2f8255dfc3f2\" style=\"height: 525px; width: 100%;\" class=\"plotly-graph-div\"></div><script type=\"text/javascript\">require([\"plotly\"], function(Plotly) { window.PLOTLYENV=window.PLOTLYENV || {};window.PLOTLYENV.BASE_URL=\"https://plot.ly\";Plotly.newPlot(\"96a2b5d2-8c51-4808-ac3f-2f8255dfc3f2\", [{\"x\": [0, 1, 2, 3, 4, 5, 6, 7, 8, 9, 10, 11, 12, 13, 14, 15, 16, 17, 18, 19, 21, 20, 24, 23, 28, 22, 33], \"y\": [2521324, 680252, 491316, 295883, 195729, 120271, 70111, 37626, 18893, 8638, 3992, 1644, 726, 295, 126, 62, 30, 16, 13, 6, 4, 3, 2, 1, 1, 1, 1], \"type\": \"bar\", \"uid\": \"eeda0350-db95-11e8-a172-afa9c0d857b7\"}], {\"title\": \"\", \"xaxis\": {\"tickfont\": {\"color\": \"rgb(107, 107, 107)\", \"size\": 14}, \"title\": \"boosts\"}, \"yaxis\": {\"tickfont\": {\"color\": \"rgb(107, 107, 107)\", \"size\": 14}, \"title\": \"Count of boosts\", \"titlefont\": {\"color\": \"rgb(107, 107, 107)\", \"size\": 16}}}, {\"showLink\": true, \"linkText\": \"Export to plot.ly\"})});</script>"
          },
          "metadata": {}
        }
      ]
    },
    {
      "metadata": {
        "trusted": true,
        "_uuid": "42286e755bb996990ef22a04354269b7bb2443fe"
      },
      "cell_type": "code",
      "source": "temp = df_train['heals'].value_counts().sort_values(ascending=False)\n\n#print(\"Total number of states : \",len(temp))\ntrace = go.Bar(\n    x = temp.index,\n    y = (temp),\n)\ndata = [trace]\nlayout = go.Layout(\n    title = \"\",\n    xaxis=dict(\n        title='heals',\n        tickfont=dict(\n            size=14,\n            color='rgb(107, 107, 107)'\n        )\n    ),\n    yaxis=dict(\n        title='Count of heals',\n        titlefont=dict(\n            size=16,\n            color='rgb(107, 107, 107)'\n        ),\n        tickfont=dict(\n            size=14,\n            color='rgb(107, 107, 107)'\n        )\n)\n)\nfig = go.Figure(data=data, layout=layout)\npy.iplot(fig, filename='schoolStateNames')",
      "execution_count": 25,
      "outputs": [
        {
          "output_type": "display_data",
          "data": {
            "application/vnd.plotly.v1+json": {
              "data": [
                {
                  "x": [
                    0,
                    1,
                    2,
                    3,
                    4,
                    5,
                    6,
                    7,
                    8,
                    9,
                    10,
                    11,
                    12,
                    13,
                    14,
                    15,
                    16,
                    17,
                    18,
                    19,
                    20,
                    21,
                    22,
                    23,
                    24,
                    25,
                    26,
                    27,
                    28,
                    29,
                    30,
                    31,
                    32,
                    33,
                    34,
                    37,
                    35,
                    36,
                    38,
                    39,
                    40,
                    42,
                    41,
                    48,
                    44,
                    43,
                    45,
                    49,
                    46,
                    47,
                    50,
                    51,
                    61,
                    52,
                    54,
                    55,
                    59,
                    73,
                    57,
                    56,
                    62,
                    63,
                    80
                  ],
                  "y": [
                    2648198,
                    673077,
                    319387,
                    202370,
                    142637,
                    135242,
                    88090,
                    64086,
                    43059,
                    30043,
                    25574,
                    18779,
                    13392,
                    9794,
                    7373,
                    5997,
                    4619,
                    3434,
                    2457,
                    1821,
                    1608,
                    1288,
                    1063,
                    724,
                    524,
                    471,
                    349,
                    315,
                    207,
                    166,
                    134,
                    128,
                    101,
                    75,
                    59,
                    53,
                    52,
                    35,
                    25,
                    25,
                    20,
                    15,
                    13,
                    12,
                    11,
                    10,
                    9,
                    8,
                    8,
                    6,
                    4,
                    3,
                    2,
                    2,
                    2,
                    2,
                    2,
                    1,
                    1,
                    1,
                    1,
                    1,
                    1
                  ],
                  "type": "bar",
                  "uid": "eee8816e-db95-11e8-a172-afa9c0d857b7"
                }
              ],
              "layout": {
                "title": "",
                "xaxis": {
                  "tickfont": {
                    "color": "rgb(107, 107, 107)",
                    "size": 14
                  },
                  "title": "heals"
                },
                "yaxis": {
                  "tickfont": {
                    "color": "rgb(107, 107, 107)",
                    "size": 14
                  },
                  "title": "Count of heals",
                  "titlefont": {
                    "color": "rgb(107, 107, 107)",
                    "size": 16
                  }
                }
              }
            },
            "text/html": "<div id=\"244c1893-6170-42a2-8fd0-ed79419d3655\" style=\"height: 525px; width: 100%;\" class=\"plotly-graph-div\"></div><script type=\"text/javascript\">require([\"plotly\"], function(Plotly) { window.PLOTLYENV=window.PLOTLYENV || {};window.PLOTLYENV.BASE_URL=\"https://plot.ly\";Plotly.newPlot(\"244c1893-6170-42a2-8fd0-ed79419d3655\", [{\"x\": [0, 1, 2, 3, 4, 5, 6, 7, 8, 9, 10, 11, 12, 13, 14, 15, 16, 17, 18, 19, 20, 21, 22, 23, 24, 25, 26, 27, 28, 29, 30, 31, 32, 33, 34, 37, 35, 36, 38, 39, 40, 42, 41, 48, 44, 43, 45, 49, 46, 47, 50, 51, 61, 52, 54, 55, 59, 73, 57, 56, 62, 63, 80], \"y\": [2648198, 673077, 319387, 202370, 142637, 135242, 88090, 64086, 43059, 30043, 25574, 18779, 13392, 9794, 7373, 5997, 4619, 3434, 2457, 1821, 1608, 1288, 1063, 724, 524, 471, 349, 315, 207, 166, 134, 128, 101, 75, 59, 53, 52, 35, 25, 25, 20, 15, 13, 12, 11, 10, 9, 8, 8, 6, 4, 3, 2, 2, 2, 2, 2, 1, 1, 1, 1, 1, 1], \"type\": \"bar\", \"uid\": \"eee8816e-db95-11e8-a172-afa9c0d857b7\"}], {\"title\": \"\", \"xaxis\": {\"tickfont\": {\"color\": \"rgb(107, 107, 107)\", \"size\": 14}, \"title\": \"heals\"}, \"yaxis\": {\"tickfont\": {\"color\": \"rgb(107, 107, 107)\", \"size\": 14}, \"title\": \"Count of heals\", \"titlefont\": {\"color\": \"rgb(107, 107, 107)\", \"size\": 16}}}, {\"showLink\": true, \"linkText\": \"Export to plot.ly\"})});</script>",
            "text/vnd.plotly.v1+html": "<div id=\"244c1893-6170-42a2-8fd0-ed79419d3655\" style=\"height: 525px; width: 100%;\" class=\"plotly-graph-div\"></div><script type=\"text/javascript\">require([\"plotly\"], function(Plotly) { window.PLOTLYENV=window.PLOTLYENV || {};window.PLOTLYENV.BASE_URL=\"https://plot.ly\";Plotly.newPlot(\"244c1893-6170-42a2-8fd0-ed79419d3655\", [{\"x\": [0, 1, 2, 3, 4, 5, 6, 7, 8, 9, 10, 11, 12, 13, 14, 15, 16, 17, 18, 19, 20, 21, 22, 23, 24, 25, 26, 27, 28, 29, 30, 31, 32, 33, 34, 37, 35, 36, 38, 39, 40, 42, 41, 48, 44, 43, 45, 49, 46, 47, 50, 51, 61, 52, 54, 55, 59, 73, 57, 56, 62, 63, 80], \"y\": [2648198, 673077, 319387, 202370, 142637, 135242, 88090, 64086, 43059, 30043, 25574, 18779, 13392, 9794, 7373, 5997, 4619, 3434, 2457, 1821, 1608, 1288, 1063, 724, 524, 471, 349, 315, 207, 166, 134, 128, 101, 75, 59, 53, 52, 35, 25, 25, 20, 15, 13, 12, 11, 10, 9, 8, 8, 6, 4, 3, 2, 2, 2, 2, 2, 1, 1, 1, 1, 1, 1], \"type\": \"bar\", \"uid\": \"eee8816e-db95-11e8-a172-afa9c0d857b7\"}], {\"title\": \"\", \"xaxis\": {\"tickfont\": {\"color\": \"rgb(107, 107, 107)\", \"size\": 14}, \"title\": \"heals\"}, \"yaxis\": {\"tickfont\": {\"color\": \"rgb(107, 107, 107)\", \"size\": 14}, \"title\": \"Count of heals\", \"titlefont\": {\"color\": \"rgb(107, 107, 107)\", \"size\": 16}}}, {\"showLink\": true, \"linkText\": \"Export to plot.ly\"})});</script>"
          },
          "metadata": {}
        }
      ]
    },
    {
      "metadata": {
        "_uuid": "29f0669552a70041512aae63d482b60e7b6792ae"
      },
      "cell_type": "markdown",
      "source": "### Others\n- damageDealt : Total damage dealt. Note: Self inflicted damage is subtracted. If it is not headshot, it does not die in one shot. So restores health by usingboosts or heals. damageDealt means how many bullets have ever been hit."
    },
    {
      "metadata": {
        "trusted": true,
        "_uuid": "ecb0881e1cc370d6f8a42454cb54e5de685c662a"
      },
      "cell_type": "code",
      "source": "f, ax = plt.subplots(figsize=(8, 6))\nsns.distplot(df_train['damageDealt'])",
      "execution_count": 26,
      "outputs": [
        {
          "output_type": "execute_result",
          "execution_count": 26,
          "data": {
            "text/plain": "<matplotlib.axes._subplots.AxesSubplot at 0x7f4cf4b916d8>"
          },
          "metadata": {}
        },
        {
          "output_type": "display_data",
          "data": {
            "text/plain": "<Figure size 576x432 with 1 Axes>",
            "image/png": "[encoded data removed]"
          },
          "metadata": {
            "needs_background": "light"
          }
        }
      ]
    },
    {
      "metadata": {
        "_uuid": "aba849aa0c8a961129682d12ad6f129ce54eea9a"
      },
      "cell_type": "markdown",
      "source": "- revives : Number of times this player revived teammates. I said above, if you knock, your teammates can save you. If a team member is saved, the revives are +1."
    },
    {
      "metadata": {
        "trusted": true,
        "_uuid": "d313fb3ede501ee774efc69f2c4d071838066bd1"
      },
      "cell_type": "code",
      "source": "f, ax = plt.subplots(figsize=(8, 6))\ndf_train['revives'].value_counts().sort_values(ascending=False).plot.bar()",
      "execution_count": 27,
      "outputs": [
        {
          "output_type": "execute_result",
          "execution_count": 27,
          "data": {
            "text/plain": "<matplotlib.axes._subplots.AxesSubplot at 0x7f4cee182f60>"
          },
          "metadata": {}
        },
        {
          "output_type": "display_data",
          "data": {
            "text/plain": "<Figure size 576x432 with 1 Axes>",
            "image/png": "[encoded data removed]"
          },
          "metadata": {
            "needs_background": "light"
          }
        }
      ]
    },
    {
      "metadata": {
        "_uuid": "ea4e5d533ad405c3e9a58bb70e09793c9592bf62"
      },
      "cell_type": "markdown",
      "source": "- walkDistance : Total distance traveled on foot measured in meters."
    },
    {
      "metadata": {
        "trusted": true,
        "_uuid": "83e517aeb27fe0aa5117d49885bda5041f681dfc"
      },
      "cell_type": "code",
      "source": "f, ax = plt.subplots(figsize=(18, 8))\nsns.distplot(df_train['walkDistance'])",
      "execution_count": 28,
      "outputs": [
        {
          "output_type": "execute_result",
          "execution_count": 28,
          "data": {
            "text/plain": "<matplotlib.axes._subplots.AxesSubplot at 0x7f4cf4ca0ac8>"
          },
          "metadata": {}
        },
        {
          "output_type": "display_data",
          "data": {
            "text/plain": "<Figure size 1296x576 with 1 Axes>",
            "image/png": "[encoded data removed]"
          },
          "metadata": {
            "needs_background": "light"
          }
        }
      ]
    },
    {
      "metadata": {
        "_uuid": "1f1b9a8d3bd793950fd7697329cb9bbaa8ef0d96"
      },
      "cell_type": "markdown",
      "source": "- rideDistance : Total distance traveled in vehicles measured in meters. The PUBG game is so wide that it is hard to walk around. So I ride around VEHICLE as shown in the picture below."
    },
    {
      "metadata": {
        "trusted": true,
        "_uuid": "e60499128cb71b0e21aa53167b1de55729b55d6d"
      },
      "cell_type": "code",
      "source": "f, ax = plt.subplots(figsize=(18, 8))\nsns.distplot(df_train['rideDistance'])",
      "execution_count": 29,
      "outputs": [
        {
          "output_type": "execute_result",
          "execution_count": 29,
          "data": {
            "text/plain": "<matplotlib.axes._subplots.AxesSubplot at 0x7f4ce971def0>"
          },
          "metadata": {}
        },
        {
          "output_type": "display_data",
          "data": {
            "text/plain": "<Figure size 1296x576 with 1 Axes>",
            "image/png": "[encoded data removed]"
          },
          "metadata": {
            "needs_background": "light"
          }
        }
      ]
    },
    {
      "metadata": {
        "_uuid": "750d45e7c33da57c09df153c62c27af58e8d425e"
      },
      "cell_type": "markdown",
      "source": "- swimDistance: Total distance traveled by swimming measured in meters. The map is wide, and there are some kind of river."
    },
    {
      "metadata": {
        "_uuid": "2f03ffe2deff18962e2d02d88edf22ebb71a8c05"
      },
      "cell_type": "markdown",
      "source": "- vehicleDestroys: Number of vehicles destroyed."
    },
    {
      "metadata": {
        "trusted": true,
        "_uuid": "36036923686da47b6ea8d994ba8d9a7224fc5d78"
      },
      "cell_type": "code",
      "source": "temp = df_train['vehicleDestroys'].value_counts().sort_values(ascending=False)\n\ntrace = go.Bar(\n    x = temp.index,\n    y = (temp),\n)\ndata = [trace]\nlayout = go.Layout(\n    title = \"\",\n    xaxis=dict(\n        title='vehicleDestroys',\n        tickfont=dict(\n            size=14,\n            color='rgb(107, 107, 107)'\n        )\n    ),\n    yaxis=dict(\n        title='Count of vehicleDestroys',\n        titlefont=dict(\n            size=16,\n            color='rgb(107, 107, 107)'\n        ),\n        tickfont=dict(\n            size=14,\n            color='rgb(107, 107, 107)'\n        )\n)\n)\nfig = go.Figure(data=data, layout=layout)\npy.iplot(fig, filename='schoolStateNames')",
      "execution_count": 30,
      "outputs": [
        {
          "output_type": "display_data",
          "data": {
            "application/vnd.plotly.v1+json": {
              "data": [
                {
                  "x": [
                    0,
                    1,
                    2,
                    3,
                    4,
                    5
                  ],
                  "y": [
                    4413212,
                    32422,
                    1223,
                    95,
                    11,
                    3
                  ],
                  "type": "bar",
                  "uid": "f263d00a-db95-11e8-a172-afa9c0d857b7"
                }
              ],
              "layout": {
                "title": "",
                "xaxis": {
                  "tickfont": {
                    "color": "rgb(107, 107, 107)",
                    "size": 14
                  },
                  "title": "vehicleDestroys"
                },
                "yaxis": {
                  "tickfont": {
                    "color": "rgb(107, 107, 107)",
                    "size": 14
                  },
                  "title": "Count of vehicleDestroys",
                  "titlefont": {
                    "color": "rgb(107, 107, 107)",
                    "size": 16
                  }
                }
              }
            },
            "text/html": "<div id=\"02a2ef50-0523-4e77-98e2-560af94ef2ab\" style=\"height: 525px; width: 100%;\" class=\"plotly-graph-div\"></div><script type=\"text/javascript\">require([\"plotly\"], function(Plotly) { window.PLOTLYENV=window.PLOTLYENV || {};window.PLOTLYENV.BASE_URL=\"https://plot.ly\";Plotly.newPlot(\"02a2ef50-0523-4e77-98e2-560af94ef2ab\", [{\"x\": [0, 1, 2, 3, 4, 5], \"y\": [4413212, 32422, 1223, 95, 11, 3], \"type\": \"bar\", \"uid\": \"f263d00a-db95-11e8-a172-afa9c0d857b7\"}], {\"title\": \"\", \"xaxis\": {\"tickfont\": {\"color\": \"rgb(107, 107, 107)\", \"size\": 14}, \"title\": \"vehicleDestroys\"}, \"yaxis\": {\"tickfont\": {\"color\": \"rgb(107, 107, 107)\", \"size\": 14}, \"title\": \"Count of vehicleDestroys\", \"titlefont\": {\"color\": \"rgb(107, 107, 107)\", \"size\": 16}}}, {\"showLink\": true, \"linkText\": \"Export to plot.ly\"})});</script>",
            "text/vnd.plotly.v1+html": "<div id=\"02a2ef50-0523-4e77-98e2-560af94ef2ab\" style=\"height: 525px; width: 100%;\" class=\"plotly-graph-div\"></div><script type=\"text/javascript\">require([\"plotly\"], function(Plotly) { window.PLOTLYENV=window.PLOTLYENV || {};window.PLOTLYENV.BASE_URL=\"https://plot.ly\";Plotly.newPlot(\"02a2ef50-0523-4e77-98e2-560af94ef2ab\", [{\"x\": [0, 1, 2, 3, 4, 5], \"y\": [4413212, 32422, 1223, 95, 11, 3], \"type\": \"bar\", \"uid\": \"f263d00a-db95-11e8-a172-afa9c0d857b7\"}], {\"title\": \"\", \"xaxis\": {\"tickfont\": {\"color\": \"rgb(107, 107, 107)\", \"size\": 14}, \"title\": \"vehicleDestroys\"}, \"yaxis\": {\"tickfont\": {\"color\": \"rgb(107, 107, 107)\", \"size\": 14}, \"title\": \"Count of vehicleDestroys\", \"titlefont\": {\"color\": \"rgb(107, 107, 107)\", \"size\": 16}}}, {\"showLink\": true, \"linkText\": \"Export to plot.ly\"})});</script>"
          },
          "metadata": {}
        }
      ]
    },
    {
      "metadata": {
        "trusted": true,
        "_uuid": "8a3d24631d90ecad2b2ce7d49208adc7acb3b653"
      },
      "cell_type": "code",
      "source": "df_train['vehicleDestroys'].value_counts()",
      "execution_count": 31,
      "outputs": [
        {
          "output_type": "execute_result",
          "execution_count": 31,
          "data": {
            "text/plain": "0    4413212\n1      32422\n2       1223\n3         95\n4         11\n5          3\nName: vehicleDestroys, dtype: int64"
          },
          "metadata": {}
        }
      ]
    },
    {
      "metadata": {
        "_uuid": "4b80d241b5a022997d8b9bb56d87d060fa9e3954"
      },
      "cell_type": "markdown",
      "source": "If you look at the above values, you will rarely destroy a vehicle. In fact, it is very natural. It is difficult to destroy the car. And there is no profit by destroying the car. Even so, the destruction of a car can be thought of in the following sense.\n\n- The enemy was in the car and shot the car.\n- The enemy hid the car in cover and shot the car.\n- He broke a car with no meaning.\n\nThe third reason is very important. When you play games, you can meet a lot of strange people."
    },
    {
      "metadata": {
        "_uuid": "f4c4ce21bdab3cc663d8785e4765ab71f2d86434"
      },
      "cell_type": "markdown",
      "source": "- weaponsAcquired : Number of weapons picked up. This game is a using gun , but it does not give a gun from the beginning. So you have to go around the map and look for weapons. In the process, you can also have heals, boosts and vehicles."
    },
    {
      "metadata": {
        "trusted": true,
        "_uuid": "80d7ff7d1505e76908e782dda023f3f8bf2197f1"
      },
      "cell_type": "code",
      "source": "temp = df_train['weaponsAcquired'].value_counts().sort_values(ascending=False)\n\ntrace = go.Bar(\n    x = temp.index,\n    y = (temp),\n)\ndata = [trace]\nlayout = go.Layout(\n    title = \"\",\n    xaxis=dict(\n        title='weaponsAcquired',\n        tickfont=dict(\n            size=14,\n            color='rgb(107, 107, 107)'\n        )\n    ),\n    yaxis=dict(\n        title='Count of weaponsAcquired',\n        titlefont=dict(\n            size=16,\n            color='rgb(107, 107, 107)'\n        ),\n        tickfont=dict(\n            size=14,\n            color='rgb(107, 107, 107)'\n        )\n)\n)\nfig = go.Figure(data=data, layout=layout)\npy.iplot(fig, filename='schoolStateNames')",
      "execution_count": 32,
      "outputs": [
        {
          "output_type": "display_data",
          "data": {
            "application/vnd.plotly.v1+json": {
              "data": [
                {
                  "x": [
                    2,
                    3,
                    4,
                    1,
                    5,
                    6,
                    7,
                    0,
                    8,
                    9,
                    10,
                    11,
                    12,
                    13,
                    14,
                    15,
                    16,
                    18,
                    17,
                    20,
                    19,
                    22,
                    21,
                    24,
                    26,
                    23,
                    25,
                    28,
                    27,
                    30,
                    29,
                    32,
                    31,
                    34,
                    33,
                    36,
                    35,
                    40,
                    38,
                    37,
                    41,
                    42,
                    39,
                    47,
                    44,
                    43,
                    45,
                    52,
                    46,
                    48,
                    50,
                    49,
                    54,
                    56,
                    60,
                    63,
                    59,
                    64,
                    51,
                    55,
                    53,
                    70,
                    66,
                    58,
                    62,
                    57,
                    72,
                    67,
                    61,
                    65,
                    73,
                    68,
                    95,
                    80,
                    96,
                    69,
                    78,
                    76,
                    177,
                    74,
                    75,
                    77,
                    81,
                    83,
                    85,
                    87,
                    88,
                    71,
                    92,
                    94,
                    97,
                    102,
                    128,
                    153,
                    167,
                    89,
                    236
                  ],
                  "y": [
                    768836,
                    768347,
                    689622,
                    580951,
                    540721,
                    369549,
                    226776,
                    226578,
                    128698,
                    68479,
                    35642,
                    18022,
                    9388,
                    4707,
                    2831,
                    1414,
                    1088,
                    640,
                    622,
                    491,
                    402,
                    331,
                    322,
                    306,
                    214,
                    212,
                    192,
                    177,
                    136,
                    128,
                    125,
                    110,
                    84,
                    78,
                    77,
                    65,
                    64,
                    47,
                    45,
                    41,
                    40,
                    33,
                    29,
                    25,
                    22,
                    20,
                    18,
                    16,
                    16,
                    14,
                    13,
                    13,
                    10,
                    10,
                    10,
                    8,
                    8,
                    8,
                    7,
                    7,
                    7,
                    6,
                    5,
                    5,
                    4,
                    4,
                    4,
                    3,
                    3,
                    3,
                    3,
                    3,
                    2,
                    2,
                    2,
                    2,
                    2,
                    2,
                    1,
                    1,
                    1,
                    1,
                    1,
                    1,
                    1,
                    1,
                    1,
                    1,
                    1,
                    1,
                    1,
                    1,
                    1,
                    1,
                    1,
                    1,
                    1
                  ],
                  "type": "bar",
                  "uid": "f27a2ad0-db95-11e8-a172-afa9c0d857b7"
                }
              ],
              "layout": {
                "title": "",
                "xaxis": {
                  "tickfont": {
                    "color": "rgb(107, 107, 107)",
                    "size": 14
                  },
                  "title": "weaponsAcquired"
                },
                "yaxis": {
                  "tickfont": {
                    "color": "rgb(107, 107, 107)",
                    "size": 14
                  },
                  "title": "Count of weaponsAcquired",
                  "titlefont": {
                    "color": "rgb(107, 107, 107)",
                    "size": 16
                  }
                }
              }
            },
            "text/html": "<div id=\"d4d1e21c-1641-4aa5-9ec2-3ee881593504\" style=\"height: 525px; width: 100%;\" class=\"plotly-graph-div\"></div><script type=\"text/javascript\">require([\"plotly\"], function(Plotly) { window.PLOTLYENV=window.PLOTLYENV || {};window.PLOTLYENV.BASE_URL=\"https://plot.ly\";Plotly.newPlot(\"d4d1e21c-1641-4aa5-9ec2-3ee881593504\", [{\"x\": [2, 3, 4, 1, 5, 6, 7, 0, 8, 9, 10, 11, 12, 13, 14, 15, 16, 18, 17, 20, 19, 22, 21, 24, 26, 23, 25, 28, 27, 30, 29, 32, 31, 34, 33, 36, 35, 40, 38, 37, 41, 42, 39, 47, 44, 43, 45, 52, 46, 48, 50, 49, 54, 56, 60, 63, 59, 64, 51, 55, 53, 70, 66, 58, 62, 57, 72, 67, 61, 65, 73, 68, 95, 80, 96, 69, 78, 76, 177, 74, 75, 77, 81, 83, 85, 87, 88, 71, 92, 94, 97, 102, 128, 153, 167, 89, 236], \"y\": [768836, 768347, 689622, 580951, 540721, 369549, 226776, 226578, 128698, 68479, 35642, 18022, 9388, 4707, 2831, 1414, 1088, 640, 622, 491, 402, 331, 322, 306, 214, 212, 192, 177, 136, 128, 125, 110, 84, 78, 77, 65, 64, 47, 45, 41, 40, 33, 29, 25, 22, 20, 18, 16, 16, 14, 13, 13, 10, 10, 10, 8, 8, 8, 7, 7, 7, 6, 5, 5, 4, 4, 4, 3, 3, 3, 3, 3, 2, 2, 2, 2, 2, 2, 1, 1, 1, 1, 1, 1, 1, 1, 1, 1, 1, 1, 1, 1, 1, 1, 1, 1, 1], \"type\": \"bar\", \"uid\": \"f27a2ad0-db95-11e8-a172-afa9c0d857b7\"}], {\"title\": \"\", \"xaxis\": {\"tickfont\": {\"color\": \"rgb(107, 107, 107)\", \"size\": 14}, \"title\": \"weaponsAcquired\"}, \"yaxis\": {\"tickfont\": {\"color\": \"rgb(107, 107, 107)\", \"size\": 14}, \"title\": \"Count of weaponsAcquired\", \"titlefont\": {\"color\": \"rgb(107, 107, 107)\", \"size\": 16}}}, {\"showLink\": true, \"linkText\": \"Export to plot.ly\"})});</script>",
            "text/vnd.plotly.v1+html": "<div id=\"d4d1e21c-1641-4aa5-9ec2-3ee881593504\" style=\"height: 525px; width: 100%;\" class=\"plotly-graph-div\"></div><script type=\"text/javascript\">require([\"plotly\"], function(Plotly) { window.PLOTLYENV=window.PLOTLYENV || {};window.PLOTLYENV.BASE_URL=\"https://plot.ly\";Plotly.newPlot(\"d4d1e21c-1641-4aa5-9ec2-3ee881593504\", [{\"x\": [2, 3, 4, 1, 5, 6, 7, 0, 8, 9, 10, 11, 12, 13, 14, 15, 16, 18, 17, 20, 19, 22, 21, 24, 26, 23, 25, 28, 27, 30, 29, 32, 31, 34, 33, 36, 35, 40, 38, 37, 41, 42, 39, 47, 44, 43, 45, 52, 46, 48, 50, 49, 54, 56, 60, 63, 59, 64, 51, 55, 53, 70, 66, 58, 62, 57, 72, 67, 61, 65, 73, 68, 95, 80, 96, 69, 78, 76, 177, 74, 75, 77, 81, 83, 85, 87, 88, 71, 92, 94, 97, 102, 128, 153, 167, 89, 236], \"y\": [768836, 768347, 689622, 580951, 540721, 369549, 226776, 226578, 128698, 68479, 35642, 18022, 9388, 4707, 2831, 1414, 1088, 640, 622, 491, 402, 331, 322, 306, 214, 212, 192, 177, 136, 128, 125, 110, 84, 78, 77, 65, 64, 47, 45, 41, 40, 33, 29, 25, 22, 20, 18, 16, 16, 14, 13, 13, 10, 10, 10, 8, 8, 8, 7, 7, 7, 6, 5, 5, 4, 4, 4, 3, 3, 3, 3, 3, 2, 2, 2, 2, 2, 2, 1, 1, 1, 1, 1, 1, 1, 1, 1, 1, 1, 1, 1, 1, 1, 1, 1, 1, 1], \"type\": \"bar\", \"uid\": \"f27a2ad0-db95-11e8-a172-afa9c0d857b7\"}], {\"title\": \"\", \"xaxis\": {\"tickfont\": {\"color\": \"rgb(107, 107, 107)\", \"size\": 14}, \"title\": \"weaponsAcquired\"}, \"yaxis\": {\"tickfont\": {\"color\": \"rgb(107, 107, 107)\", \"size\": 14}, \"title\": \"Count of weaponsAcquired\", \"titlefont\": {\"color\": \"rgb(107, 107, 107)\", \"size\": 16}}}, {\"showLink\": true, \"linkText\": \"Export to plot.ly\"})});</script>"
          },
          "metadata": {}
        }
      ]
    },
    {
      "metadata": {
        "_uuid": "8af327eabe8ae3192aa3dea4fbc13f9b2c409e43"
      },
      "cell_type": "markdown",
      "source": "There are many kinds of guns in the game. So, as you can see in the picture above, the number of times you pick up a gun is several times. but the big number like 76? does not mean the new gun acquired 76. just picked up the gun, dropped it and repeated it. (The reason behind this is almost every gun have 30 bullets in the gun, so to get the bullets the player could pick up the gun again and again but this 76 number is still strange. )"
    },
    {
      "metadata": {
        "_uuid": "0185062258c4cf989e3d69d82ecde009d14d7b89"
      },
      "cell_type": "markdown",
      "source": "## 5. LightGBM"
    },
    {
      "metadata": {
        "trusted": true,
        "_uuid": "9b1cb3450310cba667105c86af0a8128c5608c67"
      },
      "cell_type": "code",
      "source": "import os\nimport time\nimport gc\nimport warnings\nwarnings.filterwarnings(\"ignore\")\n# data manipulation\nimport json\nfrom pandas.io.json import json_normalize\nimport numpy as np\nimport pandas as pd\n# plot\nimport matplotlib.pyplot as plt\nimport seaborn as sns\ncolor = sns.color_palette()\n# model\nfrom sklearn.preprocessing import LabelEncoder\nfrom sklearn.model_selection import KFold\nfrom sklearn.metrics import mean_squared_error\nfrom sklearn.metrics import mean_absolute_error\nimport lightgbm as lgb",
      "execution_count": 33,
      "outputs": []
    },
    {
      "metadata": {
        "trusted": true,
        "_uuid": "89089dd3a8a7294654af51327cb0c00749cbc0fe"
      },
      "cell_type": "code",
      "source": "train_idx = df_train.Id\ntest_idx = df_test.Id\ndf_train[\"winPlacePerc\"] = df_train[\"winPlacePerc\"].astype('float')\ntrain_y = df_train[\"winPlacePerc\"]\ntrain_target = df_train.groupby(\"Id\")[\"winPlacePerc\"].mean()\n\ny_train = df_train[\"winPlacePerc\"]\nx_train = df_train.drop([\"winPlacePerc\"], axis=1)\nx_test = df_test.copy()",
      "execution_count": 34,
      "outputs": []
    },
    {
      "metadata": {
        "trusted": true,
        "_uuid": "02e3eee1a318435eaa8785266f57eabb144907fb"
      },
      "cell_type": "code",
      "source": "folds = KFold(n_splits=5,random_state=6)\noof_preds = np.zeros(x_train.shape[0])\nsub_preds = np.zeros(x_test.shape[0])\n\nstart = time.time()\nvalid_score = 0\nfor n_fold, (trn_idx, val_idx) in enumerate(folds.split(x_train, y_train)):\n    trn_x, trn_y = x_train.iloc[trn_idx], y_train[trn_idx]\n    val_x, val_y = x_train.iloc[val_idx], y_train[val_idx]    \n    \n    train_data = lgb.Dataset(data=trn_x, label=trn_y)\n    valid_data = lgb.Dataset(data=val_x, label=val_y)\n    \n    params = {\"objective\" : \"regression\", \"metric\" : \"mae\", 'n_estimators':10000, 'early_stopping_rounds':100,\n              \"num_leaves\" : 30, \"learning_rate\" : 0.1, \"bagging_fraction\" : 0.9,\n               \"bagging_seed\" : 0}\n    \n    lgb_model = lgb.train(params, train_data, valid_sets=[train_data, valid_data], verbose_eval=1000) \n    \n    oof_preds[val_idx] = lgb_model.predict(val_x, num_iteration=lgb_model.best_iteration)\n    oof_preds[oof_preds>1] = 1\n    oof_preds[oof_preds<0] = 0\n    sub_pred = lgb_model.predict(x_test, num_iteration=lgb_model.best_iteration) / folds.n_splits\n    sub_pred[sub_pred>1] = 1 # should be greater or equal to 1\n    sub_pred[sub_pred<0] = 0 \n    sub_preds += sub_pred\n    print('Fold %2d RMSE : %.6f' % (n_fold + 1, mean_absolute_error(val_y, oof_preds[val_idx])))\n    valid_score += mean_absolute_error(val_y, oof_preds[val_idx])",
      "execution_count": 35,
      "outputs": [
        {
          "output_type": "error",
          "ename": "ValueError",
          "evalue": "DataFrame.dtypes for data must be int, float or bool.\nDid not expect the data types in fields Id, groupId, matchId, matchType",
          "traceback": [
            "\u001b[0;31m---------------------------------------------------------------------------\u001b[0m",
            "\u001b[0;31mValueError\u001b[0m                                Traceback (most recent call last)",
            "\u001b[0;32m<ipython-input-35-56e9a585a237>\u001b[0m in \u001b[0;36m<module>\u001b[0;34m\u001b[0m\n\u001b[1;32m     16\u001b[0m                \"bagging_seed\" : 0}\n\u001b[1;32m     17\u001b[0m \u001b[0;34m\u001b[0m\u001b[0m\n\u001b[0;32m---> 18\u001b[0;31m     \u001b[0mlgb_model\u001b[0m \u001b[0;34m=\u001b[0m \u001b[0mlgb\u001b[0m\u001b[0;34m.\u001b[0m\u001b[0mtrain\u001b[0m\u001b[0;34m(\u001b[0m\u001b[0mparams\u001b[0m\u001b[0;34m,\u001b[0m \u001b[0mtrain_data\u001b[0m\u001b[0;34m,\u001b[0m \u001b[0mvalid_sets\u001b[0m\u001b[0;34m=\u001b[0m\u001b[0;34m[\u001b[0m\u001b[0mtrain_data\u001b[0m\u001b[0;34m,\u001b[0m \u001b[0mvalid_data\u001b[0m\u001b[0;34m]\u001b[0m\u001b[0;34m,\u001b[0m \u001b[0mverbose_eval\u001b[0m\u001b[0;34m=\u001b[0m\u001b[0;36m1000\u001b[0m\u001b[0;34m)\u001b[0m\u001b[0;34m\u001b[0m\u001b[0m\n\u001b[0m\u001b[1;32m     19\u001b[0m \u001b[0;34m\u001b[0m\u001b[0m\n\u001b[1;32m     20\u001b[0m     \u001b[0moof_preds\u001b[0m\u001b[0;34m[\u001b[0m\u001b[0mval_idx\u001b[0m\u001b[0;34m]\u001b[0m \u001b[0;34m=\u001b[0m \u001b[0mlgb_model\u001b[0m\u001b[0;34m.\u001b[0m\u001b[0mpredict\u001b[0m\u001b[0;34m(\u001b[0m\u001b[0mval_x\u001b[0m\u001b[0;34m,\u001b[0m \u001b[0mnum_iteration\u001b[0m\u001b[0;34m=\u001b[0m\u001b[0mlgb_model\u001b[0m\u001b[0;34m.\u001b[0m\u001b[0mbest_iteration\u001b[0m\u001b[0;34m)\u001b[0m\u001b[0;34m\u001b[0m\u001b[0m\n",
            "\u001b[0;32m/opt/conda/lib/python3.6/site-packages/lightgbm/engine.py\u001b[0m in \u001b[0;36mtrain\u001b[0;34m(params, train_set, num_boost_round, valid_sets, valid_names, fobj, feval, init_model, feature_name, categorical_feature, early_stopping_rounds, evals_result, verbose_eval, learning_rates, keep_training_booster, callbacks)\u001b[0m\n\u001b[1;32m    190\u001b[0m     \u001b[0;31m# construct booster\u001b[0m\u001b[0;34m\u001b[0m\u001b[0;34m\u001b[0m\u001b[0m\n\u001b[1;32m    191\u001b[0m     \u001b[0;32mtry\u001b[0m\u001b[0;34m:\u001b[0m\u001b[0;34m\u001b[0m\u001b[0m\n\u001b[0;32m--> 192\u001b[0;31m         \u001b[0mbooster\u001b[0m \u001b[0;34m=\u001b[0m \u001b[0mBooster\u001b[0m\u001b[0;34m(\u001b[0m\u001b[0mparams\u001b[0m\u001b[0;34m=\u001b[0m\u001b[0mparams\u001b[0m\u001b[0;34m,\u001b[0m \u001b[0mtrain_set\u001b[0m\u001b[0;34m=\u001b[0m\u001b[0mtrain_set\u001b[0m\u001b[0;34m)\u001b[0m\u001b[0;34m\u001b[0m\u001b[0m\n\u001b[0m\u001b[1;32m    193\u001b[0m         \u001b[0;32mif\u001b[0m \u001b[0mis_valid_contain_train\u001b[0m\u001b[0;34m:\u001b[0m\u001b[0;34m\u001b[0m\u001b[0m\n\u001b[1;32m    194\u001b[0m             \u001b[0mbooster\u001b[0m\u001b[0;34m.\u001b[0m\u001b[0mset_train_data_name\u001b[0m\u001b[0;34m(\u001b[0m\u001b[0mtrain_data_name\u001b[0m\u001b[0;34m)\u001b[0m\u001b[0;34m\u001b[0m\u001b[0m\n",
            "\u001b[0;32m/opt/conda/lib/python3.6/site-packages/lightgbm/basic.py\u001b[0m in \u001b[0;36m__init__\u001b[0;34m(self, params, train_set, model_file, silent)\u001b[0m\n\u001b[1;32m   1485\u001b[0m             \u001b[0mself\u001b[0m\u001b[0;34m.\u001b[0m\u001b[0mhandle\u001b[0m \u001b[0;34m=\u001b[0m \u001b[0mctypes\u001b[0m\u001b[0;34m.\u001b[0m\u001b[0mc_void_p\u001b[0m\u001b[0;34m(\u001b[0m\u001b[0;34m)\u001b[0m\u001b[0;34m\u001b[0m\u001b[0m\n\u001b[1;32m   1486\u001b[0m             _safe_call(_LIB.LGBM_BoosterCreate(\n\u001b[0;32m-> 1487\u001b[0;31m                 \u001b[0mtrain_set\u001b[0m\u001b[0;34m.\u001b[0m\u001b[0mconstruct\u001b[0m\u001b[0;34m(\u001b[0m\u001b[0;34m)\u001b[0m\u001b[0;34m.\u001b[0m\u001b[0mhandle\u001b[0m\u001b[0;34m,\u001b[0m\u001b[0;34m\u001b[0m\u001b[0m\n\u001b[0m\u001b[1;32m   1488\u001b[0m                 \u001b[0mc_str\u001b[0m\u001b[0;34m(\u001b[0m\u001b[0mparams_str\u001b[0m\u001b[0;34m)\u001b[0m\u001b[0;34m,\u001b[0m\u001b[0;34m\u001b[0m\u001b[0m\n\u001b[1;32m   1489\u001b[0m                 ctypes.byref(self.handle)))\n",
            "\u001b[0;32m/opt/conda/lib/python3.6/site-packages/lightgbm/basic.py\u001b[0m in \u001b[0;36mconstruct\u001b[0;34m(self)\u001b[0m\n\u001b[1;32m    983\u001b[0m                                 \u001b[0minit_score\u001b[0m\u001b[0;34m=\u001b[0m\u001b[0mself\u001b[0m\u001b[0;34m.\u001b[0m\u001b[0minit_score\u001b[0m\u001b[0;34m,\u001b[0m \u001b[0mpredictor\u001b[0m\u001b[0;34m=\u001b[0m\u001b[0mself\u001b[0m\u001b[0;34m.\u001b[0m\u001b[0m_predictor\u001b[0m\u001b[0;34m,\u001b[0m\u001b[0;34m\u001b[0m\u001b[0m\n\u001b[1;32m    984\u001b[0m                                 \u001b[0msilent\u001b[0m\u001b[0;34m=\u001b[0m\u001b[0mself\u001b[0m\u001b[0;34m.\u001b[0m\u001b[0msilent\u001b[0m\u001b[0;34m,\u001b[0m \u001b[0mfeature_name\u001b[0m\u001b[0;34m=\u001b[0m\u001b[0mself\u001b[0m\u001b[0;34m.\u001b[0m\u001b[0mfeature_name\u001b[0m\u001b[0;34m,\u001b[0m\u001b[0;34m\u001b[0m\u001b[0m\n\u001b[0;32m--> 985\u001b[0;31m                                 categorical_feature=self.categorical_feature, params=self.params)\n\u001b[0m\u001b[1;32m    986\u001b[0m             \u001b[0;32mif\u001b[0m \u001b[0mself\u001b[0m\u001b[0;34m.\u001b[0m\u001b[0mfree_raw_data\u001b[0m\u001b[0;34m:\u001b[0m\u001b[0;34m\u001b[0m\u001b[0m\n\u001b[1;32m    987\u001b[0m                 \u001b[0mself\u001b[0m\u001b[0;34m.\u001b[0m\u001b[0mdata\u001b[0m \u001b[0;34m=\u001b[0m \u001b[0;32mNone\u001b[0m\u001b[0;34m\u001b[0m\u001b[0m\n",
            "\u001b[0;32m/opt/conda/lib/python3.6/site-packages/lightgbm/basic.py\u001b[0m in \u001b[0;36m_lazy_init\u001b[0;34m(self, data, label, reference, weight, group, init_score, predictor, silent, feature_name, categorical_feature, params)\u001b[0m\n\u001b[1;32m    707\u001b[0m                                                                                              \u001b[0mfeature_name\u001b[0m\u001b[0;34m,\u001b[0m\u001b[0;34m\u001b[0m\u001b[0m\n\u001b[1;32m    708\u001b[0m                                                                                              \u001b[0mcategorical_feature\u001b[0m\u001b[0;34m,\u001b[0m\u001b[0;34m\u001b[0m\u001b[0m\n\u001b[0;32m--> 709\u001b[0;31m                                                                                              self.pandas_categorical)\n\u001b[0m\u001b[1;32m    710\u001b[0m         \u001b[0mlabel\u001b[0m \u001b[0;34m=\u001b[0m \u001b[0m_label_from_pandas\u001b[0m\u001b[0;34m(\u001b[0m\u001b[0mlabel\u001b[0m\u001b[0;34m)\u001b[0m\u001b[0;34m\u001b[0m\u001b[0m\n\u001b[1;32m    711\u001b[0m         \u001b[0mself\u001b[0m\u001b[0;34m.\u001b[0m\u001b[0mdata_has_header\u001b[0m \u001b[0;34m=\u001b[0m \u001b[0;32mFalse\u001b[0m\u001b[0;34m\u001b[0m\u001b[0m\n",
            "\u001b[0;32m/opt/conda/lib/python3.6/site-packages/lightgbm/basic.py\u001b[0m in \u001b[0;36m_data_from_pandas\u001b[0;34m(data, feature_name, categorical_feature, pandas_categorical)\u001b[0m\n\u001b[1;32m    276\u001b[0m             msg = (\"DataFrame.dtypes for data must be int, float or bool.\\n\"\n\u001b[1;32m    277\u001b[0m                    \"Did not expect the data types in fields \")\n\u001b[0;32m--> 278\u001b[0;31m             \u001b[0;32mraise\u001b[0m \u001b[0mValueError\u001b[0m\u001b[0;34m(\u001b[0m\u001b[0mmsg\u001b[0m \u001b[0;34m+\u001b[0m \u001b[0;34m', '\u001b[0m\u001b[0;34m.\u001b[0m\u001b[0mjoin\u001b[0m\u001b[0;34m(\u001b[0m\u001b[0mbad_fields\u001b[0m\u001b[0;34m)\u001b[0m\u001b[0;34m)\u001b[0m\u001b[0;34m\u001b[0m\u001b[0m\n\u001b[0m\u001b[1;32m    279\u001b[0m         \u001b[0mdata\u001b[0m \u001b[0;34m=\u001b[0m \u001b[0mdata\u001b[0m\u001b[0;34m.\u001b[0m\u001b[0mvalues\u001b[0m\u001b[0;34m.\u001b[0m\u001b[0mastype\u001b[0m\u001b[0;34m(\u001b[0m\u001b[0;34m'float'\u001b[0m\u001b[0;34m)\u001b[0m\u001b[0;34m\u001b[0m\u001b[0m\n\u001b[1;32m    280\u001b[0m     \u001b[0;32melse\u001b[0m\u001b[0;34m:\u001b[0m\u001b[0;34m\u001b[0m\u001b[0m\n",
            "\u001b[0;31mValueError\u001b[0m: DataFrame.dtypes for data must be int, float or bool.\nDid not expect the data types in fields Id, groupId, matchId, matchType"
          ]
        }
      ]
    },
    {
      "metadata": {
        "trusted": true,
        "_uuid": "940e686e825ba51633cc51c5e03bd297ff3a80e0"
      },
      "cell_type": "code",
      "source": "test_pred = pd.DataFrame({\"Id\":test_idx})\ntest_pred[\"winPlacePerc\"] = sub_preds\ntest_pred.columns = [\"Id\", \"winPlacePerc\"]\ntest_pred.to_csv(\"lgb_base_model.csv\", index=False) # submission",
      "execution_count": null,
      "outputs": []
    },
    {
      "metadata": {
        "trusted": true,
        "_uuid": "c543e4e4be3914fd3883549191034ea5a9d40de9"
      },
      "cell_type": "code",
      "source": "",
      "execution_count": null,
      "outputs": []
    },
    {
      "metadata": {
        "trusted": true,
        "_uuid": "469a4a737fc494614fd88d768914d209ab65cac6"
      },
      "cell_type": "code",
      "source": "",
      "execution_count": null,
      "outputs": []
    },
    {
      "metadata": {
        "trusted": true,
        "_uuid": "6b2ded17636769e7ff6f7b697eb96100ea657207"
      },
      "cell_type": "code",
      "source": "",
      "execution_count": null,
      "outputs": []
    },
    {
      "metadata": {
        "trusted": true,
        "_uuid": "8dd6d70d0a1f6beec15a0f312a89616b079a7d44"
      },
      "cell_type": "code",
      "source": "",
      "execution_count": null,
      "outputs": []
    },
    {
      "metadata": {
        "trusted": true,
        "_uuid": "ca93e29732f0dcd63edcc50bddcd0c63c7805c7f"
      },
      "cell_type": "code",
      "source": "",
      "execution_count": null,
      "outputs": []
    }
  ],
  "metadata": {
    "kernelspec": {
      "display_name": "Python 3",
      "language": "python",
      "name": "python3"
    },
    "language_info": {
      "name": "python",
      "version": "3.6.6",
      "mimetype": "text/x-python",
      "codemirror_mode": {
        "name": "ipython",
        "version": 3
      },
      "pygments_lexer": "ipython3",
      "nbconvert_exporter": "python",
      "file_extension": ".py"
    }
  },
  "nbformat": 4,
  "nbformat_minor": 1
}